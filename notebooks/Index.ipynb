{
 "cells": [
  {
   "cell_type": "markdown",
   "metadata": {},
   "source": [
    "# AIMS Scientific Python Workshop <img src=\"images/python-logo-master-v3-TM.png\" align='right'>"
   ]
  },
  {
   "cell_type": "markdown",
   "metadata": {},
   "source": [
    "## Day 1\n",
    "\n",
    "* Learning Python\n",
    "* [An Introduction to IPython and Jupyter](IPython and Jupyter.ipynb)\n",
    "* [NumPy](NumPy.ipynb)\n",
    "* [Plotting and Visualization in Python](Plotting and Visualization.ipynb)\n",
    "\n",
    "---\n",
    "\n",
    "## Day 2\n",
    "\n",
    "* [Introduction to pandas](Introduction to Pandas.ipynb)\n",
    "* [Data Wrangling with pandas](Data Wrangling with Pandas.ipynb)\n",
    "* Python for Data Analysis\n",
    "\n",
    "---\n",
    "\n",
    "## Day 3\n",
    "\n",
    "### Machine Learning\n",
    "\n",
    "### Bayesian Modeling\n",
    "\n"
   ]
  }
 ],
 "metadata": {
  "kernelspec": {
   "display_name": "Python 3",
   "language": "python",
   "name": "python3"
  },
  "language_info": {
   "codemirror_mode": {
    "name": "ipython",
    "version": 3
   },
   "file_extension": ".py",
   "mimetype": "text/x-python",
   "name": "python",
   "nbconvert_exporter": "python",
   "pygments_lexer": "ipython3",
   "version": "3.5.1"
  }
 },
 "nbformat": 4,
 "nbformat_minor": 1
}
