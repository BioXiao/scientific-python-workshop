{
 "cells": [
  {
   "cell_type": "markdown",
   "metadata": {},
   "source": [
    "# AIMS Scientific Python Workshop <img src=\"images/python-logo-master-v3-TM.png\" align='right'>"
   ]
  },
  {
   "cell_type": "markdown",
   "metadata": {},
   "source": [
    "## Day 1\n",
    "\n",
    "* Learning Python:\n",
    "    + [Introduction to Python](Introduction to Python.ipynb)\n",
    "    + [Programming with Python](Programming with Python.ipynb)\n",
    "* [An Introduction to IPython and Jupyter](IPython and Jupyter.ipynb)\n",
    "* [NumPy](Introduction to NumPy.ipynb)\n",
    "* [Plotting and Visualization in Python](Matplotlib.ipynb)\n",
    "\n",
    "---\n",
    "\n",
    "## Day 2\n",
    "\n",
    "* [Introduction to pandas](Introduction to Pandas.ipynb)\n",
    "* [Data Wrangling with pandas](Data Wrangling with Pandas.ipynb)\n",
    "* Python for Data Analysis: \n",
    "    + [Statistical Data Modeling](Statistical Data Modeling.ipynb)\n",
    "    + [Regression Modeling](Regression Modeling.ipynb)\n",
    "    + [Resampling Methods and Missing Data](Resampling Methods and Missing Data.ipynb)\n",
    "* [High-level Plotting](High-level Plotting.ipynb)\n",
    "\n",
    "---\n",
    "\n",
    "## Day 3\n",
    "\n",
    "* [Introduction to scikit-learn](Scikit Learn.ipynb)\n",
    "* [Supervised learning: Decision Trees](Decision Trees.ipynb)\n",
    "* [Unsupervised learning: Clustering](Clustering.ipynb)\n"
   ]
  },
  {
   "cell_type": "code",
   "execution_count": null,
   "metadata": {
    "collapsed": true
   },
   "outputs": [],
   "source": []
  }
 ],
 "metadata": {
  "kernelspec": {
   "display_name": "Python 3",
   "language": "python",
   "name": "python3"
  },
  "language_info": {
   "codemirror_mode": {
    "name": "ipython",
    "version": 3
   },
   "file_extension": ".py",
   "mimetype": "text/x-python",
   "name": "python",
   "nbconvert_exporter": "python",
   "pygments_lexer": "ipython3",
   "version": "3.5.1"
  }
 },
 "nbformat": 4,
 "nbformat_minor": 1
}
