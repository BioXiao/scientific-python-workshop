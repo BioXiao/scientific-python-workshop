{
 "cells": [
  {
   "cell_type": "markdown",
   "metadata": {},
   "source": [
    "# Adelaide Scientific Python Workshop <img src=\"images/python-logo-master-v3-TM.png\" align='right'>"
   ]
  },
  {
   "cell_type": "markdown",
   "metadata": {},
   "source": [
    "* Learning Python:\n",
    "    + [Introduction to Python](Introduction to Python.ipynb)\n",
    "    + [Programming with Python](Programming with Python.ipynb)\n",
    "* [An Introduction to IPython and Jupyter](IPython and Jupyter.ipynb)\n",
    "* [NumPy](Introduction to NumPy.ipynb)\n",
    "* [Plotting and Visualization in Python](Matplotlib.ipynb)\n",
    "\n",
    "* [Introduction to pandas](Introduction to Pandas.ipynb)\n",
    "* [Data Wrangling with pandas](Data Wrangling with Pandas.ipynb)\n",
    "* Statistical Analysis with Python\n",
    "  + [Statistical Data Modeling](Statistical Data Modeling.ipynb)\n",
    "  + [Regression Modeling](Regression Modeling.ipynb)\n",
    "  + [Resampling Methods and Missing Data](Resampling Methods and Missing Data.ipynb)\n",
    "* [High-level Plotting](High-level Plotting.ipynb)\n",
    "\n",
    "\n",
    "* [Introduction to Bayes](Introduction to Bayes.ipynb)\n",
    "* [Bayesian Computation](Bayesian Computation.ipynb)\n",
    "* [Introduction to PyMC](Introduction to PyMC.ipynb)\n",
    "* [Model Building with PyMC](Model Building with PyMC.ipynb)\n",
    "* [Model Checking](Model Checking.ipynb)\n",
    "\n",
    "\n",
    "* [Introduction to Scikit-learn](Scikit Learn.ipynb)\n",
    "* [Clustering](Clustering.ipynb)\n",
    "* [Decision Trees](Decision Trees.ipynb)\n",
    "* [Model Selection and Validation](Model Selection and Validation.ipynb)"
   ]
  }
 ],
 "metadata": {
  "kernelspec": {
   "display_name": "Python 3",
   "language": "python",
   "name": "python3"
  },
  "language_info": {
   "codemirror_mode": {
    "name": "ipython",
    "version": 3
   },
   "file_extension": ".py",
   "mimetype": "text/x-python",
   "name": "python",
   "nbconvert_exporter": "python",
   "pygments_lexer": "ipython3",
   "version": "3.5.1"
  },
  "widgets": {
   "state": {},
   "version": "1.0.0"
  }
 },
 "nbformat": 4,
 "nbformat_minor": 1
}
