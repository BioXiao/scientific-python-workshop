{
 "cells": [
  {
   "cell_type": "markdown",
   "metadata": {},
   "source": [
    "# Plotting and Visualization"
   ]
  },
  {
   "cell_type": "code",
   "execution_count": 1,
   "metadata": {
    "collapsed": false
   },
   "outputs": [],
   "source": [
    "import numpy as np\n",
    "import pandas as pd\n",
    "import matplotlib as mpl  # used sparingly\n",
    "import matplotlib.pyplot as plt"
   ]
  },
  {
   "cell_type": "code",
   "execution_count": 2,
   "metadata": {
    "collapsed": true
   },
   "outputs": [],
   "source": [
    "pd.set_option(\"notebook_repr_html\", False)\n",
    "pd.set_option(\"max_rows\", 10)"
   ]
  },
  {
   "cell_type": "markdown",
   "metadata": {},
   "source": [
    "## Landscape of Plotting Libraries"
   ]
  },
  {
   "cell_type": "markdown",
   "metadata": {},
   "source": [
    "* [matplotlib](http://matplotlib.org/)\n",
    "  * pandas\n",
    "  * [seaborn](http://stanford.edu/~mwaskom/software/seaborn/)\n",
    "* [mpld3](http://mpld3.github.io/)\n",
    "  * \"Bringing matplotlib to the browser\"\n",
    "* [d3py](https://github.com/mikedewar/d3py)\n",
    "  * \"a plotting library for python based on d3.\"\n",
    "* [mayavi](http://docs.enthought.com/mayavi/mayavi/)\n",
    "  * \"seeks to provide easy and interactive visualization of 3D data.\"\n",
    "* [ggplot](https://github.com/yhat/ggplot)\n",
    "  * \"Yes, it's another port of ggplot2.\"\n",
    "* [bokeh](http://bokeh.pydata.org/en/latest/)\n",
    "  * \"Bokeh is a Python interactive visualization library that targets modern web browsers for presentation.\"\n",
    "* mpl_toolkits\n",
    "  * [basemap](http://matplotlib.org/basemap/)\n",
    "  * [mplot3d](http://matplotlib.org/1.4.3/mpl_toolkits/mplot3d/index.html)  "
   ]
  },
  {
   "cell_type": "markdown",
   "metadata": {},
   "source": [
    "## Matplotlib Orientation"
   ]
  },
  {
   "cell_type": "markdown",
   "metadata": {},
   "source": [
    "### Introduction"
   ]
  },
  {
   "cell_type": "markdown",
   "metadata": {},
   "source": [
    "* Matplotlib is the *de facto* standard for plotting in Python\n",
    "* Understanding matplotlib is key to unlocking its power"
   ]
  },
  {
   "cell_type": "markdown",
   "metadata": {},
   "source": [
    "### Online Documentation"
   ]
  },
  {
   "cell_type": "markdown",
   "metadata": {},
   "source": [
    "* Project web site is [here](http://matplotlib.org/)\n",
    "* Examples [online](http://matplotlib.org/examples/index.html) and also in the [source code](https://github.com/matplotlib/matplotlib/tree/master/examples)\n",
    "* API documentation is [here](http://matplotlib.org/api/index.html)\n",
    "* The [FAQ](http://matplotlib.org/faq/index.html) may answer some of your questions\n",
    "* Get to know the [gallery](http://matplotlib.org/gallery.html)"
   ]
  },
  {
   "cell_type": "markdown",
   "metadata": {},
   "source": [
    "### Getting Help"
   ]
  },
  {
   "cell_type": "markdown",
   "metadata": {},
   "source": [
    "* First stop should be the [gallery](http://matplotlib.org/gallery.html)\n",
    "* Next stop could be [stackoverflow](https://stackoverflow.com/questions/tagged/matplotlib)\n",
    "* There's also a [mailing list](http://sourceforge.net/p/matplotlib/mailman/)\n",
    "* This notebook draws heavily from the following sources [E.g., [1](https://github.com/WeatherGod/AnatomyOfMatplotlib), [2](https://scipy-lectures.github.io/intro/matplotlib/matplotlib.html#matplotlib-plotting), [3](https://github.com/fonnesbeck/statistical-analysis-python-tutorial/blob/master/3.%20Plotting%20and%20Visualization.ipynb)]"
   ]
  },
  {
   "cell_type": "markdown",
   "metadata": {},
   "source": [
    "### Notebook specifics"
   ]
  },
  {
   "cell_type": "code",
   "execution_count": 3,
   "metadata": {
    "collapsed": false
   },
   "outputs": [],
   "source": [
    "%matplotlib inline"
   ]
  },
  {
   "cell_type": "markdown",
   "metadata": {},
   "source": [
    "### Backends"
   ]
  },
  {
   "cell_type": "markdown",
   "metadata": {},
   "source": [
    "* Potential uses of matplotlib\n",
    "  * interactively from python shell/IPython\n",
    "  * Embed in a GUI\n",
    "  * Generate postscript images in batch scripts\n",
    "  * In a web application to serve graphs\n",
    "* Each of these use cases is enabled by using a backend\n",
    "* Two types\n",
    "  * User interface / Interactive (for use in pygtk, wxpython, tkinter, qt4, or macosx)\n",
    "  * Hard copy / Non-interactive (PNG, SVG, PDF, PS)\n",
    "* Set your backend in your `matplotlibrc`\n",
    "* Or with the `use` function (before importing `pyplot`\n",
    "\n",
    "```python\n",
    "from matplotlib import use\n",
    "use('PS')  # postscript\n",
    "```"
   ]
  },
  {
   "cell_type": "markdown",
   "metadata": {},
   "source": [
    "### Configuration"
   ]
  },
  {
   "cell_type": "markdown",
   "metadata": {},
   "source": [
    "* See [Customizing Matplotlib](http://matplotlib.org/users/customizing.html) for more information\n",
    "* You can edit your `matplotlibrc` to change the matplotlib defaults"
   ]
  },
  {
   "cell_type": "code",
   "execution_count": 4,
   "metadata": {
    "collapsed": false
   },
   "outputs": [
    {
     "data": {
      "text/plain": [
       "'/Users/fonnescj/anaconda3/lib/python3.5/site-packages/matplotlib/mpl-data/matplotlibrc'"
      ]
     },
     "execution_count": 4,
     "metadata": {},
     "output_type": "execute_result"
    }
   ],
   "source": [
    "from matplotlib import matplotlib_fname\n",
    "matplotlib_fname()"
   ]
  },
  {
   "cell_type": "markdown",
   "metadata": {},
   "source": [
    "* [This](http://www.huyng.com/posts/sane-color-scheme-for-matplotlib/) has a popular one\n",
    "* Take a look at the [Seaborn project](https://www.stanford.edu/~mwaskom/software/seaborn/tutorial/aesthetics.html). More on that later."
   ]
  },
  {
   "cell_type": "markdown",
   "metadata": {},
   "source": [
    "You can also change them dynamically using the global rcParams object"
   ]
  },
  {
   "cell_type": "code",
   "execution_count": 5,
   "metadata": {
    "collapsed": false
   },
   "outputs": [],
   "source": [
    "from matplotlib import rcParams"
   ]
  },
  {
   "cell_type": "code",
   "execution_count": 6,
   "metadata": {
    "collapsed": false
   },
   "outputs": [
    {
     "data": {
      "text/plain": [
       "['agg.path.chunksize',\n",
       " 'animation.avconv_args',\n",
       " 'animation.avconv_path',\n",
       " 'animation.bitrate',\n",
       " 'animation.codec',\n",
       " 'animation.convert_args',\n",
       " 'animation.convert_path',\n",
       " 'animation.ffmpeg_args',\n",
       " 'animation.ffmpeg_path',\n",
       " 'animation.frame_format',\n",
       " 'animation.html',\n",
       " 'animation.mencoder_args',\n",
       " 'animation.mencoder_path',\n",
       " 'animation.writer',\n",
       " 'axes.axisbelow',\n",
       " 'axes.edgecolor',\n",
       " 'axes.facecolor',\n",
       " 'axes.formatter.limits',\n",
       " 'axes.formatter.use_locale',\n",
       " 'axes.formatter.use_mathtext',\n",
       " 'axes.formatter.useoffset',\n",
       " 'axes.grid',\n",
       " 'axes.grid.axis',\n",
       " 'axes.grid.which',\n",
       " 'axes.hold',\n",
       " 'axes.labelcolor',\n",
       " 'axes.labelpad',\n",
       " 'axes.labelsize',\n",
       " 'axes.labelweight',\n",
       " 'axes.linewidth',\n",
       " 'axes.prop_cycle',\n",
       " 'axes.spines.bottom',\n",
       " 'axes.spines.left',\n",
       " 'axes.spines.right',\n",
       " 'axes.spines.top',\n",
       " 'axes.titlesize',\n",
       " 'axes.titleweight',\n",
       " 'axes.unicode_minus',\n",
       " 'axes.xmargin',\n",
       " 'axes.ymargin',\n",
       " 'axes3d.grid',\n",
       " 'backend',\n",
       " 'backend.qt4',\n",
       " 'backend.qt5',\n",
       " 'backend_fallback',\n",
       " 'boxplot.bootstrap',\n",
       " 'boxplot.boxprops.color',\n",
       " 'boxplot.boxprops.linestyle',\n",
       " 'boxplot.boxprops.linewidth',\n",
       " 'boxplot.capprops.color',\n",
       " 'boxplot.capprops.linestyle',\n",
       " 'boxplot.capprops.linewidth',\n",
       " 'boxplot.flierprops.color',\n",
       " 'boxplot.flierprops.linestyle',\n",
       " 'boxplot.flierprops.linewidth',\n",
       " 'boxplot.flierprops.marker',\n",
       " 'boxplot.flierprops.markeredgecolor',\n",
       " 'boxplot.flierprops.markerfacecolor',\n",
       " 'boxplot.flierprops.markersize',\n",
       " 'boxplot.meanline',\n",
       " 'boxplot.meanprops.color',\n",
       " 'boxplot.meanprops.linestyle',\n",
       " 'boxplot.meanprops.linewidth',\n",
       " 'boxplot.medianprops.color',\n",
       " 'boxplot.medianprops.linestyle',\n",
       " 'boxplot.medianprops.linewidth',\n",
       " 'boxplot.notch',\n",
       " 'boxplot.patchartist',\n",
       " 'boxplot.showbox',\n",
       " 'boxplot.showcaps',\n",
       " 'boxplot.showfliers',\n",
       " 'boxplot.showmeans',\n",
       " 'boxplot.vertical',\n",
       " 'boxplot.whiskerprops.color',\n",
       " 'boxplot.whiskerprops.linestyle',\n",
       " 'boxplot.whiskerprops.linewidth',\n",
       " 'boxplot.whiskers',\n",
       " 'contour.corner_mask',\n",
       " 'contour.negative_linestyle',\n",
       " 'datapath',\n",
       " 'docstring.hardcopy',\n",
       " 'errorbar.capsize',\n",
       " 'examples.directory',\n",
       " 'figure.autolayout',\n",
       " 'figure.dpi',\n",
       " 'figure.edgecolor',\n",
       " 'figure.facecolor',\n",
       " 'figure.figsize',\n",
       " 'figure.frameon',\n",
       " 'figure.max_open_warning',\n",
       " 'figure.subplot.bottom',\n",
       " 'figure.subplot.hspace',\n",
       " 'figure.subplot.left',\n",
       " 'figure.subplot.right',\n",
       " 'figure.subplot.top',\n",
       " 'figure.subplot.wspace',\n",
       " 'figure.titlesize',\n",
       " 'figure.titleweight',\n",
       " 'font.cursive',\n",
       " 'font.family',\n",
       " 'font.fantasy',\n",
       " 'font.monospace',\n",
       " 'font.sans-serif',\n",
       " 'font.serif',\n",
       " 'font.size',\n",
       " 'font.stretch',\n",
       " 'font.style',\n",
       " 'font.variant',\n",
       " 'font.weight',\n",
       " 'grid.alpha',\n",
       " 'grid.color',\n",
       " 'grid.linestyle',\n",
       " 'grid.linewidth',\n",
       " 'image.aspect',\n",
       " 'image.cmap',\n",
       " 'image.composite_image',\n",
       " 'image.interpolation',\n",
       " 'image.lut',\n",
       " 'image.origin',\n",
       " 'image.resample',\n",
       " 'interactive',\n",
       " 'keymap.all_axes',\n",
       " 'keymap.back',\n",
       " 'keymap.forward',\n",
       " 'keymap.fullscreen',\n",
       " 'keymap.grid',\n",
       " 'keymap.home',\n",
       " 'keymap.pan',\n",
       " 'keymap.quit',\n",
       " 'keymap.save',\n",
       " 'keymap.xscale',\n",
       " 'keymap.yscale',\n",
       " 'keymap.zoom',\n",
       " 'legend.borderaxespad',\n",
       " 'legend.borderpad',\n",
       " 'legend.columnspacing',\n",
       " 'legend.edgecolor',\n",
       " 'legend.facecolor',\n",
       " 'legend.fancybox',\n",
       " 'legend.fontsize',\n",
       " 'legend.framealpha',\n",
       " 'legend.frameon',\n",
       " 'legend.handleheight',\n",
       " 'legend.handlelength',\n",
       " 'legend.handletextpad',\n",
       " 'legend.isaxes',\n",
       " 'legend.labelspacing',\n",
       " 'legend.loc',\n",
       " 'legend.markerscale',\n",
       " 'legend.numpoints',\n",
       " 'legend.scatterpoints',\n",
       " 'legend.shadow',\n",
       " 'lines.antialiased',\n",
       " 'lines.color',\n",
       " 'lines.dash_capstyle',\n",
       " 'lines.dash_joinstyle',\n",
       " 'lines.linestyle',\n",
       " 'lines.linewidth',\n",
       " 'lines.marker',\n",
       " 'lines.markeredgewidth',\n",
       " 'lines.markersize',\n",
       " 'lines.solid_capstyle',\n",
       " 'lines.solid_joinstyle',\n",
       " 'markers.fillstyle',\n",
       " 'mathtext.bf',\n",
       " 'mathtext.cal',\n",
       " 'mathtext.default',\n",
       " 'mathtext.fallback_to_cm',\n",
       " 'mathtext.fontset',\n",
       " 'mathtext.it',\n",
       " 'mathtext.rm',\n",
       " 'mathtext.sf',\n",
       " 'mathtext.tt',\n",
       " 'nbagg.transparent',\n",
       " 'patch.antialiased',\n",
       " 'patch.edgecolor',\n",
       " 'patch.facecolor',\n",
       " 'patch.linewidth',\n",
       " 'path.effects',\n",
       " 'path.simplify',\n",
       " 'path.simplify_threshold',\n",
       " 'path.sketch',\n",
       " 'path.snap',\n",
       " 'pdf.compression',\n",
       " 'pdf.fonttype',\n",
       " 'pdf.inheritcolor',\n",
       " 'pdf.use14corefonts',\n",
       " 'pgf.debug',\n",
       " 'pgf.preamble',\n",
       " 'pgf.rcfonts',\n",
       " 'pgf.texsystem',\n",
       " 'plugins.directory',\n",
       " 'polaraxes.grid',\n",
       " 'ps.distiller.res',\n",
       " 'ps.fonttype',\n",
       " 'ps.papersize',\n",
       " 'ps.useafm',\n",
       " 'ps.usedistiller',\n",
       " 'savefig.bbox',\n",
       " 'savefig.directory',\n",
       " 'savefig.dpi',\n",
       " 'savefig.edgecolor',\n",
       " 'savefig.facecolor',\n",
       " 'savefig.format',\n",
       " 'savefig.frameon',\n",
       " 'savefig.jpeg_quality',\n",
       " 'savefig.orientation',\n",
       " 'savefig.pad_inches',\n",
       " 'savefig.transparent',\n",
       " 'svg.fonttype',\n",
       " 'svg.image_inline',\n",
       " 'svg.image_noscale',\n",
       " 'text.antialiased',\n",
       " 'text.color',\n",
       " 'text.dvipnghack',\n",
       " 'text.hinting',\n",
       " 'text.hinting_factor',\n",
       " 'text.latex.preamble',\n",
       " 'text.latex.preview',\n",
       " 'text.latex.unicode',\n",
       " 'text.usetex',\n",
       " 'timezone',\n",
       " 'tk.window_focus',\n",
       " 'toolbar',\n",
       " 'verbose.fileo',\n",
       " 'verbose.level',\n",
       " 'webagg.open_in_browser',\n",
       " 'webagg.port',\n",
       " 'webagg.port_retries',\n",
       " 'xtick.color',\n",
       " 'xtick.direction',\n",
       " 'xtick.labelsize',\n",
       " 'xtick.major.pad',\n",
       " 'xtick.major.size',\n",
       " 'xtick.major.width',\n",
       " 'xtick.minor.pad',\n",
       " 'xtick.minor.size',\n",
       " 'xtick.minor.visible',\n",
       " 'xtick.minor.width',\n",
       " 'ytick.color',\n",
       " 'ytick.direction',\n",
       " 'ytick.labelsize',\n",
       " 'ytick.major.pad',\n",
       " 'ytick.major.size',\n",
       " 'ytick.major.width',\n",
       " 'ytick.minor.pad',\n",
       " 'ytick.minor.size',\n",
       " 'ytick.minor.visible',\n",
       " 'ytick.minor.width']"
      ]
     },
     "execution_count": 6,
     "metadata": {},
     "output_type": "execute_result"
    }
   ],
   "source": [
    "rcParams.keys()"
   ]
  },
  {
   "cell_type": "code",
   "execution_count": 7,
   "metadata": {
    "collapsed": false
   },
   "outputs": [
    {
     "data": {
      "text/plain": [
       "['sans-serif']"
      ]
     },
     "execution_count": 7,
     "metadata": {},
     "output_type": "execute_result"
    }
   ],
   "source": [
    "rcParams['font.family']"
   ]
  },
  {
   "cell_type": "code",
   "execution_count": 8,
   "metadata": {
    "collapsed": false
   },
   "outputs": [],
   "source": [
    "rcParams['font.family'] = 'monospace'"
   ]
  },
  {
   "cell_type": "code",
   "execution_count": 9,
   "metadata": {
    "collapsed": false
   },
   "outputs": [
    {
     "data": {
      "text/plain": [
       "['monospace']"
      ]
     },
     "execution_count": 9,
     "metadata": {},
     "output_type": "execute_result"
    }
   ],
   "source": [
    "rcParams['font.family']"
   ]
  },
  {
   "cell_type": "code",
   "execution_count": 10,
   "metadata": {
    "collapsed": false
   },
   "outputs": [],
   "source": [
    "rcParams['font.family'] = 'sans-serif'"
   ]
  },
  {
   "cell_type": "markdown",
   "metadata": {},
   "source": [
    "You can also use the `rc_context` context manager"
   ]
  },
  {
   "cell_type": "code",
   "execution_count": 11,
   "metadata": {
    "collapsed": false
   },
   "outputs": [],
   "source": [
    "from matplotlib import rc_context"
   ]
  },
  {
   "cell_type": "code",
   "execution_count": 12,
   "metadata": {
    "collapsed": false
   },
   "outputs": [
    {
     "name": "stdout",
     "output_type": "stream",
     "text": [
      "['monospace']\n"
     ]
    }
   ],
   "source": [
    "with rc_context({'font.family': 'monospace'}):\n",
    "    print(rcParams['font.family'])"
   ]
  },
  {
   "cell_type": "code",
   "execution_count": 13,
   "metadata": {
    "collapsed": false
   },
   "outputs": [
    {
     "name": "stdout",
     "output_type": "stream",
     "text": [
      "['sans-serif']\n"
     ]
    }
   ],
   "source": [
    "print(rcParams['font.family'])"
   ]
  },
  {
   "cell_type": "markdown",
   "metadata": {},
   "source": [
    "## Interactive Plotting with PyPlot"
   ]
  },
  {
   "cell_type": "markdown",
   "metadata": {},
   "source": [
    "* Interative backends allow plotting to the screen\n",
    "* **Interactive mode** plots to the screen without calls to `show`\n",
    "* Interactive mode does not require using pyplot\n",
    "* Doing the following at the interpreter will show a plot"
   ]
  },
  {
   "cell_type": "markdown",
   "metadata": {},
   "source": [
    "```python\n",
    "import matplotlib.pyplot as plt\n",
    "plt.ion()\n",
    "plt.plot([1, 2, 3, 4, 5])\n",
    "plt.title(\"Title\")\n",
    "```"
   ]
  },
  {
   "cell_type": "markdown",
   "metadata": {},
   "source": [
    "* At IPython interpreter enable interactive with (or set it in `matplotlibrc`\n",
    "\n",
    "```python\n",
    "import matplotlib.pyplot as plt\n",
    "plt.ion()\n",
    "```\n",
    "\n",
    "or with\n",
    "\n",
    "```\n",
    "from matplotlib import interactive\n",
    "interactive()\n",
    "```"
   ]
  },
  {
   "cell_type": "code",
   "execution_count": 14,
   "metadata": {
    "collapsed": false
   },
   "outputs": [],
   "source": [
    "import matplotlib.pyplot as plt"
   ]
  },
  {
   "cell_type": "code",
   "execution_count": 15,
   "metadata": {
    "collapsed": false
   },
   "outputs": [
    {
     "data": {
      "text/plain": [
       "<matplotlib.text.Text at 0x1075836a0>"
      ]
     },
     "execution_count": 15,
     "metadata": {},
     "output_type": "execute_result"
    },
    {
     "data": {
      "image/png": "[encoded data removed]",
      "text/plain": [
       "<matplotlib.figure.Figure at 0x1074f2e10>"
      ]
     },
     "metadata": {},
     "output_type": "display_data"
    }
   ],
   "source": [
    "plt.plot([1, 2, 3, 4])\n",
    "plt.title(\"Title\")\n",
    "plt.xlabel(\"X\")"
   ]
  },
  {
   "cell_type": "markdown",
   "metadata": {},
   "source": [
    "* If using object method calls, you must call `draw` or `draw_if_interactive` to see changes\n",
    "* Again, this is unnecessary in the notebook"
   ]
  },
  {
   "cell_type": "code",
   "execution_count": 16,
   "metadata": {
    "collapsed": false
   },
   "outputs": [
    {
     "data": {
      "image/png": "[encoded data removed]",
      "text/plain": [
       "<matplotlib.figure.Figure at 0x109e26e10>"
      ]
     },
     "metadata": {},
     "output_type": "display_data"
    }
   ],
   "source": [
    "fig, ax = plt.subplots()\n",
    "ax.plot([1, 2, 3, 4, 5])\n",
    "ax.set_title(\"Title\")\n",
    "plt.draw_if_interactive()"
   ]
  },
  {
   "cell_type": "markdown",
   "metadata": {},
   "source": [
    "* By default the `plot` method takes x values, then y values\n",
    "* If the y values are omitted, then it is assumed that the x values are the indices of the given values"
   ]
  },
  {
   "cell_type": "code",
   "execution_count": 17,
   "metadata": {
    "collapsed": false
   },
   "outputs": [
    {
     "data": {
      "text/plain": [
       "[<matplotlib.lines.Line2D at 0x109fdecc0>]"
      ]
     },
     "execution_count": 17,
     "metadata": {},
     "output_type": "execute_result"
    },
    {
     "data": {
      "image/png": "[encoded data removed]",
      "text/plain": [
       "<matplotlib.figure.Figure at 0x109e2bf98>"
      ]
     },
     "metadata": {},
     "output_type": "display_data"
    }
   ],
   "source": [
    "plt.plot([1, 5, 3])"
   ]
  },
  {
   "cell_type": "markdown",
   "metadata": {},
   "source": [
    "#### What is the `pyplot` namespace?\n",
    "\n",
    "* It's where everything comes together\n",
    "* Usually where you want to start\n",
    "* Broadly, 3 categories of functions\n",
    "* **Plotting preparation**\n",
    "* **Plotting functions**\n",
    "* **Plot modifiers**"
   ]
  },
  {
   "cell_type": "markdown",
   "metadata": {},
   "source": [
    "## Plotting Preparation\n",
    "\n",
    "Function          | Description                                                                                \n",
    ":-----------------|:----------------------------------------------------------\n",
    "`autoscale`       | Autoscale the axis view to the data (toggle).\n",
    "`axes`            | Add an axes to the figure.                                                                 \n",
    "`axis`            | Convenience method to get or set axis properties.\n",
    "`cla`             | Clear the current axes.                                                                    \n",
    "`clf`             | Clear the current figure.                                                                  \n",
    "`clim`            | Set the color limits of the current image.                                                 \n",
    "`delaxes`         | Remove an axes from the current figure.                                                    \n",
    "`locator_params`  | Control behavior of tick locators.                                                         \n",
    "`margins`         | Set or retrieve autoscaling margins.\n",
    "`figure`          | Creates a new figure.                                                                      \n",
    "`gca`             | Return the current axis instance.                                                          \n",
    "`gcf`             | Return a reference to the current figure.                                                  \n",
    "`gci`             | Get the current colorable artist.                                                          \n",
    "`hold`            | Set the hold state.                                                                        \n",
    "`ioff`            | Turn interactive mode off.                                                                 \n",
    "`ion`             | Turn interactive mode on.                                                                  \n",
    "`ishold`          | Return the hold status of the current axes.                                                \n",
    "`isinteractive`   | Return status of interactive mode.                                                         \n",
    "`rc`              | Set the current rc params.                                                                 \n",
    "`rc_context`      | Return a context manager for managing rc settings.                                         \n",
    "`rcdefaults`      | Restore the default rc params.                                                             \n",
    "`savefig`         | Save the current figure.                                                                   \n",
    "`sca`             | Set the current Axes instance.                                                     \n",
    "`sci`             | Set the current image.                                                                     \n",
    "`set_cmap`        | Set the default colormap\n",
    "`setp`            | Set a property on an artist object\n",
    "`show`            | Display a figure\n",
    "`subplot`         | Return a subplot axes positioned by the given grid definition.                             \n",
    "`subplot2grid`    | Create a subplot in a grid.                                                                \n",
    "`subplot_tool`    | Launch a subplot tool window for a figure.                                                 \n",
    "`subplots`        | Create a figure with a set of subplots already made.                                       \n",
    "`subplots_adjust` | Tune the subplot layout.                                                                   \n",
    "`switch_backend`  | Switch the default backend.                                                                \n",
    "`tick_params`     | Change the appearance of ticks and tick labels.                                            \n",
    "`ticklabel_format`| Change the ScalarFormatter used by default for linear axes.           \n",
    "`tight_layout`    | Automatically adjust subplot parameters to give specified padding.                         \n",
    "`xkcd`            | Turns on [XKCD](http://xkcd.com/) sketch-style drawing mode.                             \n",
    "`xlabel`          | Set the *x* axis label of the current axis.                                                \n",
    "`xlim`            | Get or set the *x* limits of the current axes.                                             \n",
    "`xscale`          | Set the scaling of the *x*-axis.                                                           \n",
    "`xticks`          | Get or set the *x*-limits of the current tick locations and labels.                        \n",
    "`ylabel`          | Set the *y* axis label of the current axis.                                                \n",
    "`ylim`            | Get or set the *y*-limits of the current axes.                                             \n",
    "`yscale`          | Set the scaling of the *y*-axis.                                                           \n",
    "`yticks`          | Get or set the *y*-limits of the current tick locations and labels.                        \n",
    "\n",
    "## Plotting Functions\n",
    "\n",
    "Function          | Description\n",
    ":-----------------|:--------------------------------------------\n",
    "`acorr`           | Plot the autocorrelation of *x*\n",
    "`bar`             | Make a bar plot\n",
    "`barbs`           | Plot a 2-D field of barbs\n",
    "`barh`            | Make a horizontal bar plot\n",
    "`boxplot`         | Make a box and whisker plot\n",
    "`broken_barh`     | Plot horizontal bars\n",
    "`cohere`          | Plot the coherence between *x* and *y*\n",
    "`contour`         | Plot contours\n",
    "`contourf`        | Plot filled contours\n",
    "`csd`             | Plot cross-spectral density\n",
    "`errorbar`        | Plot an errorbar graph\n",
    "`eventplot`       | Plot identical parallel lines at specific positions\n",
    "`fill`            | Plot filled polygons\n",
    "`fill_between`    | Make filled polygons between two curves\n",
    "`fill_betweenx`   | Make filled polygons between two horizontal curves\n",
    "`hexbin`          | Make a hexagonal binning plot\n",
    "`hist`            | Plot a histogram\n",
    "`hist2d`          | Make a 2D histogram plot\n",
    "`imshow`          | Display an image on the axes\n",
    "`loglog`          | Make a plot with log scaling on both the *x* and *y* axis\n",
    "`matshow`         | Display an array as a matrix in a new figure window\n",
    "`pcolor`          | Create a pseudocolor plot of a 2-D array\n",
    "`pcolormesh`      | Plot a quadrilateral mesh\n",
    "`pie`             | Plot a pie chart\n",
    "`plot`            | Plot lines and/or markers\n",
    "`plot_date`       | Plot with data with dates\n",
    "`polar`           | Make a polar plot\n",
    "`psd`             | Plot the power spectral density\n",
    "`quiver`          | Plot a 2-D field of arrows\n",
    "`scatter`         | Make a scatter plot of x vs y\n",
    "`semilogx`        | Make a plot with log scaling on the *x* axis \n",
    "`semilogy`        | Make a plot with log scaling on the *y* axis\n",
    "`specgram`        | Plot a spectrogram\n",
    "`spy`             | Plot the sparsity pattern on a 2-D array\n",
    "`stackplot`       | Draws a stacked area plot\n",
    "`stem`            | Create a stem plot\n",
    "`step`            | Make a step plot\n",
    "`streamplot`      | Draws streamlines of a vector flow\n",
    "`tricontour`      | Draw contours on an unstructured triangular grid\n",
    "`tricontourf`     | Draw filled contours on an unstructured triangular grid\n",
    "`tripcolor`       | Create a pseudocolor plot of an unstructured triangular grid\n",
    "`triplot`         | Draw a unstructured triangular grid as lines and/or markers\n",
    "`xcorr`           | Plot the cross-correlation between *x* and *y*\n",
    "\n",
    "## Plot modifiers\n",
    "\n",
    "Function          | Description                                                                                \n",
    ":-----------------|:---------------------------------------------------------------------\n",
    "`annotate`        | Create an annotation: a piece of text referring to a data point\n",
    "`arrow`           | Add an arrow to the axes\n",
    "`axhline`         | Add a horizontal line across the axis\n",
    "`axhspan`         | Add a horizontal span (rectangle) across the axis\n",
    "`axvline`         | Add a vertical line across the axes\n",
    "`axvspan`         | Add a vertical span (rectangle) across the axes\n",
    "`box`             | Turn the axes box on or off\n",
    "`clabel`          | Label a contour plot\n",
    "`colorbar`        | Add a colorbar to a plot\n",
    "`grid`            | Turn the axes grids on or off\n",
    "`hlines`          | Plot horizontal lines\n",
    "`legend`          | Place a legend on the current axes\n",
    "`minorticks_off`  | Remove minor ticks from the current plot\n",
    "`minorticks_on`   | Display minor ticks on the current plot\n",
    "`quiverkey`       | Add a key to a quiver plot\n",
    "`rgrids`          | Get or set the radial gridlines on a polar plot\n",
    "`suptitle`        | Add a centered title to the figure\n",
    "`table`           | Add a table to the current axes\n",
    "`text`            | Add text to the axes\n",
    "`title`           | Set a title of the current axes\n",
    "`vlines`          | Plot vertical lines\n",
    "`xlabel`          | Set the *x* axis label of the current axis\n",
    "`ylabel`          | Set the *y* axis label of the current axis\""
   ]
  },
  {
   "cell_type": "markdown",
   "metadata": {},
   "source": [
    "## Figures"
   ]
  },
  {
   "cell_type": "markdown",
   "metadata": {},
   "source": [
    "* The `Figure` is the central object of matplotlib\n",
    "* It is the GUI window that contains the plot "
   ]
  },
  {
   "cell_type": "code",
   "execution_count": 18,
   "metadata": {
    "collapsed": false
   },
   "outputs": [],
   "source": [
    "plt.Figure?"
   ]
  },
  {
   "cell_type": "code",
   "execution_count": 19,
   "metadata": {
    "collapsed": false
   },
   "outputs": [],
   "source": [
    "fig = plt.Figure()"
   ]
  },
  {
   "cell_type": "markdown",
   "metadata": {},
   "source": [
    "* Close the last made Figure, by default"
   ]
  },
  {
   "cell_type": "code",
   "execution_count": 20,
   "metadata": {
    "collapsed": false
   },
   "outputs": [],
   "source": [
    "plt.close()  "
   ]
  },
  {
   "cell_type": "markdown",
   "metadata": {},
   "source": [
    "* You can also refer to figures by their number starting at 1\n",
    "* `plt.close('all')` is handy"
   ]
  },
  {
   "cell_type": "markdown",
   "metadata": {},
   "source": [
    "* One of the most commonly used option used to create a Figure is `figsize`, a tuple of integers specifying the width and height in inches"
   ]
  },
  {
   "cell_type": "code",
   "execution_count": 21,
   "metadata": {
    "collapsed": false
   },
   "outputs": [
    {
     "data": {
      "text/plain": [
       "<matplotlib.figure.Figure at 0x109fc0198>"
      ]
     },
     "metadata": {},
     "output_type": "display_data"
    }
   ],
   "source": [
    "fig = plt.figure(figsize=(5, 5))"
   ]
  },
  {
   "cell_type": "markdown",
   "metadata": {},
   "source": [
    "## Axes"
   ]
  },
  {
   "cell_type": "markdown",
   "metadata": {},
   "source": [
    "* The **Axes** object is contained within and belongs to a figure \n",
    "* This is where the plotting happens\n",
    "* You will interact with the Axes most often\n",
    "* Use the `add_subplot` method to put an axes on a figure\n",
    "* It takes the shorthand for n_rows, n_cols, plot_number"
   ]
  },
  {
   "cell_type": "code",
   "execution_count": 22,
   "metadata": {
    "collapsed": false
   },
   "outputs": [
    {
     "data": {
      "image/png": "[encoded data removed]",
      "text/plain": [
       "<matplotlib.figure.Figure at 0x109ff9c50>"
      ]
     },
     "metadata": {},
     "output_type": "display_data"
    }
   ],
   "source": [
    "fig = plt.figure()\n",
    "ax = fig.add_subplot(111)\n",
    "lines = ax.plot([1, 2, 3])\n",
    "text = ax.set_xlabel(\"X\")"
   ]
  },
  {
   "cell_type": "markdown",
   "metadata": {},
   "source": [
    "* You may have guessed that you can have more than one axes on a plot"
   ]
  },
  {
   "cell_type": "code",
   "execution_count": 23,
   "metadata": {
    "collapsed": false
   },
   "outputs": [
    {
     "data": {
      "text/plain": [
       "[<matplotlib.lines.Line2D at 0x10a498860>]"
      ]
     },
     "execution_count": 23,
     "metadata": {},
     "output_type": "execute_result"
    },
    {
     "data": {
      "image/png": "[encoded data removed]",
      "text/plain": [
       "<matplotlib.figure.Figure at 0x10a224a20>"
      ]
     },
     "metadata": {},
     "output_type": "display_data"
    }
   ],
   "source": [
    "fig = plt.figure(figsize=(10, 5))\n",
    "ax1 = fig.add_subplot(121)\n",
    "ax1.plot([1, 2, 3])\n",
    "\n",
    "ax2 = fig.add_subplot(122)\n",
    "ax2.plot([3, 2, 1])"
   ]
  },
  {
   "cell_type": "markdown",
   "metadata": {},
   "source": [
    "## Library Plotting"
   ]
  },
  {
   "cell_type": "markdown",
   "metadata": {},
   "source": [
    "* You'll notice above that I stopped using `plt` for almost everything but figure creation\n",
    "* This is usually how I use matplotlib and allows the most flexible, powerful usage\n",
    "* In fact, most calls functions in the `pyplot` namespace call `gca` to get the current axis and then delegate to the method of the Axes object"
   ]
  },
  {
   "cell_type": "code",
   "execution_count": 24,
   "metadata": {
    "collapsed": false
   },
   "outputs": [],
   "source": [
    "plt.xlabel??"
   ]
  },
  {
   "cell_type": "markdown",
   "metadata": {},
   "source": [
    "* You'll also notice that I assign the returns from the matplotlib object method calls to variables\n",
    "* This is a good habit to get in and we will see why below"
   ]
  },
  {
   "cell_type": "markdown",
   "metadata": {},
   "source": [
    "* One last handy function is `plt.subplots`\n",
    "* It's almost all I ever use from the `plt` namespace with a few exceptions"
   ]
  },
  {
   "cell_type": "code",
   "execution_count": 25,
   "metadata": {
    "collapsed": false
   },
   "outputs": [
    {
     "data": {
      "text/plain": [
       "<matplotlib.collections.PathCollection at 0x10a6fbf98>"
      ]
     },
     "execution_count": 25,
     "metadata": {},
     "output_type": "execute_result"
    },
    {
     "data": {
      "image/png": "[encoded data removed]",
      "text/plain": [
       "<matplotlib.figure.Figure at 0x10a4b3400>"
      ]
     },
     "metadata": {},
     "output_type": "display_data"
    }
   ],
   "source": [
    "fig, ax = plt.subplots(figsize=(8, 6))\n",
    "ax.scatter(np.random.randn(20), np.random.randn(20))"
   ]
  },
  {
   "cell_type": "markdown",
   "metadata": {},
   "source": [
    "**Notebook aside**\n",
    "\n",
    "You can work on figures across cells. Just make the existing figure object the last line in the cell."
   ]
  },
  {
   "cell_type": "code",
   "execution_count": 26,
   "metadata": {
    "collapsed": false
   },
   "outputs": [
    {
     "data": {
      "text/plain": [
       "<matplotlib.collections.PathCollection at 0x10a823978>"
      ]
     },
     "execution_count": 26,
     "metadata": {},
     "output_type": "execute_result"
    },
    {
     "data": {
      "image/png": "[encoded data removed]",
      "text/plain": [
       "<matplotlib.figure.Figure at 0x109fc0438>"
      ]
     },
     "metadata": {},
     "output_type": "display_data"
    }
   ],
   "source": [
    "fig, ax = plt.subplots(figsize=(8, 6))\n",
    "ax.scatter(np.random.randn(20), np.random.randn(20))"
   ]
  },
  {
   "cell_type": "code",
   "execution_count": 27,
   "metadata": {
    "collapsed": false
   },
   "outputs": [
    {
     "data": {
      "image/png": "[encoded data removed]",
      "text/plain": [
       "<matplotlib.figure.Figure at 0x109fc0438>"
      ]
     },
     "execution_count": 27,
     "metadata": {},
     "output_type": "execute_result"
    }
   ],
   "source": [
    "ax.scatter(np.random.randn(20), np.random.randn(20), color='r')\n",
    "fig"
   ]
  },
  {
   "cell_type": "markdown",
   "metadata": {},
   "source": [
    "**Exercise**\n",
    "\n",
    "Let's make some basic plots. Make a scatter plot as above with 500 points. Draw random numbers from 0 to 100 for the y axis and set the limits of the y axis at 0 and 200."
   ]
  },
  {
   "cell_type": "markdown",
   "metadata": {},
   "source": [
    "### Styling"
   ]
  },
  {
   "cell_type": "code",
   "execution_count": 28,
   "metadata": {
    "collapsed": false
   },
   "outputs": [],
   "source": [
    "plt.plot?"
   ]
  },
  {
   "cell_type": "markdown",
   "metadata": {},
   "source": [
    "#### Colors\n",
    "\n",
    "* Single letter shortcuts\n",
    "```\n",
    "    b: blue\n",
    "    g: green\n",
    "    r: red\n",
    "    c: cyan\n",
    "    m: magenta\n",
    "    y: yellow\n",
    "    k: black\n",
    "    w: white\n",
    "```\n",
    "\n",
    "* Shades of gray string float in the 0-1 range\n",
    "\n",
    "    color = '0.75'\n",
    "\n",
    "\n",
    "* HTML hex strings\n",
    "\n",
    "    color = '#eeefff'\n",
    "\n",
    "\n",
    "* R, G, B tuples with R, G, B in [0, 1]\n",
    "* HTML names for colors, like ‘red’, ‘burlywood’ and ‘chartreuse’"
   ]
  },
  {
   "cell_type": "markdown",
   "metadata": {},
   "source": [
    "#### Markers\n",
    "\n",
    "* See [here](http://matplotlib.org/api/markers_api.html#markers) for the full list\n",
    "* A few commonly used ones are\n",
    "\n",
    "```\n",
    "\".\":\tpoint\n",
    "\",\":\tpixel\n",
    "\"o\":\tcircle\n",
    "\"*\":\tstar\n",
    "\"+\":\tplus\n",
    "\"x\":\tx\n",
    "\"D”:\tdiamond\n",
    "```"
   ]
  },
  {
   "cell_type": "markdown",
   "metadata": {},
   "source": [
    "#### Linestyles\n",
    "\n",
    "```\n",
    "'-'\tsolid\n",
    "'--'\tdashed\n",
    "'-.'\tdash_dot\n",
    "':'\tdotted\n",
    "'None'\tdraw nothing\n",
    "' '\tdraw nothing\n",
    "''\tdraw nothing\n",
    "```"
   ]
  },
  {
   "cell_type": "markdown",
   "metadata": {},
   "source": [
    "**Exercises**\n",
    "\n",
    "Create a figure that holds two subplots in two rows. In the top one, plot a sin curve from $-2\\pi$ to $2\\pi$ in green. In the second one, plot a dashed red line (**Hint**: you may find `np.linspace` to be useful)."
   ]
  },
  {
   "cell_type": "code",
   "execution_count": 29,
   "metadata": {
    "collapsed": true
   },
   "outputs": [],
   "source": [
    "x = np.linspace(-2*np.pi, 2*np.pi, 100)"
   ]
  },
  {
   "cell_type": "code",
   "execution_count": 30,
   "metadata": {
    "collapsed": true
   },
   "outputs": [],
   "source": [
    "y = np.sin(x)"
   ]
  },
  {
   "cell_type": "code",
   "execution_count": 31,
   "metadata": {
    "collapsed": false
   },
   "outputs": [
    {
     "data": {
      "text/plain": [
       "[<matplotlib.lines.Line2D at 0x10a930a90>]"
      ]
     },
     "execution_count": 31,
     "metadata": {},
     "output_type": "execute_result"
    },
    {
     "data": {
      "image/png": "[encoded data removed]",
      "text/plain": [
       "<matplotlib.figure.Figure at 0x109ff60f0>"
      ]
     },
     "metadata": {},
     "output_type": "display_data"
    }
   ],
   "source": [
    "plt.plot(x, y)"
   ]
  },
  {
   "cell_type": "markdown",
   "metadata": {},
   "source": [
    "### Labels and Legends\n",
    "\n",
    "You can label many things in matplotlib"
   ]
  },
  {
   "cell_type": "markdown",
   "metadata": {},
   "source": [
    "Labeling lines allows automatic legend creation"
   ]
  },
  {
   "cell_type": "code",
   "execution_count": 32,
   "metadata": {
    "collapsed": false
   },
   "outputs": [
    {
     "data": {
      "image/png": "[encoded data removed]",
      "text/plain": [
       "<matplotlib.figure.Figure at 0x10a90a128>"
      ]
     },
     "metadata": {},
     "output_type": "display_data"
    }
   ],
   "source": [
    "fig, ax = plt.subplots(figsize=(8, 8))\n",
    "ax.plot([1, 2, 4, 5], label=\"Line 1\")\n",
    "ax.plot([2, 5, 3, 4], label=\"Line 2\")\n",
    "legend = ax.legend(loc='best', fontsize=20)"
   ]
  },
  {
   "cell_type": "markdown",
   "metadata": {},
   "source": [
    "You can label the X and Y axes"
   ]
  },
  {
   "cell_type": "code",
   "execution_count": 33,
   "metadata": {
    "collapsed": false
   },
   "outputs": [
    {
     "data": {
      "image/png": "[encoded data removed]",
      "text/plain": [
       "<matplotlib.figure.Figure at 0x10a9724e0>"
      ]
     },
     "metadata": {},
     "output_type": "display_data"
    }
   ],
   "source": [
    "fig, ax = plt.subplots(figsize=(8, 8))\n",
    "ax.plot([1, 2, 4, 5], label=\"Line 1\")\n",
    "ax.plot([2, 5, 3, 4], label=\"Line 2\")\n",
    "\n",
    "ax.set_xlabel(\"X\", fontsize=20)\n",
    "ax.set_ylabel(\"Y\", fontsize=20)\n",
    "legend = ax.legend(loc='best', fontsize=20)"
   ]
  },
  {
   "cell_type": "markdown",
   "metadata": {},
   "source": [
    "Label the axes with a title"
   ]
  },
  {
   "cell_type": "code",
   "execution_count": 34,
   "metadata": {
    "collapsed": false
   },
   "outputs": [
    {
     "data": {
      "image/png": "[encoded data removed]",
      "text/plain": [
       "<matplotlib.figure.Figure at 0x10abf0f60>"
      ]
     },
     "metadata": {},
     "output_type": "display_data"
    }
   ],
   "source": [
    "fig, ax = plt.subplots(figsize=(8, 8))\n",
    "ax.plot([1, 2, 4, 5], label=\"Line 1\")\n",
    "ax.plot([2, 5, 3, 4], label=\"Line 2\")\n",
    "\n",
    "ax.set_xlabel(\"X\", fontsize=20)\n",
    "ax.set_ylabel(\"Y\", fontsize=20)\n",
    "\n",
    "ax.set_title(\"Title\", fontsize=20)\n",
    "\n",
    "legend = ax.legend(loc='best', fontsize=20)"
   ]
  },
  {
   "cell_type": "markdown",
   "metadata": {},
   "source": [
    "### Ticks and Tick Labels"
   ]
  },
  {
   "cell_type": "markdown",
   "metadata": {},
   "source": [
    "* The Ticks are the location of the Tick labels\n",
    "* The Tick lines denote the Ticks\n",
    "* The Tick labels are the text accompanying the tick\n",
    "* A [Ticker](http://matplotlib.org/api/ticker_api.html#module-matplotlib.ticker) determines the ticks and their labels automatically\n",
    "* You can use `tick_params` to adjust the appearance of the ticks"
   ]
  },
  {
   "cell_type": "code",
   "execution_count": 35,
   "metadata": {
    "collapsed": false
   },
   "outputs": [
    {
     "data": {
      "image/png": "[encoded data removed]",
      "text/plain": [
       "<matplotlib.figure.Figure at 0x10ac586d8>"
      ]
     },
     "metadata": {},
     "output_type": "display_data"
    }
   ],
   "source": [
    "fig, ax = plt.subplots(figsize=(8, 8))\n",
    "ax.grid(False)\n",
    "ax.tick_params(axis='y', which='major', length=15, right=False)\n",
    "ax.tick_params(axis='x', which='major', length=15, top=False, direction=\"out\", pad=15)"
   ]
  },
  {
   "cell_type": "markdown",
   "metadata": {},
   "source": [
    "You can set your own tick labels"
   ]
  },
  {
   "cell_type": "code",
   "execution_count": 36,
   "metadata": {
    "collapsed": false
   },
   "outputs": [
    {
     "data": {
      "image/png": "[encoded data removed]",
      "text/plain": [
       "<matplotlib.figure.Figure at 0x10ac7fbe0>"
      ]
     },
     "metadata": {},
     "output_type": "display_data"
    }
   ],
   "source": [
    "fig, ax = plt.subplots(figsize=(8, 8))\n",
    "ax.grid(False)\n",
    "ax.tick_params(axis='y', which='major', length=15, right=False)\n",
    "ax.tick_params(axis='x', which='major', length=15, top=False)\n",
    "\n",
    "ticklabels = ax.xaxis.set_ticklabels(['aaaa', 'bbbb', 'cccc', \n",
    "                                      'dddd', 'eeee', 'ffff'],\n",
    "                                     rotation=45, fontsize=15)"
   ]
  },
  {
   "cell_type": "markdown",
   "metadata": {},
   "source": [
    "### Spines"
   ]
  },
  {
   "cell_type": "markdown",
   "metadata": {},
   "source": [
    "The spines are the boundaries of the axes, and they can be selectively turned off"
   ]
  },
  {
   "cell_type": "code",
   "execution_count": 37,
   "metadata": {
    "collapsed": false
   },
   "outputs": [
    {
     "data": {
      "text/plain": [
       "{'bottom': <matplotlib.spines.Spine at 0x10ac02ba8>,\n",
       " 'left': <matplotlib.spines.Spine at 0x10acc7780>,\n",
       " 'right': <matplotlib.spines.Spine at 0x10acc7da0>,\n",
       " 'top': <matplotlib.spines.Spine at 0x10ac022e8>}"
      ]
     },
     "execution_count": 37,
     "metadata": {},
     "output_type": "execute_result"
    }
   ],
   "source": [
    "ax.spines"
   ]
  },
  {
   "cell_type": "code",
   "execution_count": 38,
   "metadata": {
    "collapsed": false
   },
   "outputs": [
    {
     "data": {
      "image/png": "[encoded data removed]",
      "text/plain": [
       "<matplotlib.figure.Figure at 0x10ac897b8>"
      ]
     },
     "metadata": {},
     "output_type": "display_data"
    }
   ],
   "source": [
    "fig, ax = plt.subplots(figsize=(8, 8))\n",
    "\n",
    "ax.tick_params(bottom=False, top=False, left=False, right=False)\n",
    "\n",
    "ax.spines['top'].set_visible(False)\n",
    "ax.spines['right'].set_visible(False)\n",
    "ax.spines['bottom'].set_visible(False)\n",
    "ax.spines['left'].set_visible(False)\n",
    "\n",
    "ax.grid(False)\n",
    "\n",
    "ax.xaxis.set_ticklabels([])\n",
    "ax.yaxis.set_ticklabels([]);"
   ]
  },
  {
   "cell_type": "markdown",
   "metadata": {},
   "source": [
    "### More on plot\n",
    "\n",
    "The `plot` function is a bit of a work horse with a flexible API"
   ]
  },
  {
   "cell_type": "code",
   "execution_count": 39,
   "metadata": {
    "collapsed": false
   },
   "outputs": [],
   "source": [
    "x, y = np.random.randn(2, 100)\n",
    "x.sort()"
   ]
  },
  {
   "cell_type": "code",
   "execution_count": 40,
   "metadata": {
    "collapsed": false
   },
   "outputs": [
    {
     "data": {
      "text/plain": [
       "[<matplotlib.lines.Line2D at 0x109ea0908>]"
      ]
     },
     "execution_count": 40,
     "metadata": {},
     "output_type": "execute_result"
    },
    {
     "data": {
      "image/png": "[encoded data removed]",
      "text/plain": [
       "<matplotlib.figure.Figure at 0x109ea0940>"
      ]
     },
     "metadata": {},
     "output_type": "display_data"
    }
   ],
   "source": [
    "fig, ax = plt.subplots()\n",
    "ax.plot(y, 'g--')"
   ]
  },
  {
   "cell_type": "code",
   "execution_count": 41,
   "metadata": {
    "collapsed": false
   },
   "outputs": [
    {
     "data": {
      "text/plain": [
       "[<matplotlib.lines.Line2D at 0x10b7414a8>]"
      ]
     },
     "execution_count": 41,
     "metadata": {},
     "output_type": "execute_result"
    },
    {
     "data": {
      "image/png": "[encoded data removed]",
      "text/plain": [
       "<matplotlib.figure.Figure at 0x10b7412b0>"
      ]
     },
     "metadata": {},
     "output_type": "display_data"
    }
   ],
   "source": [
    "fig, ax = plt.subplots()\n",
    "ax.plot(x, y)"
   ]
  },
  {
   "cell_type": "code",
   "execution_count": 42,
   "metadata": {
    "collapsed": false
   },
   "outputs": [
    {
     "data": {
      "text/plain": [
       "[<matplotlib.lines.Line2D at 0x10b7bc400>]"
      ]
     },
     "execution_count": 42,
     "metadata": {},
     "output_type": "execute_result"
    },
    {
     "data": {
      "image/png": "[encoded data removed]",
      "text/plain": [
       "<matplotlib.figure.Figure at 0x10b7bc5c0>"
      ]
     },
     "metadata": {},
     "output_type": "display_data"
    }
   ],
   "source": [
    "fig, ax = plt.subplots()\n",
    "ax.plot(x, y, 'o')"
   ]
  },
  {
   "cell_type": "code",
   "execution_count": 43,
   "metadata": {
    "collapsed": false
   },
   "outputs": [],
   "source": [
    "x2, y2 = np.random.randn(2, 200)\n",
    "x2.sort()"
   ]
  },
  {
   "cell_type": "code",
   "execution_count": 44,
   "metadata": {
    "collapsed": false
   },
   "outputs": [
    {
     "data": {
      "image/png": "[encoded data removed]",
      "text/plain": [
       "<matplotlib.figure.Figure at 0x10b81d128>"
      ]
     },
     "metadata": {},
     "output_type": "display_data"
    }
   ],
   "source": [
    "fig, ax = plt.subplots()\n",
    "lines = ax.plot(x, y, 'o', x2, y2, 'ro', ms=8, alpha=.5)"
   ]
  },
  {
   "cell_type": "markdown",
   "metadata": {},
   "source": [
    "## Plotting in Pandas vs Matplotlib"
   ]
  },
  {
   "cell_type": "markdown",
   "metadata": {},
   "source": [
    "* Pandas provides a few accessors that allow you to stay fairly high-level without giving up any of the power and flexibility of matplotlib\n",
    "* `Series` and `DataFrame`s have a plot method\n",
    "* They take a `kind` keyword argument which accepts several values for plots other than the default line plot. These include:\n",
    "\n",
    "   * `bar` or `barh` for bar plots\n",
    "   * `hist` for histogram\n",
    "   * `box` for boxplot\n",
    "   * `kde` or 'density' for density plots\n",
    "   * `area` for area plots\n",
    "   * `scatter` for scatter plots\n",
    "   * `hexbin` for hexagonal bin plots\n",
    "   * `pie` for pie plots"
   ]
  },
  {
   "cell_type": "code",
   "execution_count": 45,
   "metadata": {
    "collapsed": false
   },
   "outputs": [
    {
     "data": {
      "text/plain": [
       "<matplotlib.axes._subplots.AxesSubplot at 0x10b914ef0>"
      ]
     },
     "execution_count": 45,
     "metadata": {},
     "output_type": "execute_result"
    },
    {
     "data": {
      "image/png": "[encoded data removed]",
      "text/plain": [
       "<matplotlib.figure.Figure at 0x10b81d160>"
      ]
     },
     "metadata": {},
     "output_type": "display_data"
    }
   ],
   "source": [
    "y = pd.Series(np.random.randn(25))\n",
    "y.plot()"
   ]
  },
  {
   "cell_type": "code",
   "execution_count": 46,
   "metadata": {
    "collapsed": false
   },
   "outputs": [
    {
     "data": {
      "text/plain": [
       "<matplotlib.axes._subplots.AxesSubplot at 0x10bbae4a8>"
      ]
     },
     "execution_count": 46,
     "metadata": {},
     "output_type": "execute_result"
    },
    {
     "data": {
      "image/png": "[encoded data removed]",
      "text/plain": [
       "<matplotlib.figure.Figure at 0x10b9c4eb8>"
      ]
     },
     "metadata": {},
     "output_type": "display_data"
    }
   ],
   "source": [
    "y.cumsum().plot()"
   ]
  },
  {
   "cell_type": "markdown",
   "metadata": {},
   "source": [
    "* Notice that these return `AxesSubplot` objects, so we have our hook in to all of the powerful methods from matplotlib"
   ]
  },
  {
   "cell_type": "markdown",
   "metadata": {},
   "source": [
    "* So, too, do `DataFrames`"
   ]
  },
  {
   "cell_type": "code",
   "execution_count": 47,
   "metadata": {
    "collapsed": false
   },
   "outputs": [
    {
     "data": {
      "image/png": "[encoded data removed]",
      "text/plain": [
       "<matplotlib.figure.Figure at 0x10bcae160>"
      ]
     },
     "metadata": {},
     "output_type": "display_data"
    }
   ],
   "source": [
    "dta = pd.DataFrame({'normal': np.random.normal(size=100), \n",
    "                    'gamma': np.random.gamma(1, size=100), \n",
    "                   'poisson': np.random.poisson(size=100)})\n",
    "ax = dta.cumsum(0).plot()"
   ]
  },
  {
   "cell_type": "markdown",
   "metadata": {},
   "source": [
    "**Exercise**\n",
    "\n",
    "Without re-plotting any of the above, re-size the fonts for the labels and the legend and display the figure."
   ]
  },
  {
   "cell_type": "markdown",
   "metadata": {},
   "source": [
    "* Alternatively, we can plot the above in separate subplots\n",
    "* We can also change the figsize"
   ]
  },
  {
   "cell_type": "code",
   "execution_count": 48,
   "metadata": {
    "collapsed": false
   },
   "outputs": [
    {
     "data": {
      "image/png": "[encoded data removed]",
      "text/plain": [
       "<matplotlib.figure.Figure at 0x10bce0198>"
      ]
     },
     "metadata": {},
     "output_type": "display_data"
    }
   ],
   "source": [
    "ax = dta.cumsum(0).plot(subplots=True, figsize=(10, 10))"
   ]
  },
  {
   "cell_type": "markdown",
   "metadata": {},
   "source": [
    "* These are just matplotlib objects\n",
    "* Note the use of [`tight_layout`](http://matplotlib.org/users/tight_layout_guide.html) below\n",
    "* `tight_layout` automatically adjusts the subplot params so that the subplot fits the figure\n",
    "* You can have more fine-grained control using \n",
    "\n",
    "```python\n",
    "fig.subplots_adjust\n",
    "```"
   ]
  },
  {
   "cell_type": "code",
   "execution_count": 49,
   "metadata": {
    "collapsed": false
   },
   "outputs": [
    {
     "data": {
      "image/png": "[encoded data removed]",
      "text/plain": [
       "<matplotlib.figure.Figure at 0x10bce0588>"
      ]
     },
     "metadata": {},
     "output_type": "display_data"
    }
   ],
   "source": [
    "axes = dta.cumsum(0).plot(subplots=True, figsize=(10, 10))\n",
    "fig = axes[0].figure\n",
    "fig.tight_layout()"
   ]
  },
  {
   "cell_type": "markdown",
   "metadata": {},
   "source": [
    "* We can easily add a secondary y-axis"
   ]
  },
  {
   "cell_type": "code",
   "execution_count": 50,
   "metadata": {
    "collapsed": false
   },
   "outputs": [
    {
     "data": {
      "image/png": "[encoded data removed]",
      "text/plain": [
       "<matplotlib.figure.Figure at 0x10c3d4780>"
      ]
     },
     "metadata": {},
     "output_type": "display_data"
    }
   ],
   "source": [
    "axes = dta.cumsum().plot(secondary_y='normal')"
   ]
  },
  {
   "cell_type": "markdown",
   "metadata": {},
   "source": [
    "* We can also ask pandas to plot on already existing axes"
   ]
  },
  {
   "cell_type": "code",
   "execution_count": 51,
   "metadata": {
    "collapsed": false
   },
   "outputs": [
    {
     "data": {
      "image/png": "[encoded data removed]",
      "text/plain": [
       "<matplotlib.figure.Figure at 0x10c700860>"
      ]
     },
     "metadata": {},
     "output_type": "display_data"
    }
   ],
   "source": [
    "fig, axes = plt.subplots(1, 3, figsize=(12, 4))\n",
    "\n",
    "for i, ax in enumerate(axes):\n",
    "    variable = dta.columns[i]\n",
    "    ax = dta[variable].cumsum().plot(ax=ax)\n",
    "    ax.set_title(variable, fontsize=16)\n",
    "    \n",
    "axes[0].set_ylabel(\"Cumulative Sum\", fontsize=14);"
   ]
  },
  {
   "cell_type": "markdown",
   "metadata": {},
   "source": [
    "## Bar plots\n"
   ]
  },
  {
   "cell_type": "markdown",
   "metadata": {},
   "source": [
    "* Bar plots are useful for displaying and comparing measurable quantities, such as counts or volumes.\n",
    "* We can use the plot method with a kind='bar' argument."
   ]
  },
  {
   "cell_type": "markdown",
   "metadata": {},
   "source": [
    "* Let's use temperature data from NYC 1995 - 2014"
   ]
  },
  {
   "cell_type": "code",
   "execution_count": 52,
   "metadata": {
    "collapsed": false
   },
   "outputs": [
    {
     "ename": "OSError",
     "evalue": "File b'../data/weather_nyc.csv' does not exist",
     "output_type": "error",
     "traceback": [
      "\u001b[0;31m---------------------------------------------------------------------------\u001b[0m",
      "\u001b[0;31mOSError\u001b[0m                                   Traceback (most recent call last)",
      "\u001b[0;32m<ipython-input-52-89ff0e1be859>\u001b[0m in \u001b[0;36m<module>\u001b[0;34m()\u001b[0m\n\u001b[0;32m----> 1\u001b[0;31m \u001b[0mdta\u001b[0m \u001b[0;34m=\u001b[0m \u001b[0mpd\u001b[0m\u001b[0;34m.\u001b[0m\u001b[0mread_csv\u001b[0m\u001b[0;34m(\u001b[0m\u001b[0;34m\"../data/weather_nyc.csv\"\u001b[0m\u001b[0;34m)\u001b[0m\u001b[0;34m\u001b[0m\u001b[0m\n\u001b[0m",
      "\u001b[0;32m/Users/fonnescj/anaconda3/lib/python3.5/site-packages/pandas/io/parsers.py\u001b[0m in \u001b[0;36mparser_f\u001b[0;34m(filepath_or_buffer, sep, dialect, compression, doublequote, escapechar, quotechar, quoting, skipinitialspace, lineterminator, header, index_col, names, prefix, skiprows, skipfooter, skip_footer, na_values, true_values, false_values, delimiter, converters, dtype, usecols, engine, delim_whitespace, as_recarray, na_filter, compact_ints, use_unsigned, low_memory, buffer_lines, warn_bad_lines, error_bad_lines, keep_default_na, thousands, comment, decimal, parse_dates, keep_date_col, dayfirst, date_parser, memory_map, float_precision, nrows, iterator, chunksize, verbose, encoding, squeeze, mangle_dupe_cols, tupleize_cols, infer_datetime_format, skip_blank_lines)\u001b[0m\n\u001b[1;32m    496\u001b[0m                     skip_blank_lines=skip_blank_lines)\n\u001b[1;32m    497\u001b[0m \u001b[0;34m\u001b[0m\u001b[0m\n\u001b[0;32m--> 498\u001b[0;31m         \u001b[0;32mreturn\u001b[0m \u001b[0m_read\u001b[0m\u001b[0;34m(\u001b[0m\u001b[0mfilepath_or_buffer\u001b[0m\u001b[0;34m,\u001b[0m \u001b[0mkwds\u001b[0m\u001b[0;34m)\u001b[0m\u001b[0;34m\u001b[0m\u001b[0m\n\u001b[0m\u001b[1;32m    499\u001b[0m \u001b[0;34m\u001b[0m\u001b[0m\n\u001b[1;32m    500\u001b[0m     \u001b[0mparser_f\u001b[0m\u001b[0;34m.\u001b[0m\u001b[0m__name__\u001b[0m \u001b[0;34m=\u001b[0m \u001b[0mname\u001b[0m\u001b[0;34m\u001b[0m\u001b[0m\n",
      "\u001b[0;32m/Users/fonnescj/anaconda3/lib/python3.5/site-packages/pandas/io/parsers.py\u001b[0m in \u001b[0;36m_read\u001b[0;34m(filepath_or_buffer, kwds)\u001b[0m\n\u001b[1;32m    273\u001b[0m \u001b[0;34m\u001b[0m\u001b[0m\n\u001b[1;32m    274\u001b[0m     \u001b[0;31m# Create the parser.\u001b[0m\u001b[0;34m\u001b[0m\u001b[0;34m\u001b[0m\u001b[0m\n\u001b[0;32m--> 275\u001b[0;31m     \u001b[0mparser\u001b[0m \u001b[0;34m=\u001b[0m \u001b[0mTextFileReader\u001b[0m\u001b[0;34m(\u001b[0m\u001b[0mfilepath_or_buffer\u001b[0m\u001b[0;34m,\u001b[0m \u001b[0;34m**\u001b[0m\u001b[0mkwds\u001b[0m\u001b[0;34m)\u001b[0m\u001b[0;34m\u001b[0m\u001b[0m\n\u001b[0m\u001b[1;32m    276\u001b[0m \u001b[0;34m\u001b[0m\u001b[0m\n\u001b[1;32m    277\u001b[0m     \u001b[0;32mif\u001b[0m \u001b[0;34m(\u001b[0m\u001b[0mnrows\u001b[0m \u001b[0;32mis\u001b[0m \u001b[0;32mnot\u001b[0m \u001b[0;32mNone\u001b[0m\u001b[0;34m)\u001b[0m \u001b[0;32mand\u001b[0m \u001b[0;34m(\u001b[0m\u001b[0mchunksize\u001b[0m \u001b[0;32mis\u001b[0m \u001b[0;32mnot\u001b[0m \u001b[0;32mNone\u001b[0m\u001b[0;34m)\u001b[0m\u001b[0;34m:\u001b[0m\u001b[0;34m\u001b[0m\u001b[0m\n",
      "\u001b[0;32m/Users/fonnescj/anaconda3/lib/python3.5/site-packages/pandas/io/parsers.py\u001b[0m in \u001b[0;36m__init__\u001b[0;34m(self, f, engine, **kwds)\u001b[0m\n\u001b[1;32m    588\u001b[0m             \u001b[0mself\u001b[0m\u001b[0;34m.\u001b[0m\u001b[0moptions\u001b[0m\u001b[0;34m[\u001b[0m\u001b[0;34m'has_index_names'\u001b[0m\u001b[0;34m]\u001b[0m \u001b[0;34m=\u001b[0m \u001b[0mkwds\u001b[0m\u001b[0;34m[\u001b[0m\u001b[0;34m'has_index_names'\u001b[0m\u001b[0;34m]\u001b[0m\u001b[0;34m\u001b[0m\u001b[0m\n\u001b[1;32m    589\u001b[0m \u001b[0;34m\u001b[0m\u001b[0m\n\u001b[0;32m--> 590\u001b[0;31m         \u001b[0mself\u001b[0m\u001b[0;34m.\u001b[0m\u001b[0m_make_engine\u001b[0m\u001b[0;34m(\u001b[0m\u001b[0mself\u001b[0m\u001b[0;34m.\u001b[0m\u001b[0mengine\u001b[0m\u001b[0;34m)\u001b[0m\u001b[0;34m\u001b[0m\u001b[0m\n\u001b[0m\u001b[1;32m    591\u001b[0m \u001b[0;34m\u001b[0m\u001b[0m\n\u001b[1;32m    592\u001b[0m     \u001b[0;32mdef\u001b[0m \u001b[0m_get_options_with_defaults\u001b[0m\u001b[0;34m(\u001b[0m\u001b[0mself\u001b[0m\u001b[0;34m,\u001b[0m \u001b[0mengine\u001b[0m\u001b[0;34m)\u001b[0m\u001b[0;34m:\u001b[0m\u001b[0;34m\u001b[0m\u001b[0m\n",
      "\u001b[0;32m/Users/fonnescj/anaconda3/lib/python3.5/site-packages/pandas/io/parsers.py\u001b[0m in \u001b[0;36m_make_engine\u001b[0;34m(self, engine)\u001b[0m\n\u001b[1;32m    729\u001b[0m     \u001b[0;32mdef\u001b[0m \u001b[0m_make_engine\u001b[0m\u001b[0;34m(\u001b[0m\u001b[0mself\u001b[0m\u001b[0;34m,\u001b[0m \u001b[0mengine\u001b[0m\u001b[0;34m=\u001b[0m\u001b[0;34m'c'\u001b[0m\u001b[0;34m)\u001b[0m\u001b[0;34m:\u001b[0m\u001b[0;34m\u001b[0m\u001b[0m\n\u001b[1;32m    730\u001b[0m         \u001b[0;32mif\u001b[0m \u001b[0mengine\u001b[0m \u001b[0;34m==\u001b[0m \u001b[0;34m'c'\u001b[0m\u001b[0;34m:\u001b[0m\u001b[0;34m\u001b[0m\u001b[0m\n\u001b[0;32m--> 731\u001b[0;31m             \u001b[0mself\u001b[0m\u001b[0;34m.\u001b[0m\u001b[0m_engine\u001b[0m \u001b[0;34m=\u001b[0m \u001b[0mCParserWrapper\u001b[0m\u001b[0;34m(\u001b[0m\u001b[0mself\u001b[0m\u001b[0;34m.\u001b[0m\u001b[0mf\u001b[0m\u001b[0;34m,\u001b[0m \u001b[0;34m**\u001b[0m\u001b[0mself\u001b[0m\u001b[0;34m.\u001b[0m\u001b[0moptions\u001b[0m\u001b[0;34m)\u001b[0m\u001b[0;34m\u001b[0m\u001b[0m\n\u001b[0m\u001b[1;32m    732\u001b[0m         \u001b[0;32melse\u001b[0m\u001b[0;34m:\u001b[0m\u001b[0;34m\u001b[0m\u001b[0m\n\u001b[1;32m    733\u001b[0m             \u001b[0;32mif\u001b[0m \u001b[0mengine\u001b[0m \u001b[0;34m==\u001b[0m \u001b[0;34m'python'\u001b[0m\u001b[0;34m:\u001b[0m\u001b[0;34m\u001b[0m\u001b[0m\n",
      "\u001b[0;32m/Users/fonnescj/anaconda3/lib/python3.5/site-packages/pandas/io/parsers.py\u001b[0m in \u001b[0;36m__init__\u001b[0;34m(self, src, **kwds)\u001b[0m\n\u001b[1;32m   1101\u001b[0m         \u001b[0mkwds\u001b[0m\u001b[0;34m[\u001b[0m\u001b[0;34m'allow_leading_cols'\u001b[0m\u001b[0;34m]\u001b[0m \u001b[0;34m=\u001b[0m \u001b[0mself\u001b[0m\u001b[0;34m.\u001b[0m\u001b[0mindex_col\u001b[0m \u001b[0;32mis\u001b[0m \u001b[0;32mnot\u001b[0m \u001b[0;32mFalse\u001b[0m\u001b[0;34m\u001b[0m\u001b[0m\n\u001b[1;32m   1102\u001b[0m \u001b[0;34m\u001b[0m\u001b[0m\n\u001b[0;32m-> 1103\u001b[0;31m         \u001b[0mself\u001b[0m\u001b[0;34m.\u001b[0m\u001b[0m_reader\u001b[0m \u001b[0;34m=\u001b[0m \u001b[0m_parser\u001b[0m\u001b[0;34m.\u001b[0m\u001b[0mTextReader\u001b[0m\u001b[0;34m(\u001b[0m\u001b[0msrc\u001b[0m\u001b[0;34m,\u001b[0m \u001b[0;34m**\u001b[0m\u001b[0mkwds\u001b[0m\u001b[0;34m)\u001b[0m\u001b[0;34m\u001b[0m\u001b[0m\n\u001b[0m\u001b[1;32m   1104\u001b[0m \u001b[0;34m\u001b[0m\u001b[0m\n\u001b[1;32m   1105\u001b[0m         \u001b[0;31m# XXX\u001b[0m\u001b[0;34m\u001b[0m\u001b[0;34m\u001b[0m\u001b[0m\n",
      "\u001b[0;32mpandas/parser.pyx\u001b[0m in \u001b[0;36mpandas.parser.TextReader.__cinit__ (pandas/parser.c:3246)\u001b[0;34m()\u001b[0m\n",
      "\u001b[0;32mpandas/parser.pyx\u001b[0m in \u001b[0;36mpandas.parser.TextReader._setup_parser_source (pandas/parser.c:6111)\u001b[0;34m()\u001b[0m\n",
      "\u001b[0;31mOSError\u001b[0m: File b'../data/weather_nyc.csv' does not exist"
     ]
    }
   ],
   "source": [
    "dta = pd.read_csv(\"../data/weather_nyc.csv\")"
   ]
  },
  {
   "cell_type": "code",
   "execution_count": null,
   "metadata": {
    "collapsed": false
   },
   "outputs": [],
   "source": [
    "dta = dta.ix[dta.year < 2015]  # truncate to end of year"
   ]
  },
  {
   "cell_type": "markdown",
   "metadata": {},
   "source": [
    "Or equivalently"
   ]
  },
  {
   "cell_type": "code",
   "execution_count": null,
   "metadata": {
    "collapsed": false
   },
   "outputs": [],
   "source": [
    "dta.query(\"year < 2015\")"
   ]
  },
  {
   "cell_type": "markdown",
   "metadata": {},
   "source": [
    "Recall that `pandas.cut` can be used to bin continuous data into buckets"
   ]
  },
  {
   "cell_type": "code",
   "execution_count": null,
   "metadata": {
    "collapsed": false
   },
   "outputs": [],
   "source": [
    "bins = [dta.temp.min(), 32, 55, 80, dta.temp.max()]\n",
    "bins"
   ]
  },
  {
   "cell_type": "code",
   "execution_count": null,
   "metadata": {
    "collapsed": true
   },
   "outputs": [],
   "source": [
    "labels = [\"freezing\", \"cold\", \"warm\", \"hot\"]\n",
    "\n",
    "dta[\"temp_bin\"] = pd.cut(dta.temp, bins, labels=labels)"
   ]
  },
  {
   "cell_type": "code",
   "execution_count": null,
   "metadata": {
    "collapsed": true
   },
   "outputs": [],
   "source": [
    "try:\n",
    "    from scipy.constants import F2C\n",
    "except ImportError:  # no scipy installed\n",
    "    def F2C(f):\n",
    "        return (np.array(f) - 32)/1.8"
   ]
  },
  {
   "cell_type": "code",
   "execution_count": null,
   "metadata": {
    "collapsed": true
   },
   "outputs": [],
   "source": [
    "lmap = lambda func, x : list(map(func, x))"
   ]
  },
  {
   "cell_type": "markdown",
   "metadata": {},
   "source": [
    "Celsius bins"
   ]
  },
  {
   "cell_type": "code",
   "execution_count": null,
   "metadata": {
    "collapsed": false
   },
   "outputs": [],
   "source": [
    "bins = [dta.tempc.min()] + lmap(F2C, (32, 55, 80)) + [dta.tempc.max()]\n",
    "bins"
   ]
  },
  {
   "cell_type": "code",
   "execution_count": null,
   "metadata": {
    "collapsed": true
   },
   "outputs": [],
   "source": [
    "labels = [\"freezing\", \"cold\", \"warm\", \"hot\"]\n",
    "\n",
    "dta[\"tempc_bin\"] = pd.cut(dta.temp, bins, labels=labels)"
   ]
  },
  {
   "cell_type": "code",
   "execution_count": null,
   "metadata": {
    "collapsed": false
   },
   "outputs": [],
   "source": [
    "dta.head()"
   ]
  },
  {
   "cell_type": "code",
   "execution_count": null,
   "metadata": {
    "collapsed": false
   },
   "outputs": [],
   "source": [
    "ax = dta.groupby(\"temp_bin\").size().plot(kind=\"bar\")"
   ]
  },
  {
   "cell_type": "markdown",
   "metadata": {},
   "source": [
    "* What's wrong with this graph?\n",
    "* Axis labels and tick labels to start\n",
    "* Some things we can do through the `plot` method\n",
    "* Some things we have to do with matplotlib"
   ]
  },
  {
   "cell_type": "markdown",
   "metadata": {},
   "source": [
    "Make the xticks labels bigger and rotate them"
   ]
  },
  {
   "cell_type": "code",
   "execution_count": null,
   "metadata": {
    "collapsed": false
   },
   "outputs": [],
   "source": [
    "ax = dta.groupby(\"temp_bin\").size().plot(kind=\"bar\", rot=0, fontsize=16, figsize=(8, 5))\n",
    "\n",
    "ax.set_xlabel(\"Temperature\")\n",
    "ax.set_ylabel(\"Number of Days\")\n",
    "ax.set_title(\"Temperatures from 1995 - 2014\");"
   ]
  },
  {
   "cell_type": "markdown",
   "metadata": {},
   "source": [
    "Horizontal bar chart"
   ]
  },
  {
   "cell_type": "code",
   "execution_count": null,
   "metadata": {
    "collapsed": false
   },
   "outputs": [],
   "source": [
    "dta.groupby([\"season\", \"temp_bin\"]).size().plot(kind=\"barh\", figsize=(6, 8))"
   ]
  },
  {
   "cell_type": "markdown",
   "metadata": {},
   "source": [
    "Stacked bar chart"
   ]
  },
  {
   "cell_type": "markdown",
   "metadata": {},
   "source": [
    "The pandas crosstab function creates a cross-tabulation of two or more factors."
   ]
  },
  {
   "cell_type": "code",
   "execution_count": null,
   "metadata": {
    "collapsed": false
   },
   "outputs": [],
   "source": [
    "ct = pd.crosstab(dta.temp_bin, dta.season)\n",
    "ct"
   ]
  },
  {
   "cell_type": "code",
   "execution_count": null,
   "metadata": {
    "collapsed": false
   },
   "outputs": [],
   "source": [
    "ax = ct.plot(kind=\"bar\", stacked=True, figsize=(12, 8), grid=False, \n",
    "             legend=True)"
   ]
  },
  {
   "cell_type": "markdown",
   "metadata": {},
   "source": [
    "* Matplotlib provides a variety of [ColorMaps](http://matplotlib.org/users/colormaps.html)\n",
    "* The Paired colormap is a good qualitative colormap"
   ]
  },
  {
   "cell_type": "code",
   "execution_count": null,
   "metadata": {
    "collapsed": false
   },
   "outputs": [],
   "source": [
    "colors = plt.cm.Paired(np.linspace(0, 1, 4))\n",
    "colors"
   ]
  },
  {
   "cell_type": "code",
   "execution_count": null,
   "metadata": {
    "collapsed": false
   },
   "outputs": [],
   "source": [
    "ax = pd.crosstab(dta.temp_bin, dta.season).plot(kind=\"bar\", stacked=True, \n",
    "                                                figsize=(12, 8), grid=False, \n",
    "                                                legend=True, colors=colors, rot=0,\n",
    "                                                fontsize=16)\n",
    "\n",
    "# adjust the fontsize of the legend\n",
    "legend = ax.get_legend()\n",
    "for text in legend.get_texts():\n",
    "    text.set_fontsize(18)\n",
    "legend.get_title().set_fontsize(20)"
   ]
  },
  {
   "cell_type": "markdown",
   "metadata": {},
   "source": [
    "## Histograms"
   ]
  },
  {
   "cell_type": "markdown",
   "metadata": {},
   "source": [
    "* Frequently it is useful to look at the distribution of data before you analyze it. \n",
    "* Histograms display relative frequencies of data values\n",
    "* The y-axis is always some measure of frequency, raw counts of values or scaled proportions"
   ]
  },
  {
   "cell_type": "code",
   "execution_count": null,
   "metadata": {
    "collapsed": false
   },
   "outputs": [],
   "source": [
    "dta.temp.min()"
   ]
  },
  {
   "cell_type": "code",
   "execution_count": null,
   "metadata": {
    "collapsed": false
   },
   "outputs": [],
   "source": [
    "ax = dta.temp.plot(kind=\"hist\", bins=50)"
   ]
  },
  {
   "cell_type": "markdown",
   "metadata": {},
   "source": [
    "It's even a good exercise here! Let's drop turn the -99 into NaNs."
   ]
  },
  {
   "cell_type": "code",
   "execution_count": null,
   "metadata": {
    "collapsed": false
   },
   "outputs": [],
   "source": [
    "dta.ix[dta.temp == -99, [\"temp\", \"tempc\"]] = np.nan"
   ]
  },
  {
   "cell_type": "markdown",
   "metadata": {},
   "source": [
    "Incidentally, pandas will handle nulls in plotting"
   ]
  },
  {
   "cell_type": "code",
   "execution_count": null,
   "metadata": {
    "collapsed": false
   },
   "outputs": [],
   "source": [
    "ax = dta.temp.plot(kind=\"hist\", bins=50, grid=False, figsize=(10, 6))\n",
    "\n",
    "# plot a vertical line that spans the axis\n",
    "line = ax.axvline(dta.temp.mean(), color='r', lw=3, label=\"Mean\")\n",
    "\n",
    "# specifically add a legend\n",
    "handles, labels = ax.get_legend_handles_labels()\n",
    "ax.legend([handles[0]], [labels[0]], fontsize=16)"
   ]
  },
  {
   "cell_type": "code",
   "execution_count": null,
   "metadata": {
    "collapsed": false
   },
   "outputs": [],
   "source": [
    "handles"
   ]
  },
  {
   "cell_type": "markdown",
   "metadata": {},
   "source": [
    "* Optimal number of bins\n",
    "* Scott's rule\n",
    "\n",
    "$$h=\\frac{3.5\\sigma}{n^{1/3}}$$"
   ]
  },
  {
   "cell_type": "code",
   "execution_count": null,
   "metadata": {
    "collapsed": false
   },
   "outputs": [],
   "source": [
    "def scotts_rule(x):\n",
    "    x = x.dropna()\n",
    "    std = x.std()\n",
    "    return 3.5 * std / (len(x)**(1./3))\n",
    "\n",
    "def width_to_nbins(x, h):\n",
    "    x = x.dropna()\n",
    "    return int(round(x.ptp()/h))"
   ]
  },
  {
   "cell_type": "code",
   "execution_count": null,
   "metadata": {
    "collapsed": false
   },
   "outputs": [],
   "source": [
    "h = scotts_rule(dta.temp)\n",
    "nbins = width_to_nbins(dta.temp, h)"
   ]
  },
  {
   "cell_type": "code",
   "execution_count": null,
   "metadata": {
    "collapsed": false
   },
   "outputs": [],
   "source": [
    "ax = dta.temp.plot(kind=\"hist\", bins=nbins, grid=False, figsize=(10, 6))\n",
    "\n",
    "# plot a vertical line that spans the axis\n",
    "line = ax.axvline(dta.temp.mean(), color='r', lw=3, label=\"Mean\")"
   ]
  },
  {
   "cell_type": "markdown",
   "metadata": {},
   "source": [
    "## Density Plots"
   ]
  },
  {
   "cell_type": "markdown",
   "metadata": {},
   "source": [
    "* Kernel Density Estimators are a kind of smoothed histogram (more on this later)\n",
    "* Pandas provides a hook to KDE plots using statsmodels, if installed, or scipy"
   ]
  },
  {
   "cell_type": "code",
   "execution_count": null,
   "metadata": {
    "collapsed": false
   },
   "outputs": [],
   "source": [
    "ax = dta.temp.plot(kind='kde', grid=False, figsize=(10, 6))\n",
    "ax.set_xlim(0, 100)"
   ]
  },
  {
   "cell_type": "markdown",
   "metadata": {},
   "source": [
    "We can compare the KDE to the normed histogram"
   ]
  },
  {
   "cell_type": "code",
   "execution_count": null,
   "metadata": {
    "collapsed": false
   },
   "outputs": [],
   "source": [
    "ax = dta.temp.plot(kind='kde', grid=False, figsize=(10, 6), color='r', lw=3)\n",
    "ax = dta.temp.plot(kind=\"hist\", bins=nbins, grid=False, figsize=(10, 6), ax=ax, normed=True, alpha=.7)\n",
    "ax.set_xlim(0, 100)"
   ]
  },
  {
   "cell_type": "markdown",
   "metadata": {},
   "source": [
    "**Exercise** \n",
    "\n",
    "Create KDE estimates for the temperature in each season on a single plot. Label the plotted lines."
   ]
  },
  {
   "cell_type": "markdown",
   "metadata": {},
   "source": [
    "## Box plots"
   ]
  },
  {
   "cell_type": "markdown",
   "metadata": {},
   "source": [
    "* Boxplots (aka \"box and whisker\" plots) are a different way to display distributions of data\n",
    "* The box contains the quartiles of the data\n",
    "* The \"whiskers\" are typically the lower and upper 5 percent values\n",
    "  * In matplotlib they are 1.5 * the lower/upper quarteriles by default\n",
    "* The horizontal line is the median\n",
    "* Boxplots have their own method on DataFrames"
   ]
  },
  {
   "cell_type": "code",
   "execution_count": null,
   "metadata": {
    "collapsed": false
   },
   "outputs": [],
   "source": [
    "ax = dta.boxplot(column=\"temp\", by=\"season\", grid=False, figsize=(8, 10), fontsize=16,\n",
    "                 whis=[5, 95])\n",
    "\n",
    "ax.set_title(ax.get_title(), fontsize=20)\n",
    "ax.xaxis.get_label().set_fontsize(18)\n",
    "\n",
    "fig = ax.figure\n",
    "\n",
    "# Change the size of the figure title\n",
    "# http://stackoverflow.com/a/12449783/535665\n",
    "fig.texts[0].set_fontsize(20)\n",
    "\n",
    "# whitespace between axes and fig boundary\n",
    "fig.subplots_adjust(top=.85)"
   ]
  },
  {
   "cell_type": "markdown",
   "metadata": {},
   "source": [
    "* We can add some more information by overlaying the original data on the boxplot"
   ]
  },
  {
   "cell_type": "code",
   "execution_count": null,
   "metadata": {
    "collapsed": false
   },
   "outputs": [],
   "source": [
    "def jitter(x, n, noise=.05):\n",
    "    return x + np.random.normal(0, noise, size=n)"
   ]
  },
  {
   "cell_type": "code",
   "execution_count": null,
   "metadata": {
    "collapsed": false
   },
   "outputs": [],
   "source": [
    "ax = dta.boxplot(column=\"temp\", by=\"season\", grid=False, figsize=(8, 10), fontsize=16,\n",
    "                 whis=[5, 95])\n",
    "\n",
    "ax.set_title(ax.get_title(), fontsize=20)\n",
    "ax.xaxis.get_label().set_fontsize(18)\n",
    "\n",
    "fig = ax.figure\n",
    "\n",
    "# http://stackoverflow.com/a/12449783/535665\n",
    "fig.texts[0].set_fontsize(20)\n",
    "\n",
    "# whitespace between axes and fig boundary\n",
    "fig.subplots_adjust(top=.85)\n",
    "\n",
    "for i, season in enumerate(ax.get_xticklabels()):\n",
    "    y = dta.ix[dta.season == season.get_text()].temp\n",
    "    x = jitter(i + 1, len(y))\n",
    "    # there's a lot of data so turn the alpha way down (or sub-sample)\n",
    "    ax.plot(x, y, 'ro', alpha=.05)"
   ]
  },
  {
   "cell_type": "markdown",
   "metadata": {},
   "source": [
    "## Scatterplots"
   ]
  },
  {
   "cell_type": "markdown",
   "metadata": {},
   "source": [
    "* Let's load the baseball dataset to look at scatterplots"
   ]
  },
  {
   "cell_type": "code",
   "execution_count": null,
   "metadata": {
    "collapsed": true
   },
   "outputs": [],
   "source": [
    "baseball = pd.read_csv(\"../data/baseball.csv\")"
   ]
  },
  {
   "cell_type": "code",
   "execution_count": null,
   "metadata": {
    "collapsed": false
   },
   "outputs": [],
   "source": [
    "baseball.head()"
   ]
  },
  {
   "cell_type": "code",
   "execution_count": null,
   "metadata": {
    "collapsed": false
   },
   "outputs": [],
   "source": [
    "ax = baseball.plot(kind=\"scatter\", x=\"ab\", y=\"h\", grid=False, figsize=(8, 6), s=8**2,\n",
    "                   alpha=.7)\n",
    "ax.margins(0)\n",
    "ax.set_xlim(0, 700)\n",
    "ax.set_ylim(0, 200)"
   ]
  },
  {
   "cell_type": "markdown",
   "metadata": {},
   "source": [
    "* We can uncover more information by changing the size of the points"
   ]
  },
  {
   "cell_type": "code",
   "execution_count": null,
   "metadata": {
    "collapsed": false
   },
   "outputs": [],
   "source": [
    "ax = baseball.plot(kind=\"scatter\", x=\"ab\", y=\"h\", grid=False, figsize=(8, 6), s=baseball.hr*10,\n",
    "                   alpha=.5)\n",
    "\n",
    "ax.margins(0)\n",
    "ax.set_xlim(0, 700)\n",
    "ax.set_ylim(0, 200)"
   ]
  },
  {
   "cell_type": "markdown",
   "metadata": {},
   "source": [
    "* Or by adding color using the `c` keyword"
   ]
  },
  {
   "cell_type": "code",
   "execution_count": null,
   "metadata": {
    "collapsed": false
   },
   "outputs": [],
   "source": [
    "ax = baseball.plot(kind=\"scatter\", x=\"ab\", y=\"h\", grid=False, figsize=(8, 6), c=\"DarkGreen\", s=50)\n",
    "ax = baseball.plot(kind=\"scatter\", x=\"ab\", y=\"rbi\", grid=False, figsize=(8, 6), c=\"Blue\", s=50, \n",
    "                   ax=ax)\n",
    "\n",
    "ax.margins(0)\n",
    "ax.set_xlim(0, 700)\n",
    "ax.set_ylim(0, 200);"
   ]
  },
  {
   "cell_type": "markdown",
   "metadata": {},
   "source": [
    "* `c` can also be a color intensity\n",
    "* in this case we can specify a colormap through the `cmap` keyword"
   ]
  },
  {
   "cell_type": "code",
   "execution_count": null,
   "metadata": {
    "collapsed": false
   },
   "outputs": [],
   "source": [
    "ax = baseball.plot(kind=\"scatter\", x=\"ab\", y=\"h\", grid=False, figsize=(8, 6), c=baseball.hr*10,\n",
    "                   s=40, cmap=\"hot\")\n",
    "ax.margins(0)\n",
    "ax.set_xlim(0, 700)\n",
    "ax.set_ylim(0, 200);"
   ]
  },
  {
   "cell_type": "markdown",
   "metadata": {},
   "source": [
    "* Notice that there is a colorbar automatically\n",
    "* We can adjust it just like all other things matplotlib\n",
    "* It's actually implemented as a separate axes subplot in the figure"
   ]
  },
  {
   "cell_type": "code",
   "execution_count": null,
   "metadata": {
    "collapsed": false
   },
   "outputs": [],
   "source": [
    "ax = baseball.plot(kind=\"scatter\", x=\"ab\", y=\"h\", grid=False, figsize=(8, 6), c=baseball.hr*10,\n",
    "                   s=40, cmap=\"hot\")\n",
    "ax.margins(0)\n",
    "ax.set_xlim(0, 700)\n",
    "ax.set_ylim(0, 200)\n",
    "\n",
    "fig = ax.figure\n",
    "# colorbars are actually a separate subplot in your figure\n",
    "colorbar = fig.axes[1]\n",
    "colorbar.yaxis.set_tick_params(right=False);"
   ]
  },
  {
   "cell_type": "markdown",
   "metadata": {},
   "source": [
    "* Use `pd.scatter_matrix` To view a large number of variables simultaenously"
   ]
  },
  {
   "cell_type": "code",
   "execution_count": null,
   "metadata": {
    "collapsed": false
   },
   "outputs": [],
   "source": [
    "ax = pd.scatter_matrix(baseball.loc[:,'r':'sb'], figsize=(14, 10), diagonal='hist')"
   ]
  },
  {
   "cell_type": "code",
   "execution_count": null,
   "metadata": {
    "collapsed": false
   },
   "outputs": [],
   "source": [
    "ax = pd.scatter_matrix(baseball.loc[:,'r':'sb'], figsize=(14, 10), diagonal='kde')"
   ]
  },
  {
   "cell_type": "markdown",
   "metadata": {},
   "source": [
    "## Plotting Time-Series"
   ]
  },
  {
   "cell_type": "markdown",
   "metadata": {},
   "source": [
    "* Let's convert the temperature data into a TimeSeries for convenience"
   ]
  },
  {
   "cell_type": "code",
   "execution_count": null,
   "metadata": {
    "collapsed": false
   },
   "outputs": [],
   "source": [
    "idx = pd.to_datetime(dta.year*10000 + dta.month*100 + dta.day, format='%Y%m%d')"
   ]
  },
  {
   "cell_type": "code",
   "execution_count": null,
   "metadata": {
    "collapsed": false
   },
   "outputs": [],
   "source": [
    "idx"
   ]
  },
  {
   "cell_type": "code",
   "execution_count": null,
   "metadata": {
    "collapsed": true
   },
   "outputs": [],
   "source": [
    "y = dta.set_index(idx).temp"
   ]
  },
  {
   "cell_type": "code",
   "execution_count": null,
   "metadata": {
    "collapsed": false
   },
   "outputs": [],
   "source": [
    "y.head()"
   ]
  },
  {
   "cell_type": "code",
   "execution_count": null,
   "metadata": {
    "collapsed": false
   },
   "outputs": [],
   "source": [
    "y.index"
   ]
  },
  {
   "cell_type": "markdown",
   "metadata": {},
   "source": [
    "* Pandas plotting is DatetimeIndex aware\n",
    "* Outside of the browser, you can pan and zoom and the tick labels adjust dynamically"
   ]
  },
  {
   "cell_type": "code",
   "execution_count": null,
   "metadata": {
    "collapsed": false
   },
   "outputs": [],
   "source": [
    "#ax = y.plot(figsize=(12, 8))\n",
    "ax = pd.rolling_mean(y, window=60, min_periods=1, center=True).plot(figsize=(12, 8),\n",
    "                                                                   label=\"Rolling 2-month mean\")\n",
    "\n",
    "means = y.groupby(lambda x : x.year).mean()\n",
    "means.index = pd.DatetimeIndex(pd.to_datetime(means.index * 10000 + 1231, format=\"%Y%m%d\"))\n",
    "ax = means.plot(ax=ax, label=\"Yearly Average\")\n",
    "\n",
    "legend = ax.legend()"
   ]
  },
  {
   "cell_type": "markdown",
   "metadata": {},
   "source": [
    "## GridSpec"
   ]
  },
  {
   "cell_type": "markdown",
   "metadata": {},
   "source": [
    "* [GridSpec](http://matplotlib.org/users/gridspec.html) provides a high-level abstraction for placing subplots on a grid\n",
    "* `plt.subplot2grid` is a helper function for creating grids of subplots\n",
    "* To create a 2x2 figure with a reference to the first axes we could do \n",
    "\n",
    "```python\n",
    "ax = plt.subplot(2, 2, 1)\n",
    "```\n",
    "\n",
    "* Equivalently with `subplot2grid`"
   ]
  },
  {
   "cell_type": "code",
   "execution_count": null,
   "metadata": {
    "collapsed": false
   },
   "outputs": [],
   "source": [
    "ax = plt.subplot2grid((2, 2), (0, 0))"
   ]
  },
  {
   "cell_type": "markdown",
   "metadata": {},
   "source": [
    "* We can have more easy, fine-grained control with `subplot2grid` for creating multiple subplots that span columns, for example"
   ]
  },
  {
   "cell_type": "code",
   "execution_count": null,
   "metadata": {
    "collapsed": false
   },
   "outputs": [],
   "source": [
    "with plt.rc_context(rc={\"xtick.labelsize\": 0,\n",
    "                        \"ytick.labelsize\": 0,\n",
    "                        \"axes.facecolor\": \"lightgray\",\n",
    "                        \"figure.figsize\": (8, 8)}):\n",
    "    ax1 = plt.subplot2grid((3,3), (0,0), colspan=3)\n",
    "    ax2 = plt.subplot2grid((3,3), (1,0), colspan=2)\n",
    "    ax3 = plt.subplot2grid((3,3), (1, 2), rowspan=2)\n",
    "    ax4 = plt.subplot2grid((3,3), (2, 0))\n",
    "    ax5 = plt.subplot2grid((3,3), (2, 1))\n",
    "    \n",
    "    ax1.figure.suptitle(\"subplot2grid\", fontsize=20)"
   ]
  },
  {
   "cell_type": "markdown",
   "metadata": {},
   "source": [
    "* You can use `GridSpec` class directly to create the same plot"
   ]
  },
  {
   "cell_type": "code",
   "execution_count": null,
   "metadata": {
    "collapsed": false
   },
   "outputs": [],
   "source": [
    "from matplotlib.gridspec import GridSpec\n",
    "\n",
    "\n",
    "with plt.rc_context(rc={\"xtick.labelsize\": 0,\n",
    "                        \"ytick.labelsize\": 0,\n",
    "                        \"axes.facecolor\": \"lightgray\"}):\n",
    "\n",
    "\n",
    "    fig, ax = plt.subplots(figsize=(8, 8))\n",
    "\n",
    "    gs = GridSpec(3, 3)\n",
    "    ax1 = plt.subplot(gs[0, :])\n",
    "    # identical to ax1 = plt.subplot(gs.new_subplotspec((0,0), colspan=3))\n",
    "    ax2 = plt.subplot(gs[1,:-1])\n",
    "    ax3 = plt.subplot(gs[1:, -1])\n",
    "    ax4 = plt.subplot(gs[-1,0])\n",
    "    ax5 = plt.subplot(gs[-1,-2])\n",
    "\n",
    "    fig.suptitle(\"GridSpec\", fontsize=20)"
   ]
  },
  {
   "cell_type": "markdown",
   "metadata": {},
   "source": [
    "## Seaborn"
   ]
  },
  {
   "cell_type": "markdown",
   "metadata": {},
   "source": [
    "* [Seaborn](https://www.stanford.edu/~mwaskom/software/seaborn/index.html) is a Python visualization library based on matplotlib. It provides a high-level interface for drawing attractive statistical graphics.\n",
    "* It is built on top of matplotlib\n",
    "* Provides support for numpy and pandas\n",
    "* Coupled with statistical routines from scipy and statsmodels "
   ]
  },
  {
   "cell_type": "markdown",
   "metadata": {},
   "source": [
    "### Trellis plots"
   ]
  },
  {
   "cell_type": "markdown",
   "metadata": {},
   "source": [
    "\"At the heart of quantitative reasoning is a single question: Compared to what? Small multiple designs, multivariate and data bountiful, answer directly by visually enforcing comparisons of changes, of the differences among objects, of the scope of alternatives. For a wide range of problems in data presentation, small multiples are the best design solution.\"\n",
    "\n",
    "-Edward Tufte"
   ]
  },
  {
   "cell_type": "markdown",
   "metadata": {},
   "source": [
    "* For medium-dimensional data,\n",
    "* Multiple instances of the same plot on different subsets of your dataset. \n",
    "* Quickly extract a large amount of information about complex data. "
   ]
  },
  {
   "cell_type": "code",
   "execution_count": null,
   "metadata": {
    "collapsed": true
   },
   "outputs": [],
   "source": [
    "import seaborn as sns\n",
    "tips = sns.load_dataset(\"tips\")"
   ]
  },
  {
   "cell_type": "code",
   "execution_count": null,
   "metadata": {
    "collapsed": false
   },
   "outputs": [],
   "source": [
    "tips.head()"
   ]
  },
  {
   "cell_type": "markdown",
   "metadata": {},
   "source": [
    "### FacetGrid"
   ]
  },
  {
   "cell_type": "markdown",
   "metadata": {},
   "source": [
    "* Used to visualize the distribution of a variable or the relationship between multiple variables  within subsets of your data \n",
    "* Can be drawn with up to three dimensions: row, col, and hue. \n",
    "* These should be discrete variables\n",
    "* Say we wanted to examine differences between lunch and dinner in the tips dataset"
   ]
  },
  {
   "cell_type": "code",
   "execution_count": null,
   "metadata": {
    "collapsed": false
   },
   "outputs": [],
   "source": [
    "with mpl.rc_context(rc={\"legend.fontsize\": \"18\", \"axes.titlesize\": \"18\"}):\n",
    "    g = sns.FacetGrid(tips, col=\"sex\", hue=\"smoker\", size=7)\n",
    "    g.map(plt.scatter, \"total_bill\", \"tip\", alpha=.7, s=80)\n",
    "    g.add_legend()\n",
    "    \n",
    "g._legend.get_title().set_fontsize(20)\n",
    "g.axes[0, 0].title.set_fontsize(20)\n",
    "g.axes[0, 0].xaxis.get_label().set_fontsize(20)\n",
    "g.axes[0, 1].title.set_fontsize(20)\n",
    "g.axes[0, 1].xaxis.get_label().set_fontsize(20)"
   ]
  },
  {
   "cell_type": "markdown",
   "metadata": {},
   "source": [
    "#### Violin plot"
   ]
  },
  {
   "cell_type": "markdown",
   "metadata": {},
   "source": [
    "The violin plot is a combination of a boxplot and a kernel density estimator"
   ]
  },
  {
   "cell_type": "code",
   "execution_count": null,
   "metadata": {
    "collapsed": false
   },
   "outputs": [],
   "source": [
    "ax = dta.boxplot(column=\"temp\", by=\"season\", grid=False, figsize=(8, 10), fontsize=16,\n",
    "                 whis=[5, 95])"
   ]
  },
  {
   "cell_type": "code",
   "execution_count": null,
   "metadata": {
    "collapsed": true
   },
   "outputs": [],
   "source": [
    "X = dta[[\"temp\", \"season\"]].dropna()"
   ]
  },
  {
   "cell_type": "code",
   "execution_count": null,
   "metadata": {
    "collapsed": false
   },
   "outputs": [],
   "source": [
    "ax = sns.violinplot(X.temp, groupby=X.season)"
   ]
  },
  {
   "cell_type": "markdown",
   "metadata": {},
   "source": [
    "We can plot the points inside the violins and re-order the seasons"
   ]
  },
  {
   "cell_type": "code",
   "execution_count": null,
   "metadata": {
    "collapsed": false
   },
   "outputs": [],
   "source": [
    "ax = sns.violinplot(X.temp, groupby=X.season, inner='points', alpha=.5,\n",
    "                    order=['Winter', 'Spring', 'Summer', 'Fall'])"
   ]
  },
  {
   "cell_type": "markdown",
   "metadata": {},
   "source": [
    "#### Distribution plots\n",
    "\n",
    "Seaborn allows you to look at bivariate distributions. Here, we can compare the distribution of the temperatures in 1995 and 2014."
   ]
  },
  {
   "cell_type": "code",
   "execution_count": null,
   "metadata": {
    "collapsed": false
   },
   "outputs": [],
   "source": [
    "temp95 = dta.query(\"year == 1995\")[[\"temp\", \"month\", \"day\"]]\n",
    "temp14 = dta.query(\"year == 2014\")[[\"temp\", \"month\", \"day\"]]"
   ]
  },
  {
   "cell_type": "code",
   "execution_count": null,
   "metadata": {
    "collapsed": true
   },
   "outputs": [],
   "source": [
    "temps = temp95.merge(temp14, on=[\"month\", \"day\"], how=\"inner\", suffixes=(\"_95\", \"_14\"))"
   ]
  },
  {
   "cell_type": "code",
   "execution_count": null,
   "metadata": {
    "collapsed": false
   },
   "outputs": [],
   "source": [
    "g = sns.jointplot(temps.temp_95, temps.temp_14, kind=\"kde\", size=7, space=0)"
   ]
  },
  {
   "cell_type": "markdown",
   "metadata": {},
   "source": [
    "We can also look at a hexbin plot of the same data with the marginal distributions as histograms."
   ]
  },
  {
   "cell_type": "code",
   "execution_count": null,
   "metadata": {
    "collapsed": false
   },
   "outputs": [],
   "source": [
    "g = sns.jointplot(temps.temp_95, temps.temp_14, kind=\"hex\", color=\"#4CB391\", \n",
    "                  joint_kws={\"bins\": 200})"
   ]
  },
  {
   "cell_type": "markdown",
   "metadata": {},
   "source": [
    "## mpld3"
   ]
  },
  {
   "cell_type": "markdown",
   "metadata": {},
   "source": [
    "The mpld3 project brings together Matplotlib, and D3js, the popular Javascript library for creating interactive data visualizations for the web. The result is a simple API for exporting your matplotlib graphics to HTML code which can be used within the browser, within standard web pages, blogs, or tools such as the IPython notebook."
   ]
  },
  {
   "cell_type": "markdown",
   "metadata": {},
   "source": [
    "Let's look at a regular scatter plot"
   ]
  },
  {
   "cell_type": "code",
   "execution_count": null,
   "metadata": {
    "collapsed": false
   },
   "outputs": [],
   "source": [
    "fig, ax = plt.subplots(figsize=(6, 6))\n",
    "np.random.seed(0)\n",
    "x, y = np.random.normal(size=(2, 200))\n",
    "color, size = np.random.random((2, 200))\n",
    "\n",
    "ax.scatter(x, y, c=color, s=500 * size, alpha=0.5, cmap=\"rainbow\")\n",
    "ax.grid(color='lightgray', alpha=0.7)"
   ]
  },
  {
   "cell_type": "markdown",
   "metadata": {},
   "source": [
    "Unfortunately, this is just a static image. Let's use mpld3 to change that. Using the `display` command, you get a fully interactive visualization of the figure."
   ]
  },
  {
   "cell_type": "code",
   "execution_count": null,
   "metadata": {
    "collapsed": false,
    "scrolled": true
   },
   "outputs": [],
   "source": [
    "import mpld3\n",
    "mpld3.display(fig)"
   ]
  },
  {
   "cell_type": "markdown",
   "metadata": {},
   "source": [
    "Notice the toolbar on hover. You can use that to interact with the figure."
   ]
  },
  {
   "cell_type": "markdown",
   "metadata": {},
   "source": [
    "You can use mpld3 for every plot that you render in the notebook by executing\n",
    "\n",
    "```python\n",
    "mpld3.enable_notebook()\n",
    "```"
   ]
  },
  {
   "cell_type": "markdown",
   "metadata": {},
   "source": [
    "#### mpld3 plugins\n",
    "\n",
    "Much like [event handling](http://matplotlib.org/users/event_handling.html) via callback functions in regular matplotlib (not covered in this notebook), you can define plugins for mpld3 to specify additional interactivity.\n",
    "\n",
    "A number of plugins are built-in, and it is also possible to define new, custom plugins for nearly limitless interactive behaviors. For example, here is the built-in Linked Brushing plugin that allows exploration of multi-dimensional datasets:"
   ]
  },
  {
   "cell_type": "code",
   "execution_count": null,
   "metadata": {
    "collapsed": false
   },
   "outputs": [],
   "source": [
    "from mpld3 import plugins\n",
    "\n",
    "fig, ax = plt.subplots(6, 6, figsize=(6, 6))\n",
    "fig.subplots_adjust(hspace=0.1, wspace=0.1)\n",
    "ax = ax[::-1]\n",
    "\n",
    "X = baseball.loc[:, 'r':'rbi']\n",
    "for i in range(6):\n",
    "    for j in range(6):\n",
    "        ax[i, j].xaxis.set_major_formatter(plt.NullFormatter())\n",
    "        ax[i, j].yaxis.set_major_formatter(plt.NullFormatter())\n",
    "        points = ax[i, j].scatter(X.values[:, j], X.values[:, i])\n",
    "        if i == 0:\n",
    "            ax[i, j].set_xlabel(X.columns[j])\n",
    "    ax[i, 0].set_ylabel(X.columns[i])\n",
    "    \n",
    "plugins.connect(fig, plugins.LinkedBrush(points))\n",
    "mpld3.display(fig)"
   ]
  },
  {
   "cell_type": "markdown",
   "metadata": {},
   "source": [
    "# Putting it all together"
   ]
  },
  {
   "cell_type": "markdown",
   "metadata": {},
   "source": [
    "* Let's recreate this graphic inspired by [Tufte's](https://www.edwardtufte.com/bboard/q-and-a-fetch-msg?msg_id=00014g)"
   ]
  },
  {
   "cell_type": "code",
   "execution_count": null,
   "metadata": {
    "collapsed": false
   },
   "outputs": [],
   "source": [
    "from IPython.display import Image, HTML\n",
    "# Image(\"./tufte.svg\")\n",
    "HTML(\"./tufte.svg\")"
   ]
  },
  {
   "cell_type": "markdown",
   "metadata": {},
   "source": [
    "* This is a plot of NYC's weather in 2014 versus historical averages\n",
    "  * Daily historical highs and lows\n",
    "  * Historical confidence intervals around averages\n",
    "  * The daily temperatures for 2013\n",
    "  * Markers for new highs and lows\n",
    "  * Annotations for points\n",
    "  * Text for the graphic\n",
    "  * Custom tick labels"
   ]
  },
  {
   "cell_type": "markdown",
   "metadata": {},
   "source": [
    "* Load the data from yesterday"
   ]
  },
  {
   "cell_type": "code",
   "execution_count": null,
   "metadata": {
    "collapsed": false
   },
   "outputs": [],
   "source": [
    "import os\n",
    "\n",
    "to_colors = lambda x : x/255.\n",
    " \n",
    "blue3 = list(map(to_colors, (24, 116, 205)))  # 1874CD\n",
    "wheat2 = list(map(to_colors, (238, 216, 174)))  # EED8AE\n",
    "wheat3 = list(map(to_colors, (205, 186, 150)))  # CDBA96\n",
    "wheat4 = list(map(to_colors, (139, 126, 102)))  # 8B7E66\n",
    "firebrick3 = list(map(to_colors, (205, 38, 38)))  # CD2626\n",
    "gray30 = list(map(to_colors, (77, 77, 77)))  # 4D4D4D"
   ]
  },
  {
   "cell_type": "markdown",
   "metadata": {},
   "source": [
    "* You probably don't wan't to work with the month, day tuples in its present form for plotting\n",
    "* Instead, you can use the below for the x axis"
   ]
  },
  {
   "cell_type": "code",
   "execution_count": null,
   "metadata": {
    "collapsed": false
   },
   "outputs": [],
   "source": [
    "idx = range(366)"
   ]
  },
  {
   "cell_type": "markdown",
   "metadata": {},
   "source": [
    "* First, make the figure and plot the high and low bars (Hints: see the `ax.vlines`)\n",
    "* The color is `wheat3`"
   ]
  },
  {
   "cell_type": "markdown",
   "metadata": {},
   "source": [
    "* Second, plot the confidence intervals around the historical means\n",
    "* The color is `wheat4`"
   ]
  },
  {
   "cell_type": "markdown",
   "metadata": {},
   "source": [
    "* Plot the highs and lows of the present year in `present_highs` and `present_lows`\n",
    "* You will need the x axes of these two objects to line up with your current x axis (**Hint**: you may find `np.where` to be helpful)"
   ]
  },
  {
   "cell_type": "code",
   "execution_count": null,
   "metadata": {
    "collapsed": false
   },
   "outputs": [],
   "source": [
    "np.where([True, False, False, True, False])[0]"
   ]
  },
  {
   "cell_type": "markdown",
   "metadata": {},
   "source": [
    "* Annotate the points one of the 2014 historical lows and one of the 2014 historical highs with the appropriate text (**Hint**: see `ax.annotate`)\n",
    "* You may want to look at some of the examples below for `annotate` and `arrows`"
   ]
  },
  {
   "cell_type": "markdown",
   "metadata": {},
   "source": [
    "* Now, add text to the figure. (**Hint**: see `ax.text`)"
   ]
  },
  {
   "cell_type": "markdown",
   "metadata": {},
   "source": [
    "* Finally, let's add the correct tick labels\n",
    "* You can use unicode to add the $^\\circ$"
   ]
  },
  {
   "cell_type": "code",
   "execution_count": null,
   "metadata": {
    "collapsed": false
   },
   "outputs": [],
   "source": [
    "yticks = range(-10, 101, 10)\n",
    "ylabels = [str(i) + u\"\\u00b0\" for i in yticks]\n",
    "ylabels"
   ]
  },
  {
   "cell_type": "markdown",
   "metadata": {},
   "source": [
    "## Other frequently used plotting tricks"
   ]
  },
  {
   "cell_type": "markdown",
   "metadata": {},
   "source": [
    "### XKCD and Annotation"
   ]
  },
  {
   "cell_type": "code",
   "execution_count": null,
   "metadata": {
    "collapsed": false
   },
   "outputs": [],
   "source": [
    "with plt.xkcd():\n",
    "    # Based on \"Stove Ownership\" from XKCD by Randall Monroe\n",
    "    # http://xkcd.com/418/\n",
    "\n",
    "    fig = plt.figure()\n",
    "    ax = fig.add_axes((0.1, 0.2, 0.8, 0.7))\n",
    "    ax.spines['right'].set_color('none')\n",
    "    ax.spines['top'].set_color('none')\n",
    "    plt.xticks([])\n",
    "    plt.yticks([])\n",
    "    ax.set_ylim([-30, 10])\n",
    "\n",
    "    data = np.ones(100)\n",
    "    data[70:] -= np.arange(1, 31)\n",
    "\n",
    "    plt.annotate(\n",
    "        'THE DAY I REALIZED\\nI COULD COOK BACON\\nWHENEVER I WANTED',\n",
    "        xy=(70, 1), arrowprops=dict(arrowstyle='->'), xytext=(15, -10), zorder=-1)\n",
    "\n",
    "    plt.plot(data)\n",
    "\n",
    "    plt.xlabel('time')\n",
    "    plt.ylabel('my overall health')\n",
    "    fig.text(0.5, 0.05, \n",
    "             '\"Stove Ownership\" from xkcd by Randall Monroe', ha='center')"
   ]
  },
  {
   "cell_type": "code",
   "execution_count": null,
   "metadata": {
    "collapsed": false
   },
   "outputs": [],
   "source": [
    "with plt.xkcd():\n",
    "    # Based on \"The data So Far\" from XKCD by Randall Monroe\n",
    "    # http://xkcd.com/373/\n",
    "\n",
    "    fig = plt.figure()\n",
    "    ax = fig.add_axes((0.1, 0.2, 0.8, 0.7))\n",
    "    ax.bar([-0.125, 1.0-0.125], [0, 100], 0.25)\n",
    "    ax.spines['right'].set_color('none')\n",
    "    ax.spines['top'].set_color('none')\n",
    "    ax.xaxis.set_ticks_position('bottom')\n",
    "    ax.set_xticks([0, 1])\n",
    "    ax.set_xlim([-0.5, 1.5])\n",
    "    ax.set_ylim([0, 110])\n",
    "    ax.set_xticklabels(['CONFIRMED BY\\nEXPERIMENT', 'REFUTED BY\\nEXPERIMENT'])\n",
    "    ax.set_yticks([])\n",
    "\n",
    "    fig.suptitle(\"CLAIMS OF SUPERNATURAL POWERS\")\n",
    "\n",
    "    fig.text(0.5, 0.01,\n",
    "             '\"The Data So Far\" from xkcd by Randall Monroe',\n",
    "             ha='center', )"
   ]
  },
  {
   "cell_type": "markdown",
   "metadata": {},
   "source": [
    "### Tick Tricks"
   ]
  },
  {
   "cell_type": "code",
   "execution_count": null,
   "metadata": {
    "collapsed": true
   },
   "outputs": [],
   "source": [
    "from matplotlib.ticker import MaxNLocator"
   ]
  },
  {
   "cell_type": "code",
   "execution_count": null,
   "metadata": {
    "collapsed": true
   },
   "outputs": [],
   "source": [
    "x = np.arange(20)\n",
    "y = np.random.randn(20)"
   ]
  },
  {
   "cell_type": "code",
   "execution_count": null,
   "metadata": {
    "collapsed": false
   },
   "outputs": [],
   "source": [
    "fig, ax = plt.subplots()\n",
    "ax.plot(x, y)\n",
    "ax.xaxis.set_major_locator(MaxNLocator(nbins=8))"
   ]
  },
  {
   "cell_type": "markdown",
   "metadata": {},
   "source": [
    "### ColorMaps"
   ]
  },
  {
   "cell_type": "markdown",
   "metadata": {},
   "source": [
    "See [colormap reference]()"
   ]
  },
  {
   "cell_type": "markdown",
   "metadata": {},
   "source": [
    "### Sharing Axes"
   ]
  },
  {
   "cell_type": "code",
   "execution_count": null,
   "metadata": {
    "collapsed": true
   },
   "outputs": [],
   "source": [
    "x = np.arange(20)\n",
    "\n",
    "y1 = np.random.randn(20)\n",
    "y2 = np.random.randn(20)"
   ]
  },
  {
   "cell_type": "code",
   "execution_count": null,
   "metadata": {
    "collapsed": false
   },
   "outputs": [],
   "source": [
    "fig, axes = plt.subplots(2, 1, sharex=True)\n",
    "\n",
    "axes[0].plot(x, y1)\n",
    "axes[1].plot(x, y2)\n",
    "fig.tight_layout()"
   ]
  },
  {
   "cell_type": "markdown",
   "metadata": {},
   "source": [
    "### Twinning Axes"
   ]
  },
  {
   "cell_type": "code",
   "execution_count": null,
   "metadata": {
    "collapsed": true
   },
   "outputs": [],
   "source": [
    "t = np.arange(0.01, 10.0, 0.01)\n",
    "s1 = np.exp(t)\n",
    "s2 = np.sin(2*np.pi*t)"
   ]
  },
  {
   "cell_type": "code",
   "execution_count": null,
   "metadata": {
    "collapsed": false
   },
   "outputs": [],
   "source": [
    "fig, ax1 = plt.subplots()\n",
    "\n",
    "\n",
    "ax1.plot(t, s1, 'b-')\n",
    "ax1.set_xlabel('time (s)')\n",
    "\n",
    "# Make the y-axis label and tick labels match the line color.\n",
    "ax1.set_ylabel('exp', color='b', fontsize=18)\n",
    "for tl in ax1.get_yticklabels():\n",
    "    tl.set_color('b')\n",
    "\n",
    "ax2 = ax1.twinx()\n",
    "\n",
    "ax2.plot(t, s2, 'r.')\n",
    "ax2.set_ylabel('sin', color='r', fontsize=18)\n",
    "\n",
    "for tl in ax2.get_yticklabels():\n",
    "    tl.set_color('r')"
   ]
  },
  {
   "cell_type": "markdown",
   "metadata": {},
   "source": [
    "### Image Plots"
   ]
  },
  {
   "cell_type": "code",
   "execution_count": null,
   "metadata": {
    "collapsed": false
   },
   "outputs": [],
   "source": [
    "fig, ax = plt.subplots()\n",
    "ax.imshow(np.random.uniform(0, 1, size=(50, 50)), cmap=\"RdYlGn\")"
   ]
  },
  {
   "cell_type": "markdown",
   "metadata": {},
   "source": [
    "### $LaTeX$"
   ]
  },
  {
   "cell_type": "markdown",
   "metadata": {},
   "source": [
    "* By default, matplotlib uses its own $TeX$ enging for text and math layout\n",
    "* You have the option to use call out to $TeX$, though by setting the `text.usetext` option"
   ]
  },
  {
   "cell_type": "code",
   "execution_count": null,
   "metadata": {
    "collapsed": false
   },
   "outputs": [],
   "source": [
    "fig, ax = plt.subplots()\n",
    "ax.set_ylabel(\"$\\\\beta^2$\", fontsize=20, rotation=0, labelpad=20)"
   ]
  },
  {
   "cell_type": "code",
   "execution_count": null,
   "metadata": {
    "collapsed": false
   },
   "outputs": [],
   "source": [
    "with mpl.rc_context(rc={\"text.usetex\": True}):\n",
    "    fig, ax = plt.subplots(figsize=(5, 5))\n",
    "    ax.set_ylabel(\"$\\\\beta^2$\", fontsize=20, rotation=0, labelpad=20)"
   ]
  },
  {
   "cell_type": "markdown",
   "metadata": {},
   "source": [
    "### Contour Plots"
   ]
  },
  {
   "cell_type": "code",
   "execution_count": null,
   "metadata": {
    "collapsed": true
   },
   "outputs": [],
   "source": [
    "from matplotlib.pylab import bivariate_normal\n",
    "np.random.seed(12)\n",
    "\n",
    "delta = 0.025\n",
    "x = np.arange(-3.0, 3.0, delta)\n",
    "y = np.arange(-2.0, 2.0, delta)\n",
    "X, Y = np.meshgrid(x, y)\n",
    "\n",
    "Z1 = bivariate_normal(X, Y, 1.0, 1.0, 0.0, 0.0)\n",
    "Z2 = bivariate_normal(X, Y, 1.5, 0.5, 1, 1)\n",
    "# difference of Gaussians\n",
    "Z = 10.0 * (Z2 - Z1)"
   ]
  },
  {
   "cell_type": "code",
   "execution_count": null,
   "metadata": {
    "collapsed": false
   },
   "outputs": [],
   "source": [
    "with mpl.rc_context(rc={'xtick.direction': 'out',\n",
    "                        'ytick.direction': 'out'}):\n",
    "    # Create a simple contour plot with labels using default colors.  The\n",
    "    # inline argument to clabel will control whether the labels are draw\n",
    "    # over the line segments of the contour, removing the lines beneath\n",
    "    # the label\n",
    "    fig, ax = plt.subplots(figsize=(8, 8))\n",
    "    \n",
    "    contours = ax.contour(X, Y, Z)\n",
    "    ax.clabel(contours, inline=1, fontsize=10)"
   ]
  },
  {
   "cell_type": "markdown",
   "metadata": {},
   "source": [
    "### Arrows"
   ]
  },
  {
   "cell_type": "code",
   "execution_count": null,
   "metadata": {
    "collapsed": false
   },
   "outputs": [],
   "source": [
    "fig, ax = plt.subplots()\n",
    "ax.arrow(0, 0, 0.5, 0.5, head_width=0.05, head_length=0.1, fc='k', ec='k')\n",
    "\n",
    "ax.arrow(0.25, 0, 0.5, 0.5, head_width=0, head_length=0, fc='k', ec='k')"
   ]
  },
  {
   "cell_type": "markdown",
   "metadata": {},
   "source": [
    "### Filling in plots"
   ]
  },
  {
   "cell_type": "code",
   "execution_count": null,
   "metadata": {
    "collapsed": true
   },
   "outputs": [],
   "source": [
    "x = np.arange(0.0, 2, 0.01)\n",
    "y1 = np.sin(2*np.pi*x)\n",
    "y2 = 1.2*np.sin(4*np.pi*x)"
   ]
  },
  {
   "cell_type": "code",
   "execution_count": null,
   "metadata": {
    "collapsed": false
   },
   "outputs": [],
   "source": [
    "fig, axes = plt.subplots(3, 1, sharex=True, figsize=(6, 10))\n",
    "\n",
    "axes[0].fill_between(x, 0, y1)\n",
    "axes[0].set_ylabel('between y1 and 0')\n",
    "\n",
    "axes[1].fill_between(x, y1, 1)\n",
    "axes[1].set_ylabel('between y1 and 1')"
   ]
  }
 ],
 "metadata": {
  "kernelspec": {
   "display_name": "Python 3",
   "language": "python",
   "name": "python3"
  },
  "language_info": {
   "codemirror_mode": {
    "name": "ipython",
    "version": 3
   },
   "file_extension": ".py",
   "mimetype": "text/x-python",
   "name": "python",
   "nbconvert_exporter": "python",
   "pygments_lexer": "ipython3",
   "version": "3.5.1"
  }
 },
 "nbformat": 4,
 "nbformat_minor": 1
}
