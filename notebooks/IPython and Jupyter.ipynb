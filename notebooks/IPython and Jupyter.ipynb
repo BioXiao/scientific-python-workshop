{
 "cells": [
  {
   "cell_type": "markdown",
   "metadata": {},
   "source": [
    "# IPython\n",
    "\n",
    "**IPython** (Interactive Python) is an enhanced Python shell which provides a more robust and productive development environment for users. There are several key features that set it apart from the standard Python shell.\n",
    "\n",
    "* Interactive data analysis and visualization\n",
    "* Python kernel for Jupyter notebooks\n",
    "* Easy parallel computation\n",
    "\n",
    "### History\n",
    "\n",
    "In IPython, all your inputs and outputs are saved. There are two variables named `In` and `Out` which are assigned as you work with your results. All outputs are saved automatically to variables of the form `_N`, where `N` is the prompt number, and inputs to `_iN`. This allows you to recover quickly the result of a prior computation by referring to its number even if you forgot to store it as a variable. "
   ]
  },
  {
   "cell_type": "code",
   "execution_count": 1,
   "metadata": {
    "collapsed": false
   },
   "outputs": [
    {
     "data": {
      "text/plain": [
       "0.57275001690430671"
      ]
     },
     "execution_count": 1,
     "metadata": {},
     "output_type": "execute_result"
    }
   ],
   "source": [
    "import numpy as np\n",
    "np.sin(4)**2"
   ]
  },
  {
   "cell_type": "code",
   "execution_count": 2,
   "metadata": {
    "collapsed": false
   },
   "outputs": [
    {
     "data": {
      "text/plain": [
       "0.57275001690430671"
      ]
     },
     "execution_count": 2,
     "metadata": {},
     "output_type": "execute_result"
    }
   ],
   "source": [
    "_1"
   ]
  },
  {
   "cell_type": "code",
   "execution_count": 3,
   "metadata": {
    "collapsed": false
   },
   "outputs": [
    {
     "data": {
      "text/plain": [
       "'import numpy as np\\nnp.sin(4)**2'"
      ]
     },
     "execution_count": 3,
     "metadata": {},
     "output_type": "execute_result"
    }
   ],
   "source": [
    "_i1"
   ]
  },
  {
   "cell_type": "code",
   "execution_count": 4,
   "metadata": {
    "collapsed": false
   },
   "outputs": [
    {
     "data": {
      "text/plain": [
       "0.14318750422607668"
      ]
     },
     "execution_count": 4,
     "metadata": {},
     "output_type": "execute_result"
    }
   ],
   "source": [
    "_1 / 4."
   ]
  },
  {
   "cell_type": "markdown",
   "metadata": {},
   "source": [
    "### Introspection\n",
    "\n",
    "If you want details regarding the properties and functionality of any Python objects currently loaded into IPython, you can use the `?` to reveal any details that are available:"
   ]
  },
  {
   "cell_type": "code",
   "execution_count": 5,
   "metadata": {
    "collapsed": false
   },
   "outputs": [],
   "source": [
    "some_dict = {}\n",
    "some_dict?"
   ]
  },
  {
   "cell_type": "markdown",
   "metadata": {},
   "source": [
    "If available, additional detail is provided with two question marks, including the source code of the object itself."
   ]
  },
  {
   "cell_type": "code",
   "execution_count": 6,
   "metadata": {
    "collapsed": false
   },
   "outputs": [],
   "source": [
    "from numpy.linalg import cholesky\n",
    "cholesky??"
   ]
  },
  {
   "cell_type": "markdown",
   "metadata": {},
   "source": [
    "This syntax can also be used to search namespaces with wildcards (`*`)."
   ]
  },
  {
   "cell_type": "code",
   "execution_count": 8,
   "metadata": {
    "collapsed": false
   },
   "outputs": [],
   "source": [
    "import numpy as np\n",
    "np.random.rand*?"
   ]
  },
  {
   "cell_type": "markdown",
   "metadata": {},
   "source": [
    "### Tab completion\n",
    "\n",
    "Because IPython allows for introspection, it is able to afford the user the ability to tab-complete commands that have been partially typed. This is done by pressing the `<tab>` key at any point during the process of typing a command:"
   ]
  },
  {
   "cell_type": "code",
   "execution_count": null,
   "metadata": {
    "collapsed": false
   },
   "outputs": [],
   "source": [
    "np.ar"
   ]
  },
  {
   "cell_type": "markdown",
   "metadata": {},
   "source": [
    "This can even be used to help with specifying arguments to functions, which can sometimes be difficult to remember:"
   ]
  },
  {
   "cell_type": "code",
   "execution_count": null,
   "metadata": {
    "collapsed": false
   },
   "outputs": [],
   "source": [
    "plt.hist"
   ]
  },
  {
   "cell_type": "markdown",
   "metadata": {},
   "source": [
    "### System commands\n",
    "\n",
    "In IPython, you can type `ls` to see your files or `cd` to change directories, just like you would at a regular system prompt:"
   ]
  },
  {
   "cell_type": "code",
   "execution_count": 9,
   "metadata": {
    "collapsed": false
   },
   "outputs": [
    {
     "name": "stdout",
     "output_type": "stream",
     "text": [
      "LICENSE    README.md  \u001b[1m\u001b[36mdata\u001b[m\u001b[m/      \u001b[1m\u001b[36mnotebooks\u001b[m\u001b[m/\r\n"
     ]
    }
   ],
   "source": [
    "ls /Users/fonnescj/repositories/scientific-python-workshop/"
   ]
  },
  {
   "cell_type": "markdown",
   "metadata": {},
   "source": [
    "Virtually any system command can be accessed by prepending `!`, which passes any subsequent command directly to the OS."
   ]
  },
  {
   "cell_type": "code",
   "execution_count": 10,
   "metadata": {
    "collapsed": false
   },
   "outputs": [
    {
     "name": "stdout",
     "output_type": "stream",
     "text": [
      "/Applications/TeX/TeXShop.app/Contents/Resources/TeXShop/Engines/Inactive/pythontex/README.pdf\n",
      "/Applications/TeX/TeXShop.app/Contents/Resources/TeXShop/Engines/Inactive/pythontex/pythontex_gallery.pdf\n",
      "/System/Library/Frameworks/Python.framework/Versions/2.6/Extras/lib/python/matplotlib/backends/backend_pdf.py\n",
      "/System/Library/Frameworks/Python.framework/Versions/2.6/Extras/lib/python/matplotlib/backends/backend_pdf.pyc\n",
      "/System/Library/Frameworks/Python.framework/Versions/2.6/Extras/lib/python/matplotlib/mpl-data/fonts/pdfcorefonts\n",
      "/System/Library/Frameworks/Python.framework/Versions/2.6/Extras/lib/python/matplotlib/mpl-data/fonts/pdfcorefonts/Courier-Bold.afm\n",
      "/System/Library/Frameworks/Python.framework/Versions/2.6/Extras/lib/python/matplotlib/mpl-data/fonts/pdfcorefonts/Courier-BoldOblique.afm\n",
      "/System/Library/Frameworks/Python.framework/Versions/2.6/Extras/lib/python/matplotlib/mpl-data/fonts/pdfcorefonts/Courier-Oblique.afm\n",
      "/System/Library/Frameworks/Python.framework/Versions/2.6/Extras/lib/python/matplotlib/mpl-data/fonts/pdfcorefonts/Courier.afm\n",
      "/System/Library/Frameworks/Python.framework/Versions/2.6/Extras/lib/python/matplotlib/mpl-data/fonts/pdfcorefonts/Helvetica-Bold.afm\n",
      "/System/Library/Frameworks/Python.framework/Versions/2.6/Extras/lib/python/matplotlib/mpl-data/fonts/pdfcorefonts/Helvetica-BoldOblique.afm\n",
      "/System/Library/Frameworks/Python.framework/Versions/2.6/Extras/lib/python/matplotlib/mpl-data/fonts/pdfcorefonts/Helvetica-Oblique.afm\n",
      "/System/Library/Frameworks/Python.framework/Versions/2.6/Extras/lib/python/matplotlib/mpl-data/fonts/pdfcorefonts/Helvetica.afm\n",
      "/System/Library/Frameworks/Python.framework/Versions/2.6/Extras/lib/python/matplotlib/mpl-data/fonts/pdfcorefonts/Symbol.afm\n",
      "/System/Library/Frameworks/Python.framework/Versions/2.6/Extras/lib/python/matplotlib/mpl-data/fonts/pdfcorefonts/Times-Bold.afm\n",
      "/System/Library/Frameworks/Python.framework/Versions/2.6/Extras/lib/python/matplotlib/mpl-data/fonts/pdfcorefonts/Times-BoldItalic.afm\n",
      "/System/Library/Frameworks/Python.framework/Versions/2.6/Extras/lib/python/matplotlib/mpl-data/fonts/pdfcorefonts/Times-Italic.afm\n",
      "/System/Library/Frameworks/Python.framework/Versions/2.6/Extras/lib/python/matplotlib/mpl-data/fonts/pdfcorefonts/Times-Roman.afm\n",
      "/System/Library/Frameworks/Python.framework/Versions/2.6/Extras/lib/python/matplotlib/mpl-data/fonts/pdfcorefonts/ZapfDingbats.afm\n",
      "/System/Library/Frameworks/Python.framework/Versions/2.6/Extras/lib/python/matplotlib/mpl-data/fonts/pdfcorefonts/readme.txt\n",
      "/System/Library/Frameworks/Python.framework/Versions/2.6/Extras/lib/python/matplotlib/tests/test_backend_pdf.py\n",
      "/System/Library/Frameworks/Python.framework/Versions/2.6/Extras/lib/python/matplotlib/tests/test_backend_pdf.pyc\n",
      "/System/Library/Frameworks/Python.framework/Versions/2.7/Extras/lib/python/matplotlib/backends/backend_pdf.py\n",
      "/System/Library/Frameworks/Python.framework/Versions/2.7/Extras/lib/python/matplotlib/backends/backend_pdf.pyc\n",
      "/System/Library/Frameworks/Python.framework/Versions/2.7/Extras/lib/python/matplotlib/mpl-data/fonts/pdfcorefonts\n",
      "/System/Library/Frameworks/Python.framework/Versions/2.7/Extras/lib/python/matplotlib/mpl-data/fonts/pdfcorefonts/Courier-Bold.afm\n",
      "/System/Library/Frameworks/Python.framework/Versions/2.7/Extras/lib/python/matplotlib/mpl-data/fonts/pdfcorefonts/Courier-BoldOblique.afm\n",
      "/System/Library/Frameworks/Python.framework/Versions/2.7/Extras/lib/python/matplotlib/mpl-data/fonts/pdfcorefonts/Courier-Oblique.afm\n",
      "/System/Library/Frameworks/Python.framework/Versions/2.7/Extras/lib/python/matplotlib/mpl-data/fonts/pdfcorefonts/Courier.afm\n",
      "/System/Library/Frameworks/Python.framework/Versions/2.7/Extras/lib/python/matplotlib/mpl-data/fonts/pdfcorefonts/Helvetica-Bold.afm\n",
      "/System/Library/Frameworks/Python.framework/Versions/2.7/Extras/lib/python/matplotlib/mpl-data/fonts/pdfcorefonts/Helvetica-BoldOblique.afm\n",
      "/System/Library/Frameworks/Python.framework/Versions/2.7/Extras/lib/python/matplotlib/mpl-data/fonts/pdfcorefonts/Helvetica-Oblique.afm\n",
      "/System/Library/Frameworks/Python.framework/Versions/2.7/Extras/lib/python/matplotlib/mpl-data/fonts/pdfcorefonts/Helvetica.afm\n",
      "/System/Library/Frameworks/Python.framework/Versions/2.7/Extras/lib/python/matplotlib/mpl-data/fonts/pdfcorefonts/Symbol.afm\n",
      "/System/Library/Frameworks/Python.framework/Versions/2.7/Extras/lib/python/matplotlib/mpl-data/fonts/pdfcorefonts/Times-Bold.afm\n",
      "/System/Library/Frameworks/Python.framework/Versions/2.7/Extras/lib/python/matplotlib/mpl-data/fonts/pdfcorefonts/Times-BoldItalic.afm\n",
      "/System/Library/Frameworks/Python.framework/Versions/2.7/Extras/lib/python/matplotlib/mpl-data/fonts/pdfcorefonts/Times-Italic.afm\n",
      "/System/Library/Frameworks/Python.framework/Versions/2.7/Extras/lib/python/matplotlib/mpl-data/fonts/pdfcorefonts/Times-Roman.afm\n",
      "/System/Library/Frameworks/Python.framework/Versions/2.7/Extras/lib/python/matplotlib/mpl-data/fonts/pdfcorefonts/ZapfDingbats.afm\n",
      "/System/Library/Frameworks/Python.framework/Versions/2.7/Extras/lib/python/matplotlib/mpl-data/fonts/pdfcorefonts/readme.txt\n",
      "/System/Library/Frameworks/Python.framework/Versions/2.7/Extras/lib/python/matplotlib/tests/baseline_images/test_arrow_patches/fancyarrow_test_image.pdf\n",
      "/System/Library/Frameworks/Python.framework/Versions/2.7/Extras/lib/python/matplotlib/tests/baseline_images/test_artist/clip_path_clipping.pdf\n",
      "/System/Library/Frameworks/Python.framework/Versions/2.7/Extras/lib/python/matplotlib/tests/baseline_images/test_axes/arc_ellipse.pdf\n",
      "/System/Library/Frameworks/Python.framework/Versions/2.7/Extras/lib/python/matplotlib/tests/baseline_images/test_axes/autoscale_tiny_range.pdf\n",
      "/System/Library/Frameworks/Python.framework/Versions/2.7/Extras/lib/python/matplotlib/tests/baseline_images/test_axes/axhspan_epoch.pdf\n",
      "/System/Library/Frameworks/Python.framework/Versions/2.7/Extras/lib/python/matplotlib/tests/baseline_images/test_axes/axvspan_epoch.pdf\n",
      "/System/Library/Frameworks/Python.framework/Versions/2.7/Extras/lib/python/matplotlib/tests/baseline_images/test_axes/boxplot.pdf\n",
      "/System/Library/Frameworks/Python.framework/Versions/2.7/Extras/lib/python/matplotlib/tests/baseline_images/test_axes/canonical.pdf\n",
      "/System/Library/Frameworks/Python.framework/Versions/2.7/Extras/lib/python/matplotlib/tests/baseline_images/test_axes/const_xy.pdf\n",
      "/System/Library/Frameworks/Python.framework/Versions/2.7/Extras/lib/python/matplotlib/tests/baseline_images/test_axes/contour_colorbar.pdf\n",
      "/System/Library/Frameworks/Python.framework/Versions/2.7/Extras/lib/python/matplotlib/tests/baseline_images/test_axes/contour_hatching.pdf\n",
      "/System/Library/Frameworks/Python.framework/Versions/2.7/Extras/lib/python/matplotlib/tests/baseline_images/test_axes/errorbar_basic.pdf\n",
      "/System/Library/Frameworks/Python.framework/Versions/2.7/Extras/lib/python/matplotlib/tests/baseline_images/test_axes/errorbar_mixed.pdf\n",
      "/System/Library/Frameworks/Python.framework/Versions/2.7/Extras/lib/python/matplotlib/tests/baseline_images/test_axes/errorbar_zorder.pdf\n",
      "/System/Library/Frameworks/Python.framework/Versions/2.7/Extras/lib/python/matplotlib/tests/baseline_images/test_axes/eventplot.pdf\n",
      "/System/Library/Frameworks/Python.framework/Versions/2.7/Extras/lib/python/matplotlib/tests/baseline_images/test_axes/fill_between_interpolate.pdf\n",
      "/System/Library/Frameworks/Python.framework/Versions/2.7/Extras/lib/python/matplotlib/tests/baseline_images/test_axes/formatter_large_small.pdf\n",
      "/System/Library/Frameworks/Python.framework/Versions/2.7/Extras/lib/python/matplotlib/tests/baseline_images/test_axes/formatter_ticker_001.pdf\n",
      "/System/Library/Frameworks/Python.framework/Versions/2.7/Extras/lib/python/matplotlib/tests/baseline_images/test_axes/formatter_ticker_002.pdf\n",
      "/System/Library/Frameworks/Python.framework/Versions/2.7/Extras/lib/python/matplotlib/tests/baseline_images/test_axes/formatter_ticker_003.pdf\n",
      "/System/Library/Frameworks/Python.framework/Versions/2.7/Extras/lib/python/matplotlib/tests/baseline_images/test_axes/formatter_ticker_004.pdf\n",
      "/System/Library/Frameworks/Python.framework/Versions/2.7/Extras/lib/python/matplotlib/tests/baseline_images/test_axes/formatter_ticker_005.pdf\n",
      "/System/Library/Frameworks/Python.framework/Versions/2.7/Extras/lib/python/matplotlib/tests/baseline_images/test_axes/hist2d.pdf\n",
      "/System/Library/Frameworks/Python.framework/Versions/2.7/Extras/lib/python/matplotlib/tests/baseline_images/test_axes/hist2d_transpose.pdf\n",
      "/System/Library/Frameworks/Python.framework/Versions/2.7/Extras/lib/python/matplotlib/tests/baseline_images/test_axes/hist_log.pdf\n",
      "/System/Library/Frameworks/Python.framework/Versions/2.7/Extras/lib/python/matplotlib/tests/baseline_images/test_axes/hist_offset.pdf\n",
      "/System/Library/Frameworks/Python.framework/Versions/2.7/Extras/lib/python/matplotlib/tests/baseline_images/test_axes/hist_stacked_bar.pdf\n",
      "/System/Library/Frameworks/Python.framework/Versions/2.7/Extras/lib/python/matplotlib/tests/baseline_images/test_axes/hist_stacked_normed.pdf\n",
      "/System/Library/Frameworks/Python.framework/Versions/2.7/Extras/lib/python/matplotlib/tests/baseline_images/test_axes/hist_stacked_step.pdf\n",
      "/System/Library/Frameworks/Python.framework/Versions/2.7/Extras/lib/python/matplotlib/tests/baseline_images/test_axes/hist_stacked_stepfilled.pdf\n",
      "/System/Library/Frameworks/Python.framework/Versions/2.7/Extras/lib/python/matplotlib/tests/baseline_images/test_axes/hist_stacked_stepfilled_alpha.pdf\n",
      "/System/Library/Frameworks/Python.framework/Versions/2.7/Extras/lib/python/matplotlib/tests/baseline_images/test_axes/hist_stacked_weights.pdf\n",
      "/System/Library/Frameworks/Python.framework/Versions/2.7/Extras/lib/python/matplotlib/tests/baseline_images/test_axes/hist_steplog.pdf\n",
      "/System/Library/Frameworks/Python.framework/Versions/2.7/Extras/lib/python/matplotlib/tests/baseline_images/test_axes/imshow.pdf\n",
      "/System/Library/Frameworks/Python.framework/Versions/2.7/Extras/lib/python/matplotlib/tests/baseline_images/test_axes/imshow_clip.pdf\n",
      "/System/Library/Frameworks/Python.framework/Versions/2.7/Extras/lib/python/matplotlib/tests/baseline_images/test_axes/log_scales.pdf\n",
      "/System/Library/Frameworks/Python.framework/Versions/2.7/Extras/lib/python/matplotlib/tests/baseline_images/test_axes/marker_edges.pdf\n",
      "/System/Library/Frameworks/Python.framework/Versions/2.7/Extras/lib/python/matplotlib/tests/baseline_images/test_axes/markevery.pdf\n",
      "/System/Library/Frameworks/Python.framework/Versions/2.7/Extras/lib/python/matplotlib/tests/baseline_images/test_axes/markevery_line.pdf\n",
      "/System/Library/Frameworks/Python.framework/Versions/2.7/Extras/lib/python/matplotlib/tests/baseline_images/test_axes/mixed_collection.pdf\n",
      "/System/Library/Frameworks/Python.framework/Versions/2.7/Extras/lib/python/matplotlib/tests/baseline_images/test_axes/mollweide_grid.pdf\n",
      "/System/Library/Frameworks/Python.framework/Versions/2.7/Extras/lib/python/matplotlib/tests/baseline_images/test_axes/nonfinite_limits.pdf\n",
      "/System/Library/Frameworks/Python.framework/Versions/2.7/Extras/lib/python/matplotlib/tests/baseline_images/test_axes/offset_points.pdf\n",
      "/System/Library/Frameworks/Python.framework/Versions/2.7/Extras/lib/python/matplotlib/tests/baseline_images/test_axes/pcolormesh.pdf\n",
      "/System/Library/Frameworks/Python.framework/Versions/2.7/Extras/lib/python/matplotlib/tests/baseline_images/test_axes/polar_axes.pdf\n",
      "/System/Library/Frameworks/Python.framework/Versions/2.7/Extras/lib/python/matplotlib/tests/baseline_images/test_axes/polar_coords.pdf\n",
      "/System/Library/Frameworks/Python.framework/Versions/2.7/Extras/lib/python/matplotlib/tests/baseline_images/test_axes/polar_rmin.pdf\n",
      "/System/Library/Frameworks/Python.framework/Versions/2.7/Extras/lib/python/matplotlib/tests/baseline_images/test_axes/polar_theta_position.pdf\n",
      "/System/Library/Frameworks/Python.framework/Versions/2.7/Extras/lib/python/matplotlib/tests/baseline_images/test_axes/polar_units.pdf\n",
      "/System/Library/Frameworks/Python.framework/Versions/2.7/Extras/lib/python/matplotlib/tests/baseline_images/test_axes/polar_units_2.pdf\n",
      "/System/Library/Frameworks/Python.framework/Versions/2.7/Extras/lib/python/matplotlib/tests/baseline_images/test_axes/polar_wrap_180.pdf\n",
      "/System/Library/Frameworks/Python.framework/Versions/2.7/Extras/lib/python/matplotlib/tests/baseline_images/test_axes/polar_wrap_360.pdf\n",
      "/System/Library/Frameworks/Python.framework/Versions/2.7/Extras/lib/python/matplotlib/tests/baseline_images/test_axes/polycollection_joinstyle.pdf\n",
      "/System/Library/Frameworks/Python.framework/Versions/2.7/Extras/lib/python/matplotlib/tests/baseline_images/test_axes/scatter.pdf\n",
      "/System/Library/Frameworks/Python.framework/Versions/2.7/Extras/lib/python/matplotlib/tests/baseline_images/test_axes/shaped_data.pdf\n",
      "/System/Library/Frameworks/Python.framework/Versions/2.7/Extras/lib/python/matplotlib/tests/baseline_images/test_axes/single_date.pdf\n",
      "/System/Library/Frameworks/Python.framework/Versions/2.7/Extras/lib/python/matplotlib/tests/baseline_images/test_axes/single_point.pdf\n",
      "/System/Library/Frameworks/Python.framework/Versions/2.7/Extras/lib/python/matplotlib/tests/baseline_images/test_axes/stackplot_test_baseline.pdf\n",
      "/System/Library/Frameworks/Python.framework/Versions/2.7/Extras/lib/python/matplotlib/tests/baseline_images/test_axes/stackplot_test_image.pdf\n",
      "/System/Library/Frameworks/Python.framework/Versions/2.7/Extras/lib/python/matplotlib/tests/baseline_images/test_axes/step_linestyle.pdf\n",
      "/System/Library/Frameworks/Python.framework/Versions/2.7/Extras/lib/python/matplotlib/tests/baseline_images/test_axes/symlog.pdf\n",
      "/System/Library/Frameworks/Python.framework/Versions/2.7/Extras/lib/python/matplotlib/tests/baseline_images/test_axes/symlog2.pdf\n",
      "/System/Library/Frameworks/Python.framework/Versions/2.7/Extras/lib/python/matplotlib/tests/baseline_images/test_axes/test_alpha.pdf\n",
      "/System/Library/Frameworks/Python.framework/Versions/2.7/Extras/lib/python/matplotlib/tests/baseline_images/test_axes/transparent_markers.pdf\n",
      "/System/Library/Frameworks/Python.framework/Versions/2.7/Extras/lib/python/matplotlib/tests/baseline_images/test_axes/twin_axis_locaters_formatters.pdf\n",
      "/System/Library/Frameworks/Python.framework/Versions/2.7/Extras/lib/python/matplotlib/tests/baseline_images/test_axes/units_strings.pdf\n",
      "/System/Library/Frameworks/Python.framework/Versions/2.7/Extras/lib/python/matplotlib/tests/baseline_images/test_axes/vline_hline_zorder.pdf\n",
      "/System/Library/Frameworks/Python.framework/Versions/2.7/Extras/lib/python/matplotlib/tests/baseline_images/test_backend_pdf\n",
      "/System/Library/Frameworks/Python.framework/Versions/2.7/Extras/lib/python/matplotlib/tests/baseline_images/test_backend_pdf/pdf_use14corefonts.pdf\n",
      "/System/Library/Frameworks/Python.framework/Versions/2.7/Extras/lib/python/matplotlib/tests/baseline_images/test_backend_pgf/pgf_mixedmode.pdf\n",
      "/System/Library/Frameworks/Python.framework/Versions/2.7/Extras/lib/python/matplotlib/tests/baseline_images/test_backend_pgf/pgf_pdflatex.pdf\n",
      "/System/Library/Frameworks/Python.framework/Versions/2.7/Extras/lib/python/matplotlib/tests/baseline_images/test_backend_pgf/pgf_rcupdate1.pdf\n",
      "/System/Library/Frameworks/Python.framework/Versions/2.7/Extras/lib/python/matplotlib/tests/baseline_images/test_backend_pgf/pgf_rcupdate2.pdf\n",
      "/System/Library/Frameworks/Python.framework/Versions/2.7/Extras/lib/python/matplotlib/tests/baseline_images/test_backend_pgf/pgf_xelatex.pdf\n",
      "/System/Library/Frameworks/Python.framework/Versions/2.7/Extras/lib/python/matplotlib/tests/baseline_images/test_backend_svg/noscale.pdf\n",
      "/System/Library/Frameworks/Python.framework/Versions/2.7/Extras/lib/python/matplotlib/tests/baseline_images/test_bbox_tight/bbox_inches_tight.pdf\n",
      "/System/Library/Frameworks/Python.framework/Versions/2.7/Extras/lib/python/matplotlib/tests/baseline_images/test_bbox_tight/bbox_inches_tight_clipping.pdf\n",
      "/System/Library/Frameworks/Python.framework/Versions/2.7/Extras/lib/python/matplotlib/tests/baseline_images/test_bbox_tight/bbox_inches_tight_suptile_legend.pdf\n",
      "/System/Library/Frameworks/Python.framework/Versions/2.7/Extras/lib/python/matplotlib/tests/baseline_images/test_collections/EventCollection_plot__add_positions.pdf\n",
      "/System/Library/Frameworks/Python.framework/Versions/2.7/Extras/lib/python/matplotlib/tests/baseline_images/test_collections/EventCollection_plot__append_positions.pdf\n",
      "/System/Library/Frameworks/Python.framework/Versions/2.7/Extras/lib/python/matplotlib/tests/baseline_images/test_collections/EventCollection_plot__default.pdf\n",
      "/System/Library/Frameworks/Python.framework/Versions/2.7/Extras/lib/python/matplotlib/tests/baseline_images/test_collections/EventCollection_plot__extend_positions.pdf\n",
      "/System/Library/Frameworks/Python.framework/Versions/2.7/Extras/lib/python/matplotlib/tests/baseline_images/test_collections/EventCollection_plot__set_color.pdf\n",
      "/System/Library/Frameworks/Python.framework/Versions/2.7/Extras/lib/python/matplotlib/tests/baseline_images/test_collections/EventCollection_plot__set_linelength.pdf\n",
      "/System/Library/Frameworks/Python.framework/Versions/2.7/Extras/lib/python/matplotlib/tests/baseline_images/test_collections/EventCollection_plot__set_lineoffset.pdf\n",
      "/System/Library/Frameworks/Python.framework/Versions/2.7/Extras/lib/python/matplotlib/tests/baseline_images/test_collections/EventCollection_plot__set_linestyle.pdf\n",
      "/System/Library/Frameworks/Python.framework/Versions/2.7/Extras/lib/python/matplotlib/tests/baseline_images/test_collections/EventCollection_plot__set_linewidth.pdf\n",
      "/System/Library/Frameworks/Python.framework/Versions/2.7/Extras/lib/python/matplotlib/tests/baseline_images/test_collections/EventCollection_plot__set_orientation.pdf\n",
      "/System/Library/Frameworks/Python.framework/Versions/2.7/Extras/lib/python/matplotlib/tests/baseline_images/test_collections/EventCollection_plot__set_positions.pdf\n",
      "/System/Library/Frameworks/Python.framework/Versions/2.7/Extras/lib/python/matplotlib/tests/baseline_images/test_collections/EventCollection_plot__switch_orientation.pdf\n",
      "/System/Library/Frameworks/Python.framework/Versions/2.7/Extras/lib/python/matplotlib/tests/baseline_images/test_collections/EventCollection_plot__switch_orientation__2x.pdf\n",
      "/System/Library/Frameworks/Python.framework/Versions/2.7/Extras/lib/python/matplotlib/tests/baseline_images/test_contour/contour_manual_labels.pdf\n",
      "/System/Library/Frameworks/Python.framework/Versions/2.7/Extras/lib/python/matplotlib/tests/baseline_images/test_figure/figure_suptitle.pdf\n",
      "/System/Library/Frameworks/Python.framework/Versions/2.7/Extras/lib/python/matplotlib/tests/baseline_images/test_figure/figure_today.pdf\n",
      "/System/Library/Frameworks/Python.framework/Versions/2.7/Extras/lib/python/matplotlib/tests/baseline_images/test_image/image_clip.pdf\n",
      "/System/Library/Frameworks/Python.framework/Versions/2.7/Extras/lib/python/matplotlib/tests/baseline_images/test_image/image_composite_alpha.pdf\n",
      "/System/Library/Frameworks/Python.framework/Versions/2.7/Extras/lib/python/matplotlib/tests/baseline_images/test_image/image_composite_background.pdf\n",
      "/System/Library/Frameworks/Python.framework/Versions/2.7/Extras/lib/python/matplotlib/tests/baseline_images/test_image/image_interps.pdf\n",
      "/System/Library/Frameworks/Python.framework/Versions/2.7/Extras/lib/python/matplotlib/tests/baseline_images/test_image/image_shift.pdf\n",
      "/System/Library/Frameworks/Python.framework/Versions/2.7/Extras/lib/python/matplotlib/tests/baseline_images/test_image/imshow.pdf\n",
      "/System/Library/Frameworks/Python.framework/Versions/2.7/Extras/lib/python/matplotlib/tests/baseline_images/test_image/interp_nearest_vs_none.pdf\n",
      "/System/Library/Frameworks/Python.framework/Versions/2.7/Extras/lib/python/matplotlib/tests/baseline_images/test_image/no_interpolation_origin.pdf\n",
      "/System/Library/Frameworks/Python.framework/Versions/2.7/Extras/lib/python/matplotlib/tests/baseline_images/test_image/rasterize_10dpi.pdf\n",
      "/System/Library/Frameworks/Python.framework/Versions/2.7/Extras/lib/python/matplotlib/tests/baseline_images/test_legend/fancy.pdf\n",
      "/System/Library/Frameworks/Python.framework/Versions/2.7/Extras/lib/python/matplotlib/tests/baseline_images/test_legend/framealpha.pdf\n",
      "/System/Library/Frameworks/Python.framework/Versions/2.7/Extras/lib/python/matplotlib/tests/baseline_images/test_legend/legend_auto1.pdf\n",
      "/System/Library/Frameworks/Python.framework/Versions/2.7/Extras/lib/python/matplotlib/tests/baseline_images/test_legend/legend_auto2.pdf\n",
      "/System/Library/Frameworks/Python.framework/Versions/2.7/Extras/lib/python/matplotlib/tests/baseline_images/test_legend/legend_auto3.pdf\n",
      "/System/Library/Frameworks/Python.framework/Versions/2.7/Extras/lib/python/matplotlib/tests/baseline_images/test_legend/legend_expand.pdf\n",
      "/System/Library/Frameworks/Python.framework/Versions/2.7/Extras/lib/python/matplotlib/tests/baseline_images/test_legend/legend_various_labels.pdf\n",
      "/System/Library/Frameworks/Python.framework/Versions/2.7/Extras/lib/python/matplotlib/tests/baseline_images/test_legend/scatter_rc1.pdf\n",
      "/System/Library/Frameworks/Python.framework/Versions/2.7/Extras/lib/python/matplotlib/tests/baseline_images/test_legend/scatter_rc3.pdf\n",
      "/System/Library/Frameworks/Python.framework/Versions/2.7/Extras/lib/python/matplotlib/tests/baseline_images/test_lines/line_collection_dashes.pdf\n",
      "/System/Library/Frameworks/Python.framework/Versions/2.7/Extras/lib/python/matplotlib/tests/baseline_images/test_mathtext/mathtext_cm_00.pdf\n",
      "/System/Library/Frameworks/Python.framework/Versions/2.7/Extras/lib/python/matplotlib/tests/baseline_images/test_mathtext/mathtext_cm_01.pdf\n",
      "/System/Library/Frameworks/Python.framework/Versions/2.7/Extras/lib/python/matplotlib/tests/baseline_images/test_mathtext/mathtext_cm_02.pdf\n",
      "/System/Library/Frameworks/Python.framework/Versions/2.7/Extras/lib/python/matplotlib/tests/baseline_images/test_mathtext/mathtext_cm_03.pdf\n",
      "/System/Library/Frameworks/Python.framework/Versions/2.7/Extras/lib/python/matplotlib/tests/baseline_images/test_mathtext/mathtext_cm_04.pdf\n",
      "/System/Library/Frameworks/Python.framework/Versions/2.7/Extras/lib/python/matplotlib/tests/baseline_images/test_mathtext/mathtext_cm_05.pdf\n",
      "/System/Library/Frameworks/Python.framework/Versions/2.7/Extras/lib/python/matplotlib/tests/baseline_images/test_mathtext/mathtext_cm_06.pdf\n",
      "/System/Library/Frameworks/Python.framework/Versions/2.7/Extras/lib/python/matplotlib/tests/baseline_images/test_mathtext/mathtext_cm_07.pdf\n",
      "/System/Library/Frameworks/Python.framework/Versions/2.7/Extras/lib/python/matplotlib/tests/baseline_images/test_mathtext/mathtext_cm_08.pdf\n",
      "/System/Library/Frameworks/Python.framework/Versions/2.7/Extras/lib/python/matplotlib/tests/baseline_images/test_mathtext/mathtext_cm_09.pdf\n",
      "/System/Library/Frameworks/Python.framework/Versions/2.7/Extras/lib/python/matplotlib/tests/baseline_images/test_mathtext/mathtext_cm_10.pdf\n",
      "/System/Library/Frameworks/Python.framework/Versions/2.7/Extras/lib/python/matplotlib/tests/baseline_images/test_mathtext/mathtext_cm_11.pdf\n",
      "/System/Library/Frameworks/Python.framework/Versions/2.7/Extras/lib/python/matplotlib/tests/baseline_images/test_mathtext/mathtext_cm_12.pdf\n",
      "/System/Library/Frameworks/Python.framework/Versions/2.7/Extras/lib/python/matplotlib/tests/baseline_images/test_mathtext/mathtext_cm_13.pdf\n",
      "/System/Library/Frameworks/Python.framework/Versions/2.7/Extras/lib/python/matplotlib/tests/baseline_images/test_mathtext/mathtext_cm_14.pdf\n",
      "/System/Library/Frameworks/Python.framework/Versions/2.7/Extras/lib/python/matplotlib/tests/baseline_images/test_mathtext/mathtext_cm_15.pdf\n",
      "/System/Library/Frameworks/Python.framework/Versions/2.7/Extras/lib/python/matplotlib/tests/baseline_images/test_mathtext/mathtext_cm_16.pdf\n",
      "/System/Library/Frameworks/Python.framework/Versions/2.7/Extras/lib/python/matplotlib/tests/baseline_images/test_mathtext/mathtext_cm_17.pdf\n",
      "/System/Library/Frameworks/Python.framework/Versions/2.7/Extras/lib/python/matplotlib/tests/baseline_images/test_mathtext/mathtext_cm_18.pdf\n",
      "/System/Library/Frameworks/Python.framework/Versions/2.7/Extras/lib/python/matplotlib/tests/baseline_images/test_mathtext/mathtext_cm_19.pdf\n",
      "/System/Library/Frameworks/Python.framework/Versions/2.7/Extras/lib/python/matplotlib/tests/baseline_images/test_mathtext/mathtext_cm_20.pdf\n",
      "/System/Library/Frameworks/Python.framework/Versions/2.7/Extras/lib/python/matplotlib/tests/baseline_images/test_mathtext/mathtext_cm_21.pdf\n",
      "/System/Library/Frameworks/Python.framework/Versions/2.7/Extras/lib/python/matplotlib/tests/baseline_images/test_mathtext/mathtext_cm_22.pdf\n",
      "/System/Library/Frameworks/Python.framework/Versions/2.7/Extras/lib/python/matplotlib/tests/baseline_images/test_mathtext/mathtext_cm_23.pdf\n",
      "/System/Library/Frameworks/Python.framework/Versions/2.7/Extras/lib/python/matplotlib/tests/baseline_images/test_mathtext/mathtext_cm_24.pdf\n",
      "/System/Library/Frameworks/Python.framework/Versions/2.7/Extras/lib/python/matplotlib/tests/baseline_images/test_mathtext/mathtext_cm_25.pdf\n",
      "/System/Library/Frameworks/Python.framework/Versions/2.7/Extras/lib/python/matplotlib/tests/baseline_images/test_mathtext/mathtext_cm_26.pdf\n",
      "/System/Library/Frameworks/Python.framework/Versions/2.7/Extras/lib/python/matplotlib/tests/baseline_images/test_mathtext/mathtext_cm_27.pdf\n",
      "/System/Library/Frameworks/Python.framework/Versions/2.7/Extras/lib/python/matplotlib/tests/baseline_images/test_mathtext/mathtext_cm_28.pdf\n",
      "/System/Library/Frameworks/Python.framework/Versions/2.7/Extras/lib/python/matplotlib/tests/baseline_images/test_mathtext/mathtext_cm_29.pdf\n",
      "/System/Library/Frameworks/Python.framework/Versions/2.7/Extras/lib/python/matplotlib/tests/baseline_images/test_mathtext/mathtext_cm_30.pdf\n",
      "/System/Library/Frameworks/Python.framework/Versions/2.7/Extras/lib/python/matplotlib/tests/baseline_images/test_mathtext/mathtext_cm_31.pdf\n",
      "/System/Library/Frameworks/Python.framework/Versions/2.7/Extras/lib/python/matplotlib/tests/baseline_images/test_mathtext/mathtext_cm_32.pdf\n",
      "/System/Library/Frameworks/Python.framework/Versions/2.7/Extras/lib/python/matplotlib/tests/baseline_images/test_mathtext/mathtext_cm_33.pdf\n",
      "/System/Library/Frameworks/Python.framework/Versions/2.7/Extras/lib/python/matplotlib/tests/baseline_images/test_mathtext/mathtext_cm_34.pdf\n",
      "/System/Library/Frameworks/Python.framework/Versions/2.7/Extras/lib/python/matplotlib/tests/baseline_images/test_mathtext/mathtext_cm_35.pdf\n",
      "/System/Library/Frameworks/Python.framework/Versions/2.7/Extras/lib/python/matplotlib/tests/baseline_images/test_mathtext/mathtext_cm_36.pdf\n",
      "/System/Library/Frameworks/Python.framework/Versions/2.7/Extras/lib/python/matplotlib/tests/baseline_images/test_mathtext/mathtext_cm_37.pdf\n",
      "/System/Library/Frameworks/Python.framework/Versions/2.7/Extras/lib/python/matplotlib/tests/baseline_images/test_mathtext/mathtext_cm_38.pdf\n",
      "/System/Library/Frameworks/Python.framework/Versions/2.7/Extras/lib/python/matplotlib/tests/baseline_images/test_mathtext/mathtext_cm_39.pdf\n",
      "/System/Library/Frameworks/Python.framework/Versions/2.7/Extras/lib/python/matplotlib/tests/baseline_images/test_mathtext/mathtext_cm_40.pdf\n",
      "/System/Library/Frameworks/Python.framework/Versions/2.7/Extras/lib/python/matplotlib/tests/baseline_images/test_mathtext/mathtext_cm_41.pdf\n",
      "/System/Library/Frameworks/Python.framework/Versions/2.7/Extras/lib/python/matplotlib/tests/baseline_images/test_mathtext/mathtext_cm_42.pdf\n",
      "/System/Library/Frameworks/Python.framework/Versions/2.7/Extras/lib/python/matplotlib/tests/baseline_images/test_mathtext/mathtext_cm_43.pdf\n",
      "/System/Library/Frameworks/Python.framework/Versions/2.7/Extras/lib/python/matplotlib/tests/baseline_images/test_mathtext/mathtext_cm_44.pdf\n",
      "/System/Library/Frameworks/Python.framework/Versions/2.7/Extras/lib/python/matplotlib/tests/baseline_images/test_mathtext/mathtext_cm_45.pdf\n",
      "/System/Library/Frameworks/Python.framework/Versions/2.7/Extras/lib/python/matplotlib/tests/baseline_images/test_mathtext/mathtext_cm_46.pdf\n",
      "/System/Library/Frameworks/Python.framework/Versions/2.7/Extras/lib/python/matplotlib/tests/baseline_images/test_mathtext/mathtext_cm_47.pdf\n",
      "/System/Library/Frameworks/Python.framework/Versions/2.7/Extras/lib/python/matplotlib/tests/baseline_images/test_mathtext/mathtext_cm_48.pdf\n",
      "/System/Library/Frameworks/Python.framework/Versions/2.7/Extras/lib/python/matplotlib/tests/baseline_images/test_mathtext/mathtext_cm_49.pdf\n",
      "/System/Library/Frameworks/Python.framework/Versions/2.7/Extras/lib/python/matplotlib/tests/baseline_images/test_mathtext/mathtext_cm_50.pdf\n",
      "/System/Library/Frameworks/Python.framework/Versions/2.7/Extras/lib/python/matplotlib/tests/baseline_images/test_mathtext/mathtext_cm_51.pdf\n",
      "/System/Library/Frameworks/Python.framework/Versions/2.7/Extras/lib/python/matplotlib/tests/baseline_images/test_mathtext/mathtext_cm_52.pdf\n",
      "/System/Library/Frameworks/Python.framework/Versions/2.7/Extras/lib/python/matplotlib/tests/baseline_images/test_mathtext/mathtext_cm_53.pdf\n",
      "/System/Library/Frameworks/Python.framework/Versions/2.7/Extras/lib/python/matplotlib/tests/baseline_images/test_mathtext/mathtext_cm_54.pdf\n",
      "/System/Library/Frameworks/Python.framework/Versions/2.7/Extras/lib/python/matplotlib/tests/baseline_images/test_mathtext/mathtext_cm_55.pdf\n",
      "/System/Library/Frameworks/Python.framework/Versions/2.7/Extras/lib/python/matplotlib/tests/baseline_images/test_mathtext/mathtext_cm_56.pdf\n",
      "/System/Library/Frameworks/Python.framework/Versions/2.7/Extras/lib/python/matplotlib/tests/baseline_images/test_mathtext/mathtext_cm_57.pdf\n",
      "/System/Library/Frameworks/Python.framework/Versions/2.7/Extras/lib/python/matplotlib/tests/baseline_images/test_mathtext/mathtext_cm_58.pdf\n",
      "/System/Library/Frameworks/Python.framework/Versions/2.7/Extras/lib/python/matplotlib/tests/baseline_images/test_mathtext/mathtext_cm_59.pdf\n",
      "/System/Library/Frameworks/Python.framework/Versions/2.7/Extras/lib/python/matplotlib/tests/baseline_images/test_mathtext/mathtext_cm_60.pdf\n",
      "/System/Library/Frameworks/Python.framework/Versions/2.7/Extras/lib/python/matplotlib/tests/baseline_images/test_mathtext/mathtext_cm_61.pdf\n",
      "/System/Library/Frameworks/Python.framework/Versions/2.7/Extras/lib/python/matplotlib/tests/baseline_images/test_mathtext/mathtext_cm_62.pdf\n",
      "/System/Library/Frameworks/Python.framework/Versions/2.7/Extras/lib/python/matplotlib/tests/baseline_images/test_mathtext/mathtext_cm_63.pdf\n",
      "/System/Library/Frameworks/Python.framework/Versions/2.7/Extras/lib/python/matplotlib/tests/baseline_images/test_mathtext/mathtext_cm_64.pdf\n",
      "/System/Library/Frameworks/Python.framework/Versions/2.7/Extras/lib/python/matplotlib/tests/baseline_images/test_mathtext/mathtext_cm_65.pdf\n",
      "/System/Library/Frameworks/Python.framework/Versions/2.7/Extras/lib/python/matplotlib/tests/baseline_images/test_mathtext/mathtext_cm_66.pdf\n",
      "/System/Library/Frameworks/Python.framework/Versions/2.7/Extras/lib/python/matplotlib/tests/baseline_images/test_mathtext/mathtext_cm_67.pdf\n",
      "/System/Library/Frameworks/Python.framework/Versions/2.7/Extras/lib/python/matplotlib/tests/baseline_images/test_mathtext/mathtext_stix_00.pdf\n",
      "/System/Library/Frameworks/Python.framework/Versions/2.7/Extras/lib/python/matplotlib/tests/baseline_images/test_mathtext/mathtext_stix_01.pdf\n",
      "/System/Library/Frameworks/Python.framework/Versions/2.7/Extras/lib/python/matplotlib/tests/baseline_images/test_mathtext/mathtext_stix_02.pdf\n",
      "/System/Library/Frameworks/Python.framework/Versions/2.7/Extras/lib/python/matplotlib/tests/baseline_images/test_mathtext/mathtext_stix_03.pdf\n",
      "/System/Library/Frameworks/Python.framework/Versions/2.7/Extras/lib/python/matplotlib/tests/baseline_images/test_mathtext/mathtext_stix_04.pdf\n",
      "/System/Library/Frameworks/Python.framework/Versions/2.7/Extras/lib/python/matplotlib/tests/baseline_images/test_mathtext/mathtext_stix_05.pdf\n",
      "/System/Library/Frameworks/Python.framework/Versions/2.7/Extras/lib/python/matplotlib/tests/baseline_images/test_mathtext/mathtext_stix_06.pdf\n",
      "/System/Library/Frameworks/Python.framework/Versions/2.7/Extras/lib/python/matplotlib/tests/baseline_images/test_mathtext/mathtext_stix_07.pdf\n",
      "/System/Library/Frameworks/Python.framework/Versions/2.7/Extras/lib/python/matplotlib/tests/baseline_images/test_mathtext/mathtext_stix_08.pdf\n",
      "/System/Library/Frameworks/Python.framework/Versions/2.7/Extras/lib/python/matplotlib/tests/baseline_images/test_mathtext/mathtext_stix_09.pdf\n",
      "/System/Library/Frameworks/Python.framework/Versions/2.7/Extras/lib/python/matplotlib/tests/baseline_images/test_mathtext/mathtext_stix_10.pdf\n",
      "/System/Library/Frameworks/Python.framework/Versions/2.7/Extras/lib/python/matplotlib/tests/baseline_images/test_mathtext/mathtext_stix_11.pdf\n",
      "/System/Library/Frameworks/Python.framework/Versions/2.7/Extras/lib/python/matplotlib/tests/baseline_images/test_mathtext/mathtext_stix_12.pdf\n",
      "/System/Library/Frameworks/Python.framework/Versions/2.7/Extras/lib/python/matplotlib/tests/baseline_images/test_mathtext/mathtext_stix_13.pdf\n",
      "/System/Library/Frameworks/Python.framework/Versions/2.7/Extras/lib/python/matplotlib/tests/baseline_images/test_mathtext/mathtext_stix_14.pdf\n",
      "/System/Library/Frameworks/Python.framework/Versions/2.7/Extras/lib/python/matplotlib/tests/baseline_images/test_mathtext/mathtext_stix_15.pdf\n",
      "/System/Library/Frameworks/Python.framework/Versions/2.7/Extras/lib/python/matplotlib/tests/baseline_images/test_mathtext/mathtext_stix_16.pdf\n",
      "/System/Library/Frameworks/Python.framework/Versions/2.7/Extras/lib/python/matplotlib/tests/baseline_images/test_mathtext/mathtext_stix_17.pdf\n",
      "/System/Library/Frameworks/Python.framework/Versions/2.7/Extras/lib/python/matplotlib/tests/baseline_images/test_mathtext/mathtext_stix_18.pdf\n",
      "/System/Library/Frameworks/Python.framework/Versions/2.7/Extras/lib/python/matplotlib/tests/baseline_images/test_mathtext/mathtext_stix_19.pdf\n",
      "/System/Library/Frameworks/Python.framework/Versions/2.7/Extras/lib/python/matplotlib/tests/baseline_images/test_mathtext/mathtext_stix_20.pdf\n",
      "/System/Library/Frameworks/Python.framework/Versions/2.7/Extras/lib/python/matplotlib/tests/baseline_images/test_mathtext/mathtext_stix_21.pdf\n",
      "/System/Library/Frameworks/Python.framework/Versions/2.7/Extras/lib/python/matplotlib/tests/baseline_images/test_mathtext/mathtext_stix_22.pdf\n",
      "/System/Library/Frameworks/Python.framework/Versions/2.7/Extras/lib/python/matplotlib/tests/baseline_images/test_mathtext/mathtext_stix_23.pdf\n",
      "/System/Library/Frameworks/Python.framework/Versions/2.7/Extras/lib/python/matplotlib/tests/baseline_images/test_mathtext/mathtext_stix_24.pdf\n",
      "/System/Library/Frameworks/Python.framework/Versions/2.7/Extras/lib/python/matplotlib/tests/baseline_images/test_mathtext/mathtext_stix_25.pdf\n",
      "/System/Library/Frameworks/Python.framework/Versions/2.7/Extras/lib/python/matplotlib/tests/baseline_images/test_mathtext/mathtext_stix_26.pdf\n",
      "/System/Library/Frameworks/Python.framework/Versions/2.7/Extras/lib/python/matplotlib/tests/baseline_images/test_mathtext/mathtext_stix_27.pdf\n",
      "/System/Library/Frameworks/Python.framework/Versions/2.7/Extras/lib/python/matplotlib/tests/baseline_images/test_mathtext/mathtext_stix_28.pdf\n",
      "/System/Library/Frameworks/Python.framework/Versions/2.7/Extras/lib/python/matplotlib/tests/baseline_images/test_mathtext/mathtext_stix_29.pdf\n",
      "/System/Library/Frameworks/Python.framework/Versions/2.7/Extras/lib/python/matplotlib/tests/baseline_images/test_mathtext/mathtext_stix_30.pdf\n",
      "/System/Library/Frameworks/Python.framework/Versions/2.7/Extras/lib/python/matplotlib/tests/baseline_images/test_mathtext/mathtext_stix_31.pdf\n",
      "/System/Library/Frameworks/Python.framework/Versions/2.7/Extras/lib/python/matplotlib/tests/baseline_images/test_mathtext/mathtext_stix_32.pdf\n",
      "/System/Library/Frameworks/Python.framework/Versions/2.7/Extras/lib/python/matplotlib/tests/baseline_images/test_mathtext/mathtext_stix_33.pdf\n",
      "/System/Library/Frameworks/Python.framework/Versions/2.7/Extras/lib/python/matplotlib/tests/baseline_images/test_mathtext/mathtext_stix_34.pdf\n",
      "/System/Library/Frameworks/Python.framework/Versions/2.7/Extras/lib/python/matplotlib/tests/baseline_images/test_mathtext/mathtext_stix_35.pdf\n",
      "/System/Library/Frameworks/Python.framework/Versions/2.7/Extras/lib/python/matplotlib/tests/baseline_images/test_mathtext/mathtext_stix_36.pdf\n",
      "/System/Library/Frameworks/Python.framework/Versions/2.7/Extras/lib/python/matplotlib/tests/baseline_images/test_mathtext/mathtext_stix_37.pdf\n",
      "/System/Library/Frameworks/Python.framework/Versions/2.7/Extras/lib/python/matplotlib/tests/baseline_images/test_mathtext/mathtext_stix_38.pdf\n",
      "/System/Library/Frameworks/Python.framework/Versions/2.7/Extras/lib/python/matplotlib/tests/baseline_images/test_mathtext/mathtext_stix_39.pdf\n",
      "/System/Library/Frameworks/Python.framework/Versions/2.7/Extras/lib/python/matplotlib/tests/baseline_images/test_mathtext/mathtext_stix_40.pdf\n",
      "/System/Library/Frameworks/Python.framework/Versions/2.7/Extras/lib/python/matplotlib/tests/baseline_images/test_mathtext/mathtext_stix_41.pdf\n",
      "/System/Library/Frameworks/Python.framework/Versions/2.7/Extras/lib/python/matplotlib/tests/baseline_images/test_mathtext/mathtext_stix_42.pdf\n",
      "/System/Library/Frameworks/Python.framework/Versions/2.7/Extras/lib/python/matplotlib/tests/baseline_images/test_mathtext/mathtext_stix_43.pdf\n",
      "/System/Library/Frameworks/Python.framework/Versions/2.7/Extras/lib/python/matplotlib/tests/baseline_images/test_mathtext/mathtext_stix_44.pdf\n",
      "/System/Library/Frameworks/Python.framework/Versions/2.7/Extras/lib/python/matplotlib/tests/baseline_images/test_mathtext/mathtext_stix_45.pdf\n",
      "/System/Library/Frameworks/Python.framework/Versions/2.7/Extras/lib/python/matplotlib/tests/baseline_images/test_mathtext/mathtext_stix_46.pdf\n",
      "/System/Library/Frameworks/Python.framework/Versions/2.7/Extras/lib/python/matplotlib/tests/baseline_images/test_mathtext/mathtext_stix_47.pdf\n",
      "/System/Library/Frameworks/Python.framework/Versions/2.7/Extras/lib/python/matplotlib/tests/baseline_images/test_mathtext/mathtext_stix_48.pdf\n",
      "/System/Library/Frameworks/Python.framework/Versions/2.7/Extras/lib/python/matplotlib/tests/baseline_images/test_mathtext/mathtext_stix_49.pdf\n",
      "/System/Library/Frameworks/Python.framework/Versions/2.7/Extras/lib/python/matplotlib/tests/baseline_images/test_mathtext/mathtext_stix_50.pdf\n",
      "/System/Library/Frameworks/Python.framework/Versions/2.7/Extras/lib/python/matplotlib/tests/baseline_images/test_mathtext/mathtext_stix_51.pdf\n",
      "/System/Library/Frameworks/Python.framework/Versions/2.7/Extras/lib/python/matplotlib/tests/baseline_images/test_mathtext/mathtext_stix_52.pdf\n",
      "/System/Library/Frameworks/Python.framework/Versions/2.7/Extras/lib/python/matplotlib/tests/baseline_images/test_mathtext/mathtext_stix_53.pdf\n",
      "/System/Library/Frameworks/Python.framework/Versions/2.7/Extras/lib/python/matplotlib/tests/baseline_images/test_mathtext/mathtext_stix_54.pdf\n",
      "/System/Library/Frameworks/Python.framework/Versions/2.7/Extras/lib/python/matplotlib/tests/baseline_images/test_mathtext/mathtext_stix_55.pdf\n",
      "/System/Library/Frameworks/Python.framework/Versions/2.7/Extras/lib/python/matplotlib/tests/baseline_images/test_mathtext/mathtext_stix_56.pdf\n",
      "/System/Library/Frameworks/Python.framework/Versions/2.7/Extras/lib/python/matplotlib/tests/baseline_images/test_mathtext/mathtext_stix_57.pdf\n",
      "/System/Library/Frameworks/Python.framework/Versions/2.7/Extras/lib/python/matplotlib/tests/baseline_images/test_mathtext/mathtext_stix_58.pdf\n",
      "/System/Library/Frameworks/Python.framework/Versions/2.7/Extras/lib/python/matplotlib/tests/baseline_images/test_mathtext/mathtext_stix_59.pdf\n",
      "/System/Library/Frameworks/Python.framework/Versions/2.7/Extras/lib/python/matplotlib/tests/baseline_images/test_mathtext/mathtext_stix_60.pdf\n",
      "/System/Library/Frameworks/Python.framework/Versions/2.7/Extras/lib/python/matplotlib/tests/baseline_images/test_mathtext/mathtext_stix_61.pdf\n",
      "/System/Library/Frameworks/Python.framework/Versions/2.7/Extras/lib/python/matplotlib/tests/baseline_images/test_mathtext/mathtext_stix_62.pdf\n",
      "/System/Library/Frameworks/Python.framework/Versions/2.7/Extras/lib/python/matplotlib/tests/baseline_images/test_mathtext/mathtext_stix_63.pdf\n",
      "/System/Library/Frameworks/Python.framework/Versions/2.7/Extras/lib/python/matplotlib/tests/baseline_images/test_mathtext/mathtext_stix_64.pdf\n",
      "/System/Library/Frameworks/Python.framework/Versions/2.7/Extras/lib/python/matplotlib/tests/baseline_images/test_mathtext/mathtext_stix_65.pdf\n",
      "/System/Library/Frameworks/Python.framework/Versions/2.7/Extras/lib/python/matplotlib/tests/baseline_images/test_mathtext/mathtext_stix_66.pdf\n",
      "/System/Library/Frameworks/Python.framework/Versions/2.7/Extras/lib/python/matplotlib/tests/baseline_images/test_mathtext/mathtext_stix_67.pdf\n",
      "/System/Library/Frameworks/Python.framework/Versions/2.7/Extras/lib/python/matplotlib/tests/baseline_images/test_mathtext/mathtext_stixsans_00.pdf\n",
      "/System/Library/Frameworks/Python.framework/Versions/2.7/Extras/lib/python/matplotlib/tests/baseline_images/test_mathtext/mathtext_stixsans_01.pdf\n",
      "/System/Library/Frameworks/Python.framework/Versions/2.7/Extras/lib/python/matplotlib/tests/baseline_images/test_mathtext/mathtext_stixsans_02.pdf\n",
      "/System/Library/Frameworks/Python.framework/Versions/2.7/Extras/lib/python/matplotlib/tests/baseline_images/test_mathtext/mathtext_stixsans_03.pdf\n",
      "/System/Library/Frameworks/Python.framework/Versions/2.7/Extras/lib/python/matplotlib/tests/baseline_images/test_mathtext/mathtext_stixsans_04.pdf\n",
      "/System/Library/Frameworks/Python.framework/Versions/2.7/Extras/lib/python/matplotlib/tests/baseline_images/test_mathtext/mathtext_stixsans_05.pdf\n",
      "/System/Library/Frameworks/Python.framework/Versions/2.7/Extras/lib/python/matplotlib/tests/baseline_images/test_mathtext/mathtext_stixsans_06.pdf\n",
      "/System/Library/Frameworks/Python.framework/Versions/2.7/Extras/lib/python/matplotlib/tests/baseline_images/test_mathtext/mathtext_stixsans_07.pdf\n",
      "/System/Library/Frameworks/Python.framework/Versions/2.7/Extras/lib/python/matplotlib/tests/baseline_images/test_mathtext/mathtext_stixsans_08.pdf\n",
      "/System/Library/Frameworks/Python.framework/Versions/2.7/Extras/lib/python/matplotlib/tests/baseline_images/test_mathtext/mathtext_stixsans_09.pdf\n",
      "/System/Library/Frameworks/Python.framework/Versions/2.7/Extras/lib/python/matplotlib/tests/baseline_images/test_mathtext/mathtext_stixsans_10.pdf\n",
      "/System/Library/Frameworks/Python.framework/Versions/2.7/Extras/lib/python/matplotlib/tests/baseline_images/test_mathtext/mathtext_stixsans_11.pdf\n",
      "/System/Library/Frameworks/Python.framework/Versions/2.7/Extras/lib/python/matplotlib/tests/baseline_images/test_mathtext/mathtext_stixsans_12.pdf\n",
      "/System/Library/Frameworks/Python.framework/Versions/2.7/Extras/lib/python/matplotlib/tests/baseline_images/test_mathtext/mathtext_stixsans_13.pdf\n",
      "/System/Library/Frameworks/Python.framework/Versions/2.7/Extras/lib/python/matplotlib/tests/baseline_images/test_mathtext/mathtext_stixsans_14.pdf\n",
      "/System/Library/Frameworks/Python.framework/Versions/2.7/Extras/lib/python/matplotlib/tests/baseline_images/test_mathtext/mathtext_stixsans_15.pdf\n",
      "/System/Library/Frameworks/Python.framework/Versions/2.7/Extras/lib/python/matplotlib/tests/baseline_images/test_mathtext/mathtext_stixsans_16.pdf\n",
      "/System/Library/Frameworks/Python.framework/Versions/2.7/Extras/lib/python/matplotlib/tests/baseline_images/test_mathtext/mathtext_stixsans_17.pdf\n",
      "/System/Library/Frameworks/Python.framework/Versions/2.7/Extras/lib/python/matplotlib/tests/baseline_images/test_mathtext/mathtext_stixsans_18.pdf\n",
      "/System/Library/Frameworks/Python.framework/Versions/2.7/Extras/lib/python/matplotlib/tests/baseline_images/test_mathtext/mathtext_stixsans_19.pdf\n",
      "/System/Library/Frameworks/Python.framework/Versions/2.7/Extras/lib/python/matplotlib/tests/baseline_images/test_mathtext/mathtext_stixsans_20.pdf\n",
      "/System/Library/Frameworks/Python.framework/Versions/2.7/Extras/lib/python/matplotlib/tests/baseline_images/test_mathtext/mathtext_stixsans_21.pdf\n",
      "/System/Library/Frameworks/Python.framework/Versions/2.7/Extras/lib/python/matplotlib/tests/baseline_images/test_mathtext/mathtext_stixsans_22.pdf\n",
      "/System/Library/Frameworks/Python.framework/Versions/2.7/Extras/lib/python/matplotlib/tests/baseline_images/test_mathtext/mathtext_stixsans_23.pdf\n",
      "/System/Library/Frameworks/Python.framework/Versions/2.7/Extras/lib/python/matplotlib/tests/baseline_images/test_mathtext/mathtext_stixsans_24.pdf\n",
      "/System/Library/Frameworks/Python.framework/Versions/2.7/Extras/lib/python/matplotlib/tests/baseline_images/test_mathtext/mathtext_stixsans_25.pdf\n",
      "/System/Library/Frameworks/Python.framework/Versions/2.7/Extras/lib/python/matplotlib/tests/baseline_images/test_mathtext/mathtext_stixsans_26.pdf\n",
      "/System/Library/Frameworks/Python.framework/Versions/2.7/Extras/lib/python/matplotlib/tests/baseline_images/test_mathtext/mathtext_stixsans_27.pdf\n",
      "/System/Library/Frameworks/Python.framework/Versions/2.7/Extras/lib/python/matplotlib/tests/baseline_images/test_mathtext/mathtext_stixsans_28.pdf\n",
      "/System/Library/Frameworks/Python.framework/Versions/2.7/Extras/lib/python/matplotlib/tests/baseline_images/test_mathtext/mathtext_stixsans_29.pdf\n",
      "/System/Library/Frameworks/Python.framework/Versions/2.7/Extras/lib/python/matplotlib/tests/baseline_images/test_mathtext/mathtext_stixsans_30.pdf\n",
      "/System/Library/Frameworks/Python.framework/Versions/2.7/Extras/lib/python/matplotlib/tests/baseline_images/test_mathtext/mathtext_stixsans_31.pdf\n",
      "/System/Library/Frameworks/Python.framework/Versions/2.7/Extras/lib/python/matplotlib/tests/baseline_images/test_mathtext/mathtext_stixsans_32.pdf\n",
      "/System/Library/Frameworks/Python.framework/Versions/2.7/Extras/lib/python/matplotlib/tests/baseline_images/test_mathtext/mathtext_stixsans_33.pdf\n",
      "/System/Library/Frameworks/Python.framework/Versions/2.7/Extras/lib/python/matplotlib/tests/baseline_images/test_mathtext/mathtext_stixsans_34.pdf\n",
      "/System/Library/Frameworks/Python.framework/Versions/2.7/Extras/lib/python/matplotlib/tests/baseline_images/test_mathtext/mathtext_stixsans_35.pdf\n",
      "/System/Library/Frameworks/Python.framework/Versions/2.7/Extras/lib/python/matplotlib/tests/baseline_images/test_mathtext/mathtext_stixsans_36.pdf\n",
      "/System/Library/Frameworks/Python.framework/Versions/2.7/Extras/lib/python/matplotlib/tests/baseline_images/test_mathtext/mathtext_stixsans_37.pdf\n",
      "/System/Library/Frameworks/Python.framework/Versions/2.7/Extras/lib/python/matplotlib/tests/baseline_images/test_mathtext/mathtext_stixsans_38.pdf\n",
      "/System/Library/Frameworks/Python.framework/Versions/2.7/Extras/lib/python/matplotlib/tests/baseline_images/test_mathtext/mathtext_stixsans_39.pdf\n",
      "/System/Library/Frameworks/Python.framework/Versions/2.7/Extras/lib/python/matplotlib/tests/baseline_images/test_mathtext/mathtext_stixsans_40.pdf\n",
      "/System/Library/Frameworks/Python.framework/Versions/2.7/Extras/lib/python/matplotlib/tests/baseline_images/test_mathtext/mathtext_stixsans_41.pdf\n",
      "/System/Library/Frameworks/Python.framework/Versions/2.7/Extras/lib/python/matplotlib/tests/baseline_images/test_mathtext/mathtext_stixsans_42.pdf\n",
      "/System/Library/Frameworks/Python.framework/Versions/2.7/Extras/lib/python/matplotlib/tests/baseline_images/test_mathtext/mathtext_stixsans_43.pdf\n",
      "/System/Library/Frameworks/Python.framework/Versions/2.7/Extras/lib/python/matplotlib/tests/baseline_images/test_mathtext/mathtext_stixsans_44.pdf\n",
      "/System/Library/Frameworks/Python.framework/Versions/2.7/Extras/lib/python/matplotlib/tests/baseline_images/test_mathtext/mathtext_stixsans_45.pdf\n",
      "/System/Library/Frameworks/Python.framework/Versions/2.7/Extras/lib/python/matplotlib/tests/baseline_images/test_mathtext/mathtext_stixsans_46.pdf\n",
      "/System/Library/Frameworks/Python.framework/Versions/2.7/Extras/lib/python/matplotlib/tests/baseline_images/test_mathtext/mathtext_stixsans_47.pdf\n",
      "/System/Library/Frameworks/Python.framework/Versions/2.7/Extras/lib/python/matplotlib/tests/baseline_images/test_mathtext/mathtext_stixsans_48.pdf\n",
      "/System/Library/Frameworks/Python.framework/Versions/2.7/Extras/lib/python/matplotlib/tests/baseline_images/test_mathtext/mathtext_stixsans_49.pdf\n",
      "/System/Library/Frameworks/Python.framework/Versions/2.7/Extras/lib/python/matplotlib/tests/baseline_images/test_mathtext/mathtext_stixsans_50.pdf\n",
      "/System/Library/Frameworks/Python.framework/Versions/2.7/Extras/lib/python/matplotlib/tests/baseline_images/test_mathtext/mathtext_stixsans_51.pdf\n",
      "/System/Library/Frameworks/Python.framework/Versions/2.7/Extras/lib/python/matplotlib/tests/baseline_images/test_mathtext/mathtext_stixsans_52.pdf\n",
      "/System/Library/Frameworks/Python.framework/Versions/2.7/Extras/lib/python/matplotlib/tests/baseline_images/test_mathtext/mathtext_stixsans_53.pdf\n",
      "/System/Library/Frameworks/Python.framework/Versions/2.7/Extras/lib/python/matplotlib/tests/baseline_images/test_mathtext/mathtext_stixsans_54.pdf\n",
      "/System/Library/Frameworks/Python.framework/Versions/2.7/Extras/lib/python/matplotlib/tests/baseline_images/test_mathtext/mathtext_stixsans_55.pdf\n",
      "/System/Library/Frameworks/Python.framework/Versions/2.7/Extras/lib/python/matplotlib/tests/baseline_images/test_mathtext/mathtext_stixsans_56.pdf\n",
      "/System/Library/Frameworks/Python.framework/Versions/2.7/Extras/lib/python/matplotlib/tests/baseline_images/test_mathtext/mathtext_stixsans_57.pdf\n",
      "/System/Library/Frameworks/Python.framework/Versions/2.7/Extras/lib/python/matplotlib/tests/baseline_images/test_mathtext/mathtext_stixsans_58.pdf\n",
      "/System/Library/Frameworks/Python.framework/Versions/2.7/Extras/lib/python/matplotlib/tests/baseline_images/test_mathtext/mathtext_stixsans_59.pdf\n",
      "/System/Library/Frameworks/Python.framework/Versions/2.7/Extras/lib/python/matplotlib/tests/baseline_images/test_mathtext/mathtext_stixsans_60.pdf\n",
      "/System/Library/Frameworks/Python.framework/Versions/2.7/Extras/lib/python/matplotlib/tests/baseline_images/test_mathtext/mathtext_stixsans_61.pdf\n",
      "/System/Library/Frameworks/Python.framework/Versions/2.7/Extras/lib/python/matplotlib/tests/baseline_images/test_mathtext/mathtext_stixsans_62.pdf\n",
      "/System/Library/Frameworks/Python.framework/Versions/2.7/Extras/lib/python/matplotlib/tests/baseline_images/test_mathtext/mathtext_stixsans_63.pdf\n",
      "/System/Library/Frameworks/Python.framework/Versions/2.7/Extras/lib/python/matplotlib/tests/baseline_images/test_mathtext/mathtext_stixsans_64.pdf\n",
      "/System/Library/Frameworks/Python.framework/Versions/2.7/Extras/lib/python/matplotlib/tests/baseline_images/test_mathtext/mathtext_stixsans_65.pdf\n",
      "/System/Library/Frameworks/Python.framework/Versions/2.7/Extras/lib/python/matplotlib/tests/baseline_images/test_mathtext/mathtext_stixsans_66.pdf\n",
      "/System/Library/Frameworks/Python.framework/Versions/2.7/Extras/lib/python/matplotlib/tests/baseline_images/test_mathtext/mathtext_stixsans_67.pdf\n",
      "/System/Library/Frameworks/Python.framework/Versions/2.7/Extras/lib/python/matplotlib/tests/baseline_images/test_patches/clip_to_bbox.pdf\n",
      "/System/Library/Frameworks/Python.framework/Versions/2.7/Extras/lib/python/matplotlib/tests/baseline_images/test_patches/patch_alpha_coloring.pdf\n",
      "/System/Library/Frameworks/Python.framework/Versions/2.7/Extras/lib/python/matplotlib/tests/baseline_images/test_patches/patch_alpha_override.pdf\n",
      "/System/Library/Frameworks/Python.framework/Versions/2.7/Extras/lib/python/matplotlib/tests/baseline_images/test_patches/patch_custom_linestyle.pdf\n",
      "/System/Library/Frameworks/Python.framework/Versions/2.7/Extras/lib/python/matplotlib/tests/baseline_images/test_patheffects/patheffect1.pdf\n",
      "/System/Library/Frameworks/Python.framework/Versions/2.7/Extras/lib/python/matplotlib/tests/baseline_images/test_patheffects/patheffect2.pdf\n",
      "/System/Library/Frameworks/Python.framework/Versions/2.7/Extras/lib/python/matplotlib/tests/baseline_images/test_patheffects/patheffect3.pdf\n",
      "/System/Library/Frameworks/Python.framework/Versions/2.7/Extras/lib/python/matplotlib/tests/baseline_images/test_scale/log_scales.pdf\n",
      "/System/Library/Frameworks/Python.framework/Versions/2.7/Extras/lib/python/matplotlib/tests/baseline_images/test_simplification/clipper_edge.pdf\n",
      "/System/Library/Frameworks/Python.framework/Versions/2.7/Extras/lib/python/matplotlib/tests/baseline_images/test_simplification/clipping.pdf\n",
      "/System/Library/Frameworks/Python.framework/Versions/2.7/Extras/lib/python/matplotlib/tests/baseline_images/test_simplification/clipping_diamond.pdf\n",
      "/System/Library/Frameworks/Python.framework/Versions/2.7/Extras/lib/python/matplotlib/tests/baseline_images/test_simplification/clipping_with_nans.pdf\n",
      "/System/Library/Frameworks/Python.framework/Versions/2.7/Extras/lib/python/matplotlib/tests/baseline_images/test_simplification/fft_peaks.pdf\n",
      "/System/Library/Frameworks/Python.framework/Versions/2.7/Extras/lib/python/matplotlib/tests/baseline_images/test_simplification/hatch_simplify.pdf\n",
      "/System/Library/Frameworks/Python.framework/Versions/2.7/Extras/lib/python/matplotlib/tests/baseline_images/test_simplification/overflow.pdf\n",
      "/System/Library/Frameworks/Python.framework/Versions/2.7/Extras/lib/python/matplotlib/tests/baseline_images/test_simplification/para_equal_perp.pdf\n",
      "/System/Library/Frameworks/Python.framework/Versions/2.7/Extras/lib/python/matplotlib/tests/baseline_images/test_simplification/simplify_curve.pdf\n",
      "/System/Library/Frameworks/Python.framework/Versions/2.7/Extras/lib/python/matplotlib/tests/baseline_images/test_spines/spines_axes_positions.pdf\n",
      "/System/Library/Frameworks/Python.framework/Versions/2.7/Extras/lib/python/matplotlib/tests/baseline_images/test_spines/spines_data_positions.pdf\n",
      "/System/Library/Frameworks/Python.framework/Versions/2.7/Extras/lib/python/matplotlib/tests/baseline_images/test_streamplot/streamplot_colormap_test_image.pdf\n",
      "/System/Library/Frameworks/Python.framework/Versions/2.7/Extras/lib/python/matplotlib/tests/baseline_images/test_streamplot/streamplot_linewidth_test_image.pdf\n",
      "/System/Library/Frameworks/Python.framework/Versions/2.7/Extras/lib/python/matplotlib/tests/baseline_images/test_streamplot/streamplot_masks_and_nans_test_image.pdf\n",
      "/System/Library/Frameworks/Python.framework/Versions/2.7/Extras/lib/python/matplotlib/tests/baseline_images/test_subplots/subplots_offset_text.pdf\n",
      "/System/Library/Frameworks/Python.framework/Versions/2.7/Extras/lib/python/matplotlib/tests/baseline_images/test_text/font_styles.pdf\n",
      "/System/Library/Frameworks/Python.framework/Versions/2.7/Extras/lib/python/matplotlib/tests/baseline_images/test_text/multiline.pdf\n",
      "/System/Library/Frameworks/Python.framework/Versions/2.7/Extras/lib/python/matplotlib/tests/baseline_images/test_text/text_alignment.pdf\n",
      "/System/Library/Frameworks/Python.framework/Versions/2.7/Extras/lib/python/matplotlib/tests/baseline_images/test_text/titles.pdf\n",
      "/System/Library/Frameworks/Python.framework/Versions/2.7/Extras/lib/python/matplotlib/tests/baseline_images/test_tightlayout/tight_layout1.pdf\n",
      "/System/Library/Frameworks/Python.framework/Versions/2.7/Extras/lib/python/matplotlib/tests/baseline_images/test_tightlayout/tight_layout2.pdf\n",
      "/System/Library/Frameworks/Python.framework/Versions/2.7/Extras/lib/python/matplotlib/tests/baseline_images/test_tightlayout/tight_layout3.pdf\n",
      "/System/Library/Frameworks/Python.framework/Versions/2.7/Extras/lib/python/matplotlib/tests/baseline_images/test_tightlayout/tight_layout4.pdf\n",
      "/System/Library/Frameworks/Python.framework/Versions/2.7/Extras/lib/python/matplotlib/tests/baseline_images/test_tightlayout/tight_layout5.pdf\n",
      "/System/Library/Frameworks/Python.framework/Versions/2.7/Extras/lib/python/matplotlib/tests/baseline_images/test_tightlayout/tight_layout6.pdf\n",
      "/System/Library/Frameworks/Python.framework/Versions/2.7/Extras/lib/python/matplotlib/tests/baseline_images/test_tightlayout/tight_layout7.pdf\n",
      "/System/Library/Frameworks/Python.framework/Versions/2.7/Extras/lib/python/matplotlib/tests/baseline_images/test_tightlayout/tight_layout8.pdf\n",
      "/System/Library/Frameworks/Python.framework/Versions/2.7/Extras/lib/python/matplotlib/tests/baseline_images/test_transforms/pre_transform_data.pdf\n",
      "/System/Library/Frameworks/Python.framework/Versions/2.7/Extras/lib/python/matplotlib/tests/baseline_images/test_triangulation/tripcolor1.pdf\n",
      "/System/Library/Frameworks/Python.framework/Versions/2.7/Extras/lib/python/matplotlib/tests/baseline_images/test_ttconv/truetype-conversion.pdf\n",
      "/System/Library/Frameworks/Python.framework/Versions/2.7/Extras/lib/python/matplotlib/tests/test_backend_pdf.py\n",
      "/System/Library/Frameworks/Python.framework/Versions/2.7/Extras/lib/python/matplotlib/tests/test_backend_pdf.pyc\n"
     ]
    },
    {
     "name": "stdout",
     "output_type": "stream",
     "text": [
      "/Users/fonnescj/Repositories/data-science-ipython-notebooks/deep-learning/theano-tutorial/intro_theano/intro_theano.pdf\n",
      "/Users/fonnescj/Repositories/data-science-ipython-notebooks/deep-learning/theano-tutorial/rnn_tutorial/instruction.pdf\n",
      "/Users/fonnescj/Repositories/data-science-ipython-notebooks/deep-learning/theano-tutorial/rnn_tutorial/rnn_lstm.pdf\n",
      "/Users/fonnescj/Repositories/statistical-analysis-python-tutorial/data/names/NationalReadMe.pdf\n",
      "/Users/fonnescj/anaconda3/envs/py2/lib/python2.7/site-packages/matplotlib/backends/backend_pdf.py\n",
      "/Users/fonnescj/anaconda3/envs/py2/lib/python2.7/site-packages/matplotlib/backends/backend_pdf.pyc\n",
      "/Users/fonnescj/anaconda3/envs/py2/lib/python2.7/site-packages/matplotlib/mpl-data/fonts/pdfcorefonts\n",
      "/Users/fonnescj/anaconda3/envs/py2/lib/python2.7/site-packages/matplotlib/mpl-data/fonts/pdfcorefonts/Courier-Bold.afm\n",
      "/Users/fonnescj/anaconda3/envs/py2/lib/python2.7/site-packages/matplotlib/mpl-data/fonts/pdfcorefonts/Courier-BoldOblique.afm\n",
      "/Users/fonnescj/anaconda3/envs/py2/lib/python2.7/site-packages/matplotlib/mpl-data/fonts/pdfcorefonts/Courier-Oblique.afm\n",
      "/Users/fonnescj/anaconda3/envs/py2/lib/python2.7/site-packages/matplotlib/mpl-data/fonts/pdfcorefonts/Courier.afm\n",
      "/Users/fonnescj/anaconda3/envs/py2/lib/python2.7/site-packages/matplotlib/mpl-data/fonts/pdfcorefonts/Helvetica-Bold.afm\n",
      "/Users/fonnescj/anaconda3/envs/py2/lib/python2.7/site-packages/matplotlib/mpl-data/fonts/pdfcorefonts/Helvetica-BoldOblique.afm\n",
      "/Users/fonnescj/anaconda3/envs/py2/lib/python2.7/site-packages/matplotlib/mpl-data/fonts/pdfcorefonts/Helvetica-Oblique.afm\n",
      "/Users/fonnescj/anaconda3/envs/py2/lib/python2.7/site-packages/matplotlib/mpl-data/fonts/pdfcorefonts/Helvetica.afm\n",
      "/Users/fonnescj/anaconda3/envs/py2/lib/python2.7/site-packages/matplotlib/mpl-data/fonts/pdfcorefonts/Symbol.afm\n",
      "/Users/fonnescj/anaconda3/envs/py2/lib/python2.7/site-packages/matplotlib/mpl-data/fonts/pdfcorefonts/Times-Bold.afm\n",
      "/Users/fonnescj/anaconda3/envs/py2/lib/python2.7/site-packages/matplotlib/mpl-data/fonts/pdfcorefonts/Times-BoldItalic.afm\n",
      "/Users/fonnescj/anaconda3/envs/py2/lib/python2.7/site-packages/matplotlib/mpl-data/fonts/pdfcorefonts/Times-Italic.afm\n",
      "/Users/fonnescj/anaconda3/envs/py2/lib/python2.7/site-packages/matplotlib/mpl-data/fonts/pdfcorefonts/Times-Roman.afm\n",
      "/Users/fonnescj/anaconda3/envs/py2/lib/python2.7/site-packages/matplotlib/mpl-data/fonts/pdfcorefonts/ZapfDingbats.afm\n",
      "/Users/fonnescj/anaconda3/envs/py2/lib/python2.7/site-packages/matplotlib/mpl-data/fonts/pdfcorefonts/readme.txt\n",
      "/Users/fonnescj/anaconda3/envs/py2/lib/python2.7/site-packages/matplotlib/mpl-data/images/back.pdf\n",
      "/Users/fonnescj/anaconda3/envs/py2/lib/python2.7/site-packages/matplotlib/mpl-data/images/filesave.pdf\n",
      "/Users/fonnescj/anaconda3/envs/py2/lib/python2.7/site-packages/matplotlib/mpl-data/images/forward.pdf\n",
      "/Users/fonnescj/anaconda3/envs/py2/lib/python2.7/site-packages/matplotlib/mpl-data/images/hand.pdf\n",
      "/Users/fonnescj/anaconda3/envs/py2/lib/python2.7/site-packages/matplotlib/mpl-data/images/home.pdf\n",
      "/Users/fonnescj/anaconda3/envs/py2/lib/python2.7/site-packages/matplotlib/mpl-data/images/matplotlib.pdf\n",
      "/Users/fonnescj/anaconda3/envs/py2/lib/python2.7/site-packages/matplotlib/mpl-data/images/move.pdf\n",
      "/Users/fonnescj/anaconda3/envs/py2/lib/python2.7/site-packages/matplotlib/mpl-data/images/qt4_editor_options.pdf\n",
      "/Users/fonnescj/anaconda3/envs/py2/lib/python2.7/site-packages/matplotlib/mpl-data/images/subplots.pdf\n",
      "/Users/fonnescj/anaconda3/envs/py2/lib/python2.7/site-packages/matplotlib/mpl-data/images/zoom_to_rect.pdf\n",
      "/Users/fonnescj/anaconda3/envs/py2/lib/python2.7/site-packages/matplotlib/mpl-data/sample_data/None_vs_nearest-pdf.png\n",
      "/Users/fonnescj/anaconda3/envs/py2/lib/python2.7/site-packages/nbconvert/exporters/pdf.py\n",
      "/Users/fonnescj/anaconda3/envs/py2/lib/python2.7/site-packages/nbconvert/exporters/pdf.pyc\n",
      "/Users/fonnescj/anaconda3/envs/py2/lib/python2.7/site-packages/nbconvert/exporters/tests/test_pdf.py\n",
      "/Users/fonnescj/anaconda3/envs/py2/lib/python2.7/site-packages/nbconvert/exporters/tests/test_pdf.pyc\n",
      "/Users/fonnescj/anaconda3/envs/py2/lib/python2.7/site-packages/nbconvert/preprocessors/svg2pdf.py\n",
      "/Users/fonnescj/anaconda3/envs/py2/lib/python2.7/site-packages/nbconvert/preprocessors/svg2pdf.pyc\n",
      "/Users/fonnescj/anaconda3/envs/py2/lib/python2.7/site-packages/nbconvert/preprocessors/tests/test_svg2pdf.py\n",
      "/Users/fonnescj/anaconda3/envs/py2/lib/python2.7/site-packages/nbconvert/preprocessors/tests/test_svg2pdf.pyc\n",
      "/Users/fonnescj/anaconda3/lib/python3.5/site-packages/enum/doc/enum.pdf\n",
      "/Users/fonnescj/anaconda3/lib/python3.5/site-packages/matplotlib/backends/__pycache__/backend_pdf.cpython-35.pyc\n",
      "/Users/fonnescj/anaconda3/lib/python3.5/site-packages/matplotlib/backends/backend_pdf.py\n",
      "/Users/fonnescj/anaconda3/lib/python3.5/site-packages/matplotlib/mpl-data/fonts/pdfcorefonts\n",
      "/Users/fonnescj/anaconda3/lib/python3.5/site-packages/matplotlib/mpl-data/fonts/pdfcorefonts/Courier-Bold.afm\n",
      "/Users/fonnescj/anaconda3/lib/python3.5/site-packages/matplotlib/mpl-data/fonts/pdfcorefonts/Courier-BoldOblique.afm\n",
      "/Users/fonnescj/anaconda3/lib/python3.5/site-packages/matplotlib/mpl-data/fonts/pdfcorefonts/Courier-Oblique.afm\n",
      "/Users/fonnescj/anaconda3/lib/python3.5/site-packages/matplotlib/mpl-data/fonts/pdfcorefonts/Courier.afm\n",
      "/Users/fonnescj/anaconda3/lib/python3.5/site-packages/matplotlib/mpl-data/fonts/pdfcorefonts/Helvetica-Bold.afm\n",
      "/Users/fonnescj/anaconda3/lib/python3.5/site-packages/matplotlib/mpl-data/fonts/pdfcorefonts/Helvetica-BoldOblique.afm\n",
      "/Users/fonnescj/anaconda3/lib/python3.5/site-packages/matplotlib/mpl-data/fonts/pdfcorefonts/Helvetica-Oblique.afm\n",
      "/Users/fonnescj/anaconda3/lib/python3.5/site-packages/matplotlib/mpl-data/fonts/pdfcorefonts/Helvetica.afm\n",
      "/Users/fonnescj/anaconda3/lib/python3.5/site-packages/matplotlib/mpl-data/fonts/pdfcorefonts/Symbol.afm\n",
      "/Users/fonnescj/anaconda3/lib/python3.5/site-packages/matplotlib/mpl-data/fonts/pdfcorefonts/Times-Bold.afm\n",
      "/Users/fonnescj/anaconda3/lib/python3.5/site-packages/matplotlib/mpl-data/fonts/pdfcorefonts/Times-BoldItalic.afm\n",
      "/Users/fonnescj/anaconda3/lib/python3.5/site-packages/matplotlib/mpl-data/fonts/pdfcorefonts/Times-Italic.afm\n",
      "/Users/fonnescj/anaconda3/lib/python3.5/site-packages/matplotlib/mpl-data/fonts/pdfcorefonts/Times-Roman.afm\n",
      "/Users/fonnescj/anaconda3/lib/python3.5/site-packages/matplotlib/mpl-data/fonts/pdfcorefonts/ZapfDingbats.afm\n",
      "/Users/fonnescj/anaconda3/lib/python3.5/site-packages/matplotlib/mpl-data/fonts/pdfcorefonts/readme.txt\n",
      "/Users/fonnescj/anaconda3/lib/python3.5/site-packages/matplotlib/mpl-data/images/back.pdf\n",
      "/Users/fonnescj/anaconda3/lib/python3.5/site-packages/matplotlib/mpl-data/images/filesave.pdf\n",
      "/Users/fonnescj/anaconda3/lib/python3.5/site-packages/matplotlib/mpl-data/images/forward.pdf\n",
      "/Users/fonnescj/anaconda3/lib/python3.5/site-packages/matplotlib/mpl-data/images/hand.pdf\n",
      "/Users/fonnescj/anaconda3/lib/python3.5/site-packages/matplotlib/mpl-data/images/home.pdf\n",
      "/Users/fonnescj/anaconda3/lib/python3.5/site-packages/matplotlib/mpl-data/images/matplotlib.pdf\n",
      "/Users/fonnescj/anaconda3/lib/python3.5/site-packages/matplotlib/mpl-data/images/move.pdf\n",
      "/Users/fonnescj/anaconda3/lib/python3.5/site-packages/matplotlib/mpl-data/images/qt4_editor_options.pdf\n",
      "/Users/fonnescj/anaconda3/lib/python3.5/site-packages/matplotlib/mpl-data/images/subplots.pdf\n",
      "/Users/fonnescj/anaconda3/lib/python3.5/site-packages/matplotlib/mpl-data/images/zoom_to_rect.pdf\n",
      "/Users/fonnescj/anaconda3/lib/python3.5/site-packages/matplotlib/mpl-data/sample_data/None_vs_nearest-pdf.png\n",
      "/Users/fonnescj/anaconda3/lib/python3.5/site-packages/nbconvert/exporters/__pycache__/pdf.cpython-35.pyc\n",
      "/Users/fonnescj/anaconda3/lib/python3.5/site-packages/nbconvert/exporters/pdf.py\n",
      "/Users/fonnescj/anaconda3/lib/python3.5/site-packages/nbconvert/exporters/tests/__pycache__/test_pdf.cpython-35.pyc\n",
      "/Users/fonnescj/anaconda3/lib/python3.5/site-packages/nbconvert/exporters/tests/test_pdf.py\n",
      "/Users/fonnescj/anaconda3/lib/python3.5/site-packages/nbconvert/preprocessors/__pycache__/svg2pdf.cpython-35.pyc\n",
      "/Users/fonnescj/anaconda3/lib/python3.5/site-packages/nbconvert/preprocessors/svg2pdf.py\n",
      "/Users/fonnescj/anaconda3/lib/python3.5/site-packages/nbconvert/preprocessors/tests/__pycache__/test_svg2pdf.cpython-35.pyc\n",
      "/Users/fonnescj/anaconda3/lib/python3.5/site-packages/nbconvert/preprocessors/tests/test_svg2pdf.py\n",
      "/Users/fonnescj/anaconda3/lib/python3.5/site-packages/pystan/stan/lib/stan_math/lib/boost_1.58.0/boost/math/distributions/detail/hypergeometric_pdf.hpp\n"
     ]
    },
    {
     "name": "stdout",
     "output_type": "stream",
     "text": [
      "/Users/fonnescj/anaconda3/lib/python3.5/site-packages/spyderlib/images/filetypes/pdf.png\n",
      "/Users/fonnescj/anaconda3/pkgs/matplotlib-1.5.0-np110py27_0/lib/python2.7/site-packages/matplotlib/backends/backend_pdf.py\n",
      "/Users/fonnescj/anaconda3/pkgs/matplotlib-1.5.0-np110py27_0/lib/python2.7/site-packages/matplotlib/backends/backend_pdf.pyc\n",
      "/Users/fonnescj/anaconda3/pkgs/matplotlib-1.5.0-np110py27_0/lib/python2.7/site-packages/matplotlib/mpl-data/fonts/pdfcorefonts\n",
      "/Users/fonnescj/anaconda3/pkgs/matplotlib-1.5.0-np110py27_0/lib/python2.7/site-packages/matplotlib/mpl-data/fonts/pdfcorefonts/Courier-Bold.afm\n",
      "/Users/fonnescj/anaconda3/pkgs/matplotlib-1.5.0-np110py27_0/lib/python2.7/site-packages/matplotlib/mpl-data/fonts/pdfcorefonts/Courier-BoldOblique.afm\n",
      "/Users/fonnescj/anaconda3/pkgs/matplotlib-1.5.0-np110py27_0/lib/python2.7/site-packages/matplotlib/mpl-data/fonts/pdfcorefonts/Courier-Oblique.afm\n",
      "/Users/fonnescj/anaconda3/pkgs/matplotlib-1.5.0-np110py27_0/lib/python2.7/site-packages/matplotlib/mpl-data/fonts/pdfcorefonts/Courier.afm\n",
      "/Users/fonnescj/anaconda3/pkgs/matplotlib-1.5.0-np110py27_0/lib/python2.7/site-packages/matplotlib/mpl-data/fonts/pdfcorefonts/Helvetica-Bold.afm\n",
      "/Users/fonnescj/anaconda3/pkgs/matplotlib-1.5.0-np110py27_0/lib/python2.7/site-packages/matplotlib/mpl-data/fonts/pdfcorefonts/Helvetica-BoldOblique.afm\n",
      "/Users/fonnescj/anaconda3/pkgs/matplotlib-1.5.0-np110py27_0/lib/python2.7/site-packages/matplotlib/mpl-data/fonts/pdfcorefonts/Helvetica-Oblique.afm\n",
      "/Users/fonnescj/anaconda3/pkgs/matplotlib-1.5.0-np110py27_0/lib/python2.7/site-packages/matplotlib/mpl-data/fonts/pdfcorefonts/Helvetica.afm\n",
      "/Users/fonnescj/anaconda3/pkgs/matplotlib-1.5.0-np110py27_0/lib/python2.7/site-packages/matplotlib/mpl-data/fonts/pdfcorefonts/Symbol.afm\n",
      "/Users/fonnescj/anaconda3/pkgs/matplotlib-1.5.0-np110py27_0/lib/python2.7/site-packages/matplotlib/mpl-data/fonts/pdfcorefonts/Times-Bold.afm\n",
      "/Users/fonnescj/anaconda3/pkgs/matplotlib-1.5.0-np110py27_0/lib/python2.7/site-packages/matplotlib/mpl-data/fonts/pdfcorefonts/Times-BoldItalic.afm\n",
      "/Users/fonnescj/anaconda3/pkgs/matplotlib-1.5.0-np110py27_0/lib/python2.7/site-packages/matplotlib/mpl-data/fonts/pdfcorefonts/Times-Italic.afm\n",
      "/Users/fonnescj/anaconda3/pkgs/matplotlib-1.5.0-np110py27_0/lib/python2.7/site-packages/matplotlib/mpl-data/fonts/pdfcorefonts/Times-Roman.afm\n",
      "/Users/fonnescj/anaconda3/pkgs/matplotlib-1.5.0-np110py27_0/lib/python2.7/site-packages/matplotlib/mpl-data/fonts/pdfcorefonts/ZapfDingbats.afm\n",
      "/Users/fonnescj/anaconda3/pkgs/matplotlib-1.5.0-np110py27_0/lib/python2.7/site-packages/matplotlib/mpl-data/fonts/pdfcorefonts/readme.txt\n",
      "/Users/fonnescj/anaconda3/pkgs/matplotlib-1.5.0-np110py27_0/lib/python2.7/site-packages/matplotlib/mpl-data/images/back.pdf\n",
      "/Users/fonnescj/anaconda3/pkgs/matplotlib-1.5.0-np110py27_0/lib/python2.7/site-packages/matplotlib/mpl-data/images/filesave.pdf\n",
      "/Users/fonnescj/anaconda3/pkgs/matplotlib-1.5.0-np110py27_0/lib/python2.7/site-packages/matplotlib/mpl-data/images/forward.pdf\n",
      "/Users/fonnescj/anaconda3/pkgs/matplotlib-1.5.0-np110py27_0/lib/python2.7/site-packages/matplotlib/mpl-data/images/hand.pdf\n",
      "/Users/fonnescj/anaconda3/pkgs/matplotlib-1.5.0-np110py27_0/lib/python2.7/site-packages/matplotlib/mpl-data/images/home.pdf\n",
      "/Users/fonnescj/anaconda3/pkgs/matplotlib-1.5.0-np110py27_0/lib/python2.7/site-packages/matplotlib/mpl-data/images/matplotlib.pdf\n",
      "/Users/fonnescj/anaconda3/pkgs/matplotlib-1.5.0-np110py27_0/lib/python2.7/site-packages/matplotlib/mpl-data/images/move.pdf\n",
      "/Users/fonnescj/anaconda3/pkgs/matplotlib-1.5.0-np110py27_0/lib/python2.7/site-packages/matplotlib/mpl-data/images/qt4_editor_options.pdf\n",
      "/Users/fonnescj/anaconda3/pkgs/matplotlib-1.5.0-np110py27_0/lib/python2.7/site-packages/matplotlib/mpl-data/images/subplots.pdf\n",
      "/Users/fonnescj/anaconda3/pkgs/matplotlib-1.5.0-np110py27_0/lib/python2.7/site-packages/matplotlib/mpl-data/images/zoom_to_rect.pdf\n",
      "/Users/fonnescj/anaconda3/pkgs/matplotlib-1.5.0-np110py27_0/lib/python2.7/site-packages/matplotlib/mpl-data/sample_data/None_vs_nearest-pdf.png\n",
      "/Users/fonnescj/anaconda3/pkgs/matplotlib-1.5.0-np110py35_0/lib/python3.5/site-packages/matplotlib/backends/__pycache__/backend_pdf.cpython-35.pyc\n",
      "/Users/fonnescj/anaconda3/pkgs/matplotlib-1.5.0-np110py35_0/lib/python3.5/site-packages/matplotlib/backends/backend_pdf.py\n",
      "/Users/fonnescj/anaconda3/pkgs/matplotlib-1.5.0-np110py35_0/lib/python3.5/site-packages/matplotlib/mpl-data/fonts/pdfcorefonts\n",
      "/Users/fonnescj/anaconda3/pkgs/matplotlib-1.5.0-np110py35_0/lib/python3.5/site-packages/matplotlib/mpl-data/fonts/pdfcorefonts/Courier-Bold.afm\n",
      "/Users/fonnescj/anaconda3/pkgs/matplotlib-1.5.0-np110py35_0/lib/python3.5/site-packages/matplotlib/mpl-data/fonts/pdfcorefonts/Courier-BoldOblique.afm\n",
      "/Users/fonnescj/anaconda3/pkgs/matplotlib-1.5.0-np110py35_0/lib/python3.5/site-packages/matplotlib/mpl-data/fonts/pdfcorefonts/Courier-Oblique.afm\n",
      "/Users/fonnescj/anaconda3/pkgs/matplotlib-1.5.0-np110py35_0/lib/python3.5/site-packages/matplotlib/mpl-data/fonts/pdfcorefonts/Courier.afm\n",
      "/Users/fonnescj/anaconda3/pkgs/matplotlib-1.5.0-np110py35_0/lib/python3.5/site-packages/matplotlib/mpl-data/fonts/pdfcorefonts/Helvetica-Bold.afm\n",
      "/Users/fonnescj/anaconda3/pkgs/matplotlib-1.5.0-np110py35_0/lib/python3.5/site-packages/matplotlib/mpl-data/fonts/pdfcorefonts/Helvetica-BoldOblique.afm\n",
      "/Users/fonnescj/anaconda3/pkgs/matplotlib-1.5.0-np110py35_0/lib/python3.5/site-packages/matplotlib/mpl-data/fonts/pdfcorefonts/Helvetica-Oblique.afm\n",
      "/Users/fonnescj/anaconda3/pkgs/matplotlib-1.5.0-np110py35_0/lib/python3.5/site-packages/matplotlib/mpl-data/fonts/pdfcorefonts/Helvetica.afm\n",
      "/Users/fonnescj/anaconda3/pkgs/matplotlib-1.5.0-np110py35_0/lib/python3.5/site-packages/matplotlib/mpl-data/fonts/pdfcorefonts/Symbol.afm\n",
      "/Users/fonnescj/anaconda3/pkgs/matplotlib-1.5.0-np110py35_0/lib/python3.5/site-packages/matplotlib/mpl-data/fonts/pdfcorefonts/Times-Bold.afm\n",
      "/Users/fonnescj/anaconda3/pkgs/matplotlib-1.5.0-np110py35_0/lib/python3.5/site-packages/matplotlib/mpl-data/fonts/pdfcorefonts/Times-BoldItalic.afm\n",
      "/Users/fonnescj/anaconda3/pkgs/matplotlib-1.5.0-np110py35_0/lib/python3.5/site-packages/matplotlib/mpl-data/fonts/pdfcorefonts/Times-Italic.afm\n",
      "/Users/fonnescj/anaconda3/pkgs/matplotlib-1.5.0-np110py35_0/lib/python3.5/site-packages/matplotlib/mpl-data/fonts/pdfcorefonts/Times-Roman.afm\n",
      "/Users/fonnescj/anaconda3/pkgs/matplotlib-1.5.0-np110py35_0/lib/python3.5/site-packages/matplotlib/mpl-data/fonts/pdfcorefonts/ZapfDingbats.afm\n",
      "/Users/fonnescj/anaconda3/pkgs/matplotlib-1.5.0-np110py35_0/lib/python3.5/site-packages/matplotlib/mpl-data/fonts/pdfcorefonts/readme.txt\n",
      "/Users/fonnescj/anaconda3/pkgs/matplotlib-1.5.0-np110py35_0/lib/python3.5/site-packages/matplotlib/mpl-data/images/back.pdf\n",
      "/Users/fonnescj/anaconda3/pkgs/matplotlib-1.5.0-np110py35_0/lib/python3.5/site-packages/matplotlib/mpl-data/images/filesave.pdf\n",
      "/Users/fonnescj/anaconda3/pkgs/matplotlib-1.5.0-np110py35_0/lib/python3.5/site-packages/matplotlib/mpl-data/images/forward.pdf\n",
      "/Users/fonnescj/anaconda3/pkgs/matplotlib-1.5.0-np110py35_0/lib/python3.5/site-packages/matplotlib/mpl-data/images/hand.pdf\n",
      "/Users/fonnescj/anaconda3/pkgs/matplotlib-1.5.0-np110py35_0/lib/python3.5/site-packages/matplotlib/mpl-data/images/home.pdf\n",
      "/Users/fonnescj/anaconda3/pkgs/matplotlib-1.5.0-np110py35_0/lib/python3.5/site-packages/matplotlib/mpl-data/images/matplotlib.pdf\n",
      "/Users/fonnescj/anaconda3/pkgs/matplotlib-1.5.0-np110py35_0/lib/python3.5/site-packages/matplotlib/mpl-data/images/move.pdf\n",
      "/Users/fonnescj/anaconda3/pkgs/matplotlib-1.5.0-np110py35_0/lib/python3.5/site-packages/matplotlib/mpl-data/images/qt4_editor_options.pdf\n",
      "/Users/fonnescj/anaconda3/pkgs/matplotlib-1.5.0-np110py35_0/lib/python3.5/site-packages/matplotlib/mpl-data/images/subplots.pdf\n",
      "/Users/fonnescj/anaconda3/pkgs/matplotlib-1.5.0-np110py35_0/lib/python3.5/site-packages/matplotlib/mpl-data/images/zoom_to_rect.pdf\n",
      "/Users/fonnescj/anaconda3/pkgs/matplotlib-1.5.0-np110py35_0/lib/python3.5/site-packages/matplotlib/mpl-data/sample_data/None_vs_nearest-pdf.png\n",
      "/Users/fonnescj/anaconda3/pkgs/matplotlib-1.5.1-np110py35_0/lib/python3.5/site-packages/matplotlib/backends/__pycache__/backend_pdf.cpython-35.pyc\n",
      "/Users/fonnescj/anaconda3/pkgs/matplotlib-1.5.1-np110py35_0/lib/python3.5/site-packages/matplotlib/backends/backend_pdf.py\n",
      "/Users/fonnescj/anaconda3/pkgs/matplotlib-1.5.1-np110py35_0/lib/python3.5/site-packages/matplotlib/mpl-data/fonts/pdfcorefonts\n",
      "/Users/fonnescj/anaconda3/pkgs/matplotlib-1.5.1-np110py35_0/lib/python3.5/site-packages/matplotlib/mpl-data/fonts/pdfcorefonts/Courier-Bold.afm\n",
      "/Users/fonnescj/anaconda3/pkgs/matplotlib-1.5.1-np110py35_0/lib/python3.5/site-packages/matplotlib/mpl-data/fonts/pdfcorefonts/Courier-BoldOblique.afm\n",
      "/Users/fonnescj/anaconda3/pkgs/matplotlib-1.5.1-np110py35_0/lib/python3.5/site-packages/matplotlib/mpl-data/fonts/pdfcorefonts/Courier-Oblique.afm\n",
      "/Users/fonnescj/anaconda3/pkgs/matplotlib-1.5.1-np110py35_0/lib/python3.5/site-packages/matplotlib/mpl-data/fonts/pdfcorefonts/Courier.afm\n",
      "/Users/fonnescj/anaconda3/pkgs/matplotlib-1.5.1-np110py35_0/lib/python3.5/site-packages/matplotlib/mpl-data/fonts/pdfcorefonts/Helvetica-Bold.afm\n",
      "/Users/fonnescj/anaconda3/pkgs/matplotlib-1.5.1-np110py35_0/lib/python3.5/site-packages/matplotlib/mpl-data/fonts/pdfcorefonts/Helvetica-BoldOblique.afm\n",
      "/Users/fonnescj/anaconda3/pkgs/matplotlib-1.5.1-np110py35_0/lib/python3.5/site-packages/matplotlib/mpl-data/fonts/pdfcorefonts/Helvetica-Oblique.afm\n",
      "/Users/fonnescj/anaconda3/pkgs/matplotlib-1.5.1-np110py35_0/lib/python3.5/site-packages/matplotlib/mpl-data/fonts/pdfcorefonts/Helvetica.afm\n",
      "/Users/fonnescj/anaconda3/pkgs/matplotlib-1.5.1-np110py35_0/lib/python3.5/site-packages/matplotlib/mpl-data/fonts/pdfcorefonts/Symbol.afm\n",
      "/Users/fonnescj/anaconda3/pkgs/matplotlib-1.5.1-np110py35_0/lib/python3.5/site-packages/matplotlib/mpl-data/fonts/pdfcorefonts/Times-Bold.afm\n",
      "/Users/fonnescj/anaconda3/pkgs/matplotlib-1.5.1-np110py35_0/lib/python3.5/site-packages/matplotlib/mpl-data/fonts/pdfcorefonts/Times-BoldItalic.afm\n",
      "/Users/fonnescj/anaconda3/pkgs/matplotlib-1.5.1-np110py35_0/lib/python3.5/site-packages/matplotlib/mpl-data/fonts/pdfcorefonts/Times-Italic.afm\n",
      "/Users/fonnescj/anaconda3/pkgs/matplotlib-1.5.1-np110py35_0/lib/python3.5/site-packages/matplotlib/mpl-data/fonts/pdfcorefonts/Times-Roman.afm\n",
      "/Users/fonnescj/anaconda3/pkgs/matplotlib-1.5.1-np110py35_0/lib/python3.5/site-packages/matplotlib/mpl-data/fonts/pdfcorefonts/ZapfDingbats.afm\n",
      "/Users/fonnescj/anaconda3/pkgs/matplotlib-1.5.1-np110py35_0/lib/python3.5/site-packages/matplotlib/mpl-data/fonts/pdfcorefonts/readme.txt\n",
      "/Users/fonnescj/anaconda3/pkgs/matplotlib-1.5.1-np110py35_0/lib/python3.5/site-packages/matplotlib/mpl-data/images/back.pdf\n",
      "/Users/fonnescj/anaconda3/pkgs/matplotlib-1.5.1-np110py35_0/lib/python3.5/site-packages/matplotlib/mpl-data/images/filesave.pdf\n",
      "/Users/fonnescj/anaconda3/pkgs/matplotlib-1.5.1-np110py35_0/lib/python3.5/site-packages/matplotlib/mpl-data/images/forward.pdf\n",
      "/Users/fonnescj/anaconda3/pkgs/matplotlib-1.5.1-np110py35_0/lib/python3.5/site-packages/matplotlib/mpl-data/images/hand.pdf\n",
      "/Users/fonnescj/anaconda3/pkgs/matplotlib-1.5.1-np110py35_0/lib/python3.5/site-packages/matplotlib/mpl-data/images/home.pdf\n",
      "/Users/fonnescj/anaconda3/pkgs/matplotlib-1.5.1-np110py35_0/lib/python3.5/site-packages/matplotlib/mpl-data/images/matplotlib.pdf\n",
      "/Users/fonnescj/anaconda3/pkgs/matplotlib-1.5.1-np110py35_0/lib/python3.5/site-packages/matplotlib/mpl-data/images/move.pdf\n",
      "/Users/fonnescj/anaconda3/pkgs/matplotlib-1.5.1-np110py35_0/lib/python3.5/site-packages/matplotlib/mpl-data/images/qt4_editor_options.pdf\n",
      "/Users/fonnescj/anaconda3/pkgs/matplotlib-1.5.1-np110py35_0/lib/python3.5/site-packages/matplotlib/mpl-data/images/subplots.pdf\n",
      "/Users/fonnescj/anaconda3/pkgs/matplotlib-1.5.1-np110py35_0/lib/python3.5/site-packages/matplotlib/mpl-data/images/zoom_to_rect.pdf\n",
      "/Users/fonnescj/anaconda3/pkgs/matplotlib-1.5.1-np110py35_0/lib/python3.5/site-packages/matplotlib/mpl-data/sample_data/None_vs_nearest-pdf.png\n",
      "/Users/fonnescj/anaconda3/pkgs/nbconvert-4.0.0-py35_0/lib/python3.5/site-packages/nbconvert/exporters/__pycache__/pdf.cpython-35.pyc\n",
      "/Users/fonnescj/anaconda3/pkgs/nbconvert-4.0.0-py35_0/lib/python3.5/site-packages/nbconvert/exporters/pdf.py\n",
      "/Users/fonnescj/anaconda3/pkgs/nbconvert-4.0.0-py35_0/lib/python3.5/site-packages/nbconvert/exporters/tests/__pycache__/test_pdf.cpython-35.pyc\n",
      "/Users/fonnescj/anaconda3/pkgs/nbconvert-4.0.0-py35_0/lib/python3.5/site-packages/nbconvert/exporters/tests/test_pdf.py\n",
      "/Users/fonnescj/anaconda3/pkgs/nbconvert-4.0.0-py35_0/lib/python3.5/site-packages/nbconvert/preprocessors/__pycache__/svg2pdf.cpython-35.pyc\n",
      "/Users/fonnescj/anaconda3/pkgs/nbconvert-4.0.0-py35_0/lib/python3.5/site-packages/nbconvert/preprocessors/svg2pdf.py\n",
      "/Users/fonnescj/anaconda3/pkgs/nbconvert-4.0.0-py35_0/lib/python3.5/site-packages/nbconvert/preprocessors/tests/__pycache__/test_svg2pdf.cpython-35.pyc\n",
      "/Users/fonnescj/anaconda3/pkgs/nbconvert-4.0.0-py35_0/lib/python3.5/site-packages/nbconvert/preprocessors/tests/test_svg2pdf.py\n",
      "/Users/fonnescj/anaconda3/pkgs/nbconvert-4.1.0-py27_0/lib/python2.7/site-packages/nbconvert/exporters/pdf.py\n",
      "/Users/fonnescj/anaconda3/pkgs/nbconvert-4.1.0-py27_0/lib/python2.7/site-packages/nbconvert/exporters/pdf.pyc\n",
      "/Users/fonnescj/anaconda3/pkgs/nbconvert-4.1.0-py27_0/lib/python2.7/site-packages/nbconvert/exporters/tests/test_pdf.py\n",
      "/Users/fonnescj/anaconda3/pkgs/nbconvert-4.1.0-py27_0/lib/python2.7/site-packages/nbconvert/exporters/tests/test_pdf.pyc\n",
      "/Users/fonnescj/anaconda3/pkgs/nbconvert-4.1.0-py27_0/lib/python2.7/site-packages/nbconvert/preprocessors/svg2pdf.py\n",
      "/Users/fonnescj/anaconda3/pkgs/nbconvert-4.1.0-py27_0/lib/python2.7/site-packages/nbconvert/preprocessors/svg2pdf.pyc\n",
      "/Users/fonnescj/anaconda3/pkgs/nbconvert-4.1.0-py27_0/lib/python2.7/site-packages/nbconvert/preprocessors/tests/test_svg2pdf.py\n",
      "/Users/fonnescj/anaconda3/pkgs/nbconvert-4.1.0-py27_0/lib/python2.7/site-packages/nbconvert/preprocessors/tests/test_svg2pdf.pyc\n"
     ]
    },
    {
     "name": "stdout",
     "output_type": "stream",
     "text": [
      "/Users/fonnescj/anaconda3/pkgs/spyder-2.3.8-py35_0/lib/python3.5/site-packages/spyderlib/images/filetypes/pdf.png\n",
      "/usr/local/texlive/2015/texmf-dist/doc/latex/pythontex/pythontex.pdf\n",
      "/usr/local/texlive/2015/texmf-dist/doc/latex/pythontex/pythontex_gallery.pdf\n",
      "/usr/local/texlive/2015/texmf-dist/doc/latex/pythontex/pythontex_quickstart.pdf\n"
     ]
    }
   ],
   "source": [
    "!locate python | grep pdf"
   ]
  },
  {
   "cell_type": "markdown",
   "metadata": {},
   "source": [
    "You can even use Python variables in commands sent to the OS:"
   ]
  },
  {
   "cell_type": "code",
   "execution_count": 11,
   "metadata": {
    "collapsed": false
   },
   "outputs": [
    {
     "name": "stdout",
     "output_type": "stream",
     "text": [
      "../data/microbiome.csv         ../data/vlbw.csv\r\n",
      "../data/microbiome_missing.csv\r\n"
     ]
    }
   ],
   "source": [
    "file_type = 'csv'\n",
    "!ls ../data/*$file_type"
   ]
  },
  {
   "cell_type": "markdown",
   "metadata": {},
   "source": [
    "The output of a system command using the exclamation point syntax can be assigned to a Python variable."
   ]
  },
  {
   "cell_type": "code",
   "execution_count": 12,
   "metadata": {
    "collapsed": false
   },
   "outputs": [],
   "source": [
    "data_files = !ls ../data/microbiome/"
   ]
  },
  {
   "cell_type": "code",
   "execution_count": 13,
   "metadata": {
    "collapsed": false
   },
   "outputs": [
    {
     "data": {
      "text/plain": [
       "['MID1.xls',\n",
       " 'MID2.xls',\n",
       " 'MID3.xls',\n",
       " 'MID4.xls',\n",
       " 'MID5.xls',\n",
       " 'MID6.xls',\n",
       " 'MID7.xls',\n",
       " 'MID8.xls',\n",
       " 'MID9.xls',\n",
       " 'metadata.xls']"
      ]
     },
     "execution_count": 13,
     "metadata": {},
     "output_type": "execute_result"
    }
   ],
   "source": [
    "data_files"
   ]
  },
  {
   "cell_type": "markdown",
   "metadata": {},
   "source": [
    "## Qt Console\n",
    "\n",
    "If you type at the system prompt:\n",
    "\n",
    "    $ ipython qtconsole\n",
    "\n",
    "instead of opening in a terminal, IPython will start a graphical console that at first sight appears just like a terminal, but which is in fact much more capable than a text-only terminal.  This is a specialized terminal designed for interactive scientific work, and it supports full multi-line editing with color highlighting and graphical calltips for functions, it can keep multiple IPython sessions open simultaneously in tabs, and when scripts run it can display the figures inline directly in the work area.\n",
    "\n",
    "![qtconsole](files/images/qtconsole.png)"
   ]
  },
  {
   "cell_type": "markdown",
   "metadata": {},
   "source": [
    "# Jupyter Notebook\n",
    "\n",
    "Over time, the IPython project grew to include several components, including:\n",
    "\n",
    "* an interactive shell\n",
    "* a REPL protocol\n",
    "* a notebook document fromat\n",
    "* a notebook document conversion tool\n",
    "* a web-based notebook authoring tool\n",
    "* tools for building interactive UI (widgets)\n",
    "* interactive parallel Python\n",
    "\n",
    "As each component has evolved, several had grown to the point that they warrented projects of their own. For example, pieces like the notebook and protocol are not even specific to Python. As the result, the IPython team created Project Jupyter, which is the new home of language-agnostic projects that began as part of IPython, such as the notebook in which you are reading this text.\n",
    "\n",
    "The HTML notebook that is part of the Jupyter project supports **interactive data visualization** and easy high-performance **parallel computing**.\n"
   ]
  },
  {
   "cell_type": "code",
   "execution_count": 14,
   "metadata": {
    "collapsed": false
   },
   "outputs": [
    {
     "data": {
      "text/plain": [
       "[<matplotlib.lines.Line2D at 0x105e35b70>]"
      ]
     },
     "execution_count": 14,
     "metadata": {},
     "output_type": "execute_result"
    },
    {
     "data": {
      "image/png": "[encoded data removed]",
      "text/plain": [
       "<matplotlib.figure.Figure at 0x104d83f98>"
      ]
     },
     "metadata": {},
     "output_type": "display_data"
    }
   ],
   "source": [
    "%matplotlib inline\n",
    "import matplotlib.pyplot as plt\n",
    "plt.style.use('fivethirtyeight')\n",
    "\n",
    "def f(x):\n",
    "    return (x-3)*(x-5)*(x-7)+85\n",
    "\n",
    "import numpy as np\n",
    "x = np.linspace(0, 10, 200)\n",
    "y = f(x)\n",
    "plt.plot(x,y)"
   ]
  },
  {
   "cell_type": "markdown",
   "metadata": {},
   "source": [
    "The notebook lets you document your workflow using either HTML or Markdown.\n",
    "\n",
    "The Jupyter Notebook consists of two related components:\n",
    "\n",
    "* A JSON based Notebook document format for recording and distributing Python code and rich text.\n",
    "* A web-based user interface for authoring and running notebook documents.\n",
    "\n",
    "The Notebook can be used by starting the Notebook server with the command:\n",
    "\n",
    "    $ ipython notebook\n",
    "    \n",
    "This initiates an **iPython engine**, which is a Python instance that takes Python commands over a network connection.\n",
    "\n",
    "The **IPython controller** provides an interface for working with a set of engines, to which one or more **iPython clients** can connect.\n",
    "\n",
    "The Notebook gives you everything that a browser gives you. For example, you can embed images, videos, or entire websites."
   ]
  },
  {
   "cell_type": "code",
   "execution_count": 28,
   "metadata": {
    "collapsed": false
   },
   "outputs": [
    {
     "data": {
      "text/html": [
       "\n",
       "        <iframe\n",
       "            width=\"100%\"\n",
       "            height=\"350\"\n",
       "            src=\"https://jupyter.org\"\n",
       "            frameborder=\"0\"\n",
       "            allowfullscreen\n",
       "        ></iframe>\n",
       "        "
      ],
      "text/plain": [
       "<IPython.lib.display.IFrame at 0x105e019b0>"
      ]
     },
     "execution_count": 28,
     "metadata": {},
     "output_type": "execute_result"
    }
   ],
   "source": [
    "from IPython.display import IFrame\n",
    "IFrame('https://jupyter.org', width='100%', height=350)"
   ]
  },
  {
   "cell_type": "code",
   "execution_count": 29,
   "metadata": {
    "collapsed": false,
    "slideshow": {
     "slide_type": "slide"
    }
   },
   "outputs": [
    {
     "data": {
      "image/jpeg": "[encoded data removed]",
      "text/html": [
       "\n",
       "        <iframe\n",
       "            width=\"400\"\n",
       "            height=\"300\"\n",
       "            src=\"https://www.youtube.com/embed/rl5DaFbLc60\"\n",
       "            frameborder=\"0\"\n",
       "            allowfullscreen\n",
       "        ></iframe>\n",
       "        "
      ],
      "text/plain": [
       "<IPython.lib.display.YouTubeVideo at 0x105df7668>"
      ]
     },
     "execution_count": 29,
     "metadata": {},
     "output_type": "execute_result"
    }
   ],
   "source": [
    "from IPython.display import YouTubeVideo\n",
    "YouTubeVideo(\"rl5DaFbLc60\")"
   ]
  },
  {
   "cell_type": "markdown",
   "metadata": {},
   "source": [
    "## Markdown cells\n",
    "\n",
    "Markdown is a simple *markup* language that allows plain text to be converted into HTML.\n",
    "\n",
    "The advantages of using Markdown over HTML (and LaTeX):\n",
    "\n",
    "- its a **human-readable** format \n",
    "- allows writers to focus on content rather than formatting and layout\n",
    "- easier to learn and use\n",
    "\n",
    "For example, instead of writing:\n",
    "\n",
    "```html\n",
    "<p>In order to create valid \n",
    "<a href=\"http://en.wikipedia.org/wiki/HTML\">HTML</a>, you \n",
    "need properly coded syntax that can be cumbersome for \n",
    "&#8220;non-programmers&#8221; to write. Sometimes, you\n",
    "just want to easily make certain words <strong>bold\n",
    "</strong>, and certain words <em>italicized</em> without\n",
    "having to remember the syntax. Additionally, for example,\n",
    "creating lists:</p>\n",
    "<ul>\n",
    "<li>should be easy</li>\n",
    "<li>should not involve programming</li>\n",
    "</ul>\n",
    "```\n",
    "\n",
    "we can write the following in Markdown:\n",
    "\n",
    "```markdown\n",
    "In order to create valid [HTML], you need properly\n",
    "coded syntax that can be cumbersome for \n",
    "\"non-programmers\" to write. Sometimes, you just want\n",
    "to easily make certain words **bold**, and certain \n",
    "words *italicized* without having to remember the \n",
    "syntax. Additionally, for example, creating lists:\n",
    "\n",
    "* should be easy\n",
    "* should not involve programming\n",
    "```\n",
    "\n",
    "### Emphasis\n",
    "\n",
    "Markdown uses `*` (asterisk) and `_` (underscore) characters as \n",
    "indicators of emphasis. \n",
    "\n",
    "    *italic*, _italic_  \n",
    "    **bold**, __bold__\n",
    "    ***bold-italic***, ___bold-italic___\n",
    "\n",
    "*italic*, _italic_  \n",
    "**bold**, __bold__  \n",
    "***bold-italic***, ___bold-italic___\n",
    "\n",
    "### Lists\n",
    "\n",
    "Markdown supports both unordered and ordered lists. Unordered lists can use `*`, `-`, or \n",
    "`+` to define a list. This is an unordered list:  \n",
    "\n",
    "    * Apples\n",
    "    * Bananas\n",
    "    * Oranges\n",
    "\n",
    "* Apples\n",
    "* Bananas\n",
    "* Oranges\n",
    "\n",
    "Ordered lists are numbered lists in plain text:\n",
    "\n",
    "    1. Bryan Ferry\n",
    "    2. Brian Eno\n",
    "    3. Andy Mackay\n",
    "    4. Paul Thompson\n",
    "    5. Phil Manzanera\n",
    "\n",
    "1. Bryan Ferry\n",
    "2. Brian Eno\n",
    "3. Andy Mackay\n",
    "4. Paul Thompson\n",
    "5. Phil Manzanera\n",
    "\n",
    "### Links\n",
    "\n",
    "Markdown inline links are equivalent to HTML `<a href='foo.com'>` \n",
    "links, they just have a different syntax. \n",
    "\n",
    "    [Biostatistics home page](http://biostat.mc.vanderbilt.edu \"Visit Biostat!\")\n",
    "\n",
    "[Biostatistics home page](http://biostat.mc.vanderbilt.edu \"Visit Biostat!\")\n",
    "\n",
    "### Block quotes\n",
    "\n",
    "Block quotes are denoted by a `>` (greater than) character \n",
    "before each line of the block quote.\n",
    "\n",
    "    > Sometimes a simple model will outperform a more complex model . . . \n",
    "    > Nevertheless, I believe that deliberately limiting the complexity \n",
    "    > of the model is not fruitful when the problem is evidently complex. \n",
    "\n",
    "> Sometimes a simple model will outperform a more complex model . . .\n",
    "> Nevertheless, I believe that deliberately limiting the complexity \n",
    "> of the model is not fruitful when the problem is evidently complex.\n",
    "\n",
    "### Images\n",
    "\n",
    "Images look an awful lot like Markdown links, they just have an extra \n",
    "`!` (exclamation mark) in front of them. \n",
    "\n",
    "    ![Python logo](images/python-logo-master-v3-TM.png)\n",
    "\n",
    "![Python logo](images/python-logo-master-v3-TM.png)"
   ]
  },
  {
   "cell_type": "markdown",
   "metadata": {},
   "source": [
    "### Remote Code\n",
    "\n",
    "Use `%load` to add remote code"
   ]
  },
  {
   "cell_type": "code",
   "execution_count": 30,
   "metadata": {
    "collapsed": false
   },
   "outputs": [
    {
     "data": {
      "image/png": "[encoded data removed]",
      "text/plain": [
       "<matplotlib.figure.Figure at 0x105e9d048>"
      ]
     },
     "metadata": {},
     "output_type": "display_data"
    }
   ],
   "source": [
    "# %load http://matplotlib.org/mpl_examples/shapes_and_collections/scatter_demo.py\n",
    "\"\"\"\n",
    "Simple demo of a scatter plot.\n",
    "\"\"\"\n",
    "import numpy as np\n",
    "import matplotlib.pyplot as plt\n",
    "\n",
    "\n",
    "N = 50\n",
    "x = np.random.rand(N)\n",
    "y = np.random.rand(N)\n",
    "colors = np.random.rand(N)\n",
    "area = np.pi * (15 * np.random.rand(N))**2 # 0 to 15 point radiuses\n",
    "\n",
    "plt.scatter(x, y, s=area, c=colors, alpha=0.5)\n",
    "plt.show()\n"
   ]
  },
  {
   "cell_type": "markdown",
   "metadata": {},
   "source": [
    "### Mathjax Support\n",
    "\n",
    "Mathjax ia a javascript implementation $\\alpha$ of LaTeX that allows equations to be embedded into HTML. For example, this markup:\n",
    "\n",
    "    \"\"\"$$ \\int_{a}^{b} f(x)\\, dx \\approx \\frac{1}{2} \\sum_{k=1}^{N} \\left( x_{k} - x_{k-1} \\right) \\left( f(x_{k}) + f(x_{k-1}) \\right). $$\"\"\"\n",
    "    \n",
    "becomes this:\n",
    "\n",
    "$$\n",
    "\\int_{a}^{b} f(x)\\, dx \\approx \\frac{1}{2} \\sum_{k=1}^{N} \\left( x_{k} - x_{k-1} \\right) \\left( f(x_{k}) + f(x_{k-1}) \\right).\n",
    "$$"
   ]
  },
  {
   "cell_type": "markdown",
   "metadata": {},
   "source": [
    "## SymPy Support\n",
    "\n",
    "SymPy is a Python library for symbolic mathematics. It supports:\n",
    "\n",
    "* polynomials\n",
    "* calculus\n",
    "* solving equations\n",
    "* discrete math\n",
    "* matrices"
   ]
  },
  {
   "cell_type": "code",
   "execution_count": 31,
   "metadata": {
    "collapsed": false
   },
   "outputs": [],
   "source": [
    "from sympy import *\n",
    "init_printing()\n",
    "x, y = symbols(\"x y\")"
   ]
  },
  {
   "cell_type": "code",
   "execution_count": 32,
   "metadata": {
    "collapsed": false
   },
   "outputs": [
    {
     "data": {
      "image/png": "[encoded data removed]",
      "text/latex": [
       "$$\\left(x + 1\\right) \\left(x + y\\right)^{2}$$"
      ],
      "text/plain": [
       "               2\n",
       "(x + 1)⋅(x + y) "
      ]
     },
     "execution_count": 32,
     "metadata": {},
     "output_type": "execute_result"
    }
   ],
   "source": [
    "eq = ((x+y)**2 * (x+1))\n",
    "eq"
   ]
  },
  {
   "cell_type": "code",
   "execution_count": 33,
   "metadata": {
    "collapsed": false
   },
   "outputs": [
    {
     "data": {
      "image/png": "[encoded data removed]",
      "text/latex": [
       "$$x^{3} + 2 x^{2} y + x^{2} + x y^{2} + 2 x y + y^{2}$$"
      ],
      "text/plain": [
       " 3      2      2      2            2\n",
       "x  + 2⋅x ⋅y + x  + x⋅y  + 2⋅x⋅y + y "
      ]
     },
     "execution_count": 33,
     "metadata": {},
     "output_type": "execute_result"
    }
   ],
   "source": [
    "expand(eq)"
   ]
  },
  {
   "cell_type": "code",
   "execution_count": 34,
   "metadata": {
    "collapsed": false
   },
   "outputs": [
    {
     "data": {
      "image/png": "[encoded data removed]",
      "text/latex": [
       "$$1 + \\frac{x^{2}}{2} + \\frac{5 x^{4}}{24} + \\mathcal{O}\\left(x^{6}\\right)$$"
      ],
      "text/plain": [
       "     2      4        \n",
       "    x    5⋅x     ⎛ 6⎞\n",
       "1 + ── + ──── + O⎝x ⎠\n",
       "    2     24         "
      ]
     },
     "execution_count": 34,
     "metadata": {},
     "output_type": "execute_result"
    }
   ],
   "source": [
    "(1/cos(x)).series(x, 0, 6)"
   ]
  },
  {
   "cell_type": "code",
   "execution_count": 35,
   "metadata": {
    "collapsed": false
   },
   "outputs": [
    {
     "data": {
      "image/png": "[encoded data removed]",
      "text/latex": [
       "$$- \\frac{1}{6}$$"
      ],
      "text/plain": [
       "-1/6"
      ]
     },
     "execution_count": 35,
     "metadata": {},
     "output_type": "execute_result"
    }
   ],
   "source": [
    "limit((sin(x)-x)/x**3, x, 0)"
   ]
  },
  {
   "cell_type": "code",
   "execution_count": 36,
   "metadata": {
    "collapsed": false
   },
   "outputs": [
    {
     "data": {
      "image/png": "[encoded data removed]",
      "text/latex": [
       "$$- \\frac{4 x \\cos{\\left (x^{2} \\right )}}{x + 1} \\sin{\\left (x^{2} \\right )} - \\frac{\\cos^{2}{\\left (x^{2} \\right )}}{\\left(x + 1\\right)^{2}}$$"
      ],
      "text/plain": [
       "         ⎛ 2⎞    ⎛ 2⎞      2⎛ 2⎞\n",
       "  4⋅x⋅sin⎝x ⎠⋅cos⎝x ⎠   cos ⎝x ⎠\n",
       "- ─────────────────── - ────────\n",
       "         x + 1                 2\n",
       "                        (x + 1) "
      ]
     },
     "execution_count": 36,
     "metadata": {},
     "output_type": "execute_result"
    }
   ],
   "source": [
    "diff(cos(x**2)**2 / (1+x), x)"
   ]
  },
  {
   "cell_type": "markdown",
   "metadata": {},
   "source": [
    "### Magic functions\n",
    "\n",
    "IPython has a set of predefined ‘magic functions’ that you can call with a command line style syntax. These include:\n",
    "\n",
    "* `%run`\n",
    "* `%edit`\n",
    "* `%debug`\n",
    "* `%timeit`\n",
    "* `%paste`\n",
    "* `%load_ext`\n",
    "\n"
   ]
  },
  {
   "cell_type": "code",
   "execution_count": 37,
   "metadata": {
    "collapsed": false
   },
   "outputs": [
    {
     "data": {
      "application/json": {
       "cell": {
        "!": "OSMagics",
        "HTML": "Other",
        "SVG": "Other",
        "bash": "Other",
        "capture": "ExecutionMagics",
        "debug": "ExecutionMagics",
        "file": "Other",
        "html": "DisplayMagics",
        "javascript": "DisplayMagics",
        "latex": "DisplayMagics",
        "perl": "Other",
        "prun": "ExecutionMagics",
        "pypy": "Other",
        "python": "Other",
        "python2": "Other",
        "python3": "Other",
        "ruby": "Other",
        "script": "ScriptMagics",
        "sh": "Other",
        "svg": "DisplayMagics",
        "sx": "OSMagics",
        "system": "OSMagics",
        "time": "ExecutionMagics",
        "timeit": "ExecutionMagics",
        "writefile": "OSMagics"
       },
       "line": {
        "alias": "OSMagics",
        "alias_magic": "BasicMagics",
        "autocall": "AutoMagics",
        "automagic": "AutoMagics",
        "autosave": "KernelMagics",
        "bookmark": "OSMagics",
        "cat": "Other",
        "cd": "OSMagics",
        "clear": "KernelMagics",
        "colors": "BasicMagics",
        "config": "ConfigMagics",
        "connect_info": "KernelMagics",
        "cp": "Other",
        "debug": "ExecutionMagics",
        "dhist": "OSMagics",
        "dirs": "OSMagics",
        "doctest_mode": "BasicMagics",
        "ed": "Other",
        "edit": "KernelMagics",
        "env": "OSMagics",
        "gui": "BasicMagics",
        "hist": "Other",
        "history": "HistoryMagics",
        "install_default_config": "DeprecatedMagics",
        "install_ext": "ExtensionMagics",
        "install_profiles": "DeprecatedMagics",
        "killbgscripts": "ScriptMagics",
        "ldir": "Other",
        "less": "KernelMagics",
        "lf": "Other",
        "lk": "Other",
        "ll": "Other",
        "load": "CodeMagics",
        "load_ext": "ExtensionMagics",
        "loadpy": "CodeMagics",
        "logoff": "LoggingMagics",
        "logon": "LoggingMagics",
        "logstart": "LoggingMagics",
        "logstate": "LoggingMagics",
        "logstop": "LoggingMagics",
        "ls": "Other",
        "lsmagic": "BasicMagics",
        "lx": "Other",
        "macro": "ExecutionMagics",
        "magic": "BasicMagics",
        "man": "KernelMagics",
        "matplotlib": "PylabMagics",
        "mkdir": "Other",
        "more": "KernelMagics",
        "mv": "Other",
        "notebook": "BasicMagics",
        "page": "BasicMagics",
        "pastebin": "CodeMagics",
        "pdb": "ExecutionMagics",
        "pdef": "NamespaceMagics",
        "pdoc": "NamespaceMagics",
        "pfile": "NamespaceMagics",
        "pinfo": "NamespaceMagics",
        "pinfo2": "NamespaceMagics",
        "popd": "OSMagics",
        "pprint": "BasicMagics",
        "precision": "BasicMagics",
        "profile": "BasicMagics",
        "prun": "ExecutionMagics",
        "psearch": "NamespaceMagics",
        "psource": "NamespaceMagics",
        "pushd": "OSMagics",
        "pwd": "OSMagics",
        "pycat": "OSMagics",
        "pylab": "PylabMagics",
        "qtconsole": "KernelMagics",
        "quickref": "BasicMagics",
        "recall": "HistoryMagics",
        "rehashx": "OSMagics",
        "reload_ext": "ExtensionMagics",
        "rep": "Other",
        "rerun": "HistoryMagics",
        "reset": "NamespaceMagics",
        "reset_selective": "NamespaceMagics",
        "rm": "Other",
        "rmdir": "Other",
        "run": "ExecutionMagics",
        "save": "CodeMagics",
        "sc": "OSMagics",
        "set_env": "OSMagics",
        "store": "StoreMagics",
        "sx": "OSMagics",
        "system": "OSMagics",
        "tb": "ExecutionMagics",
        "time": "ExecutionMagics",
        "timeit": "ExecutionMagics",
        "unalias": "OSMagics",
        "unload_ext": "ExtensionMagics",
        "who": "NamespaceMagics",
        "who_ls": "NamespaceMagics",
        "whos": "NamespaceMagics",
        "xdel": "NamespaceMagics",
        "xmode": "BasicMagics"
       }
      },
      "text/plain": [
       "Available line magics:\n",
       "%alias  %alias_magic  %autocall  %automagic  %autosave  %bookmark  %cat  %cd  %clear  %colors  %config  %connect_info  %cp  %debug  %dhist  %dirs  %doctest_mode  %ed  %edit  %env  %gui  %hist  %history  %install_default_config  %install_ext  %install_profiles  %killbgscripts  %ldir  %less  %lf  %lk  %ll  %load  %load_ext  %loadpy  %logoff  %logon  %logstart  %logstate  %logstop  %ls  %lsmagic  %lx  %macro  %magic  %man  %matplotlib  %mkdir  %more  %mv  %notebook  %page  %pastebin  %pdb  %pdef  %pdoc  %pfile  %pinfo  %pinfo2  %popd  %pprint  %precision  %profile  %prun  %psearch  %psource  %pushd  %pwd  %pycat  %pylab  %qtconsole  %quickref  %recall  %rehashx  %reload_ext  %rep  %rerun  %reset  %reset_selective  %rm  %rmdir  %run  %save  %sc  %set_env  %store  %sx  %system  %tb  %time  %timeit  %unalias  %unload_ext  %who  %who_ls  %whos  %xdel  %xmode\n",
       "\n",
       "Available cell magics:\n",
       "%%!  %%HTML  %%SVG  %%bash  %%capture  %%debug  %%file  %%html  %%javascript  %%latex  %%perl  %%prun  %%pypy  %%python  %%python2  %%python3  %%ruby  %%script  %%sh  %%svg  %%sx  %%system  %%time  %%timeit  %%writefile\n",
       "\n",
       "Automagic is ON, % prefix IS NOT needed for line magics."
      ]
     },
     "execution_count": 37,
     "metadata": {},
     "output_type": "execute_result"
    }
   ],
   "source": [
    "%lsmagic"
   ]
  },
  {
   "cell_type": "markdown",
   "metadata": {},
   "source": [
    "Timing the execution of code; the `timeit` magic exists both in line and cell form:"
   ]
  },
  {
   "cell_type": "code",
   "execution_count": 38,
   "metadata": {
    "collapsed": false
   },
   "outputs": [
    {
     "name": "stdout",
     "output_type": "stream",
     "text": [
      "100 loops, best of 3: 9.54 ms per loop\n"
     ]
    }
   ],
   "source": [
    "%timeit np.linalg.eigvals(np.random.rand(100,100))"
   ]
  },
  {
   "cell_type": "code",
   "execution_count": 39,
   "metadata": {
    "collapsed": false
   },
   "outputs": [
    {
     "name": "stdout",
     "output_type": "stream",
     "text": [
      "100 loops, best of 3: 8.46 ms per loop\n"
     ]
    }
   ],
   "source": [
    "%%timeit a = np.random.rand(100, 100)\n",
    "np.linalg.eigvals(a)"
   ]
  },
  {
   "cell_type": "markdown",
   "metadata": {},
   "source": [
    "IPython also creates aliases for a few common interpreters, such as bash, ruby, perl, etc.\n",
    "\n",
    "These are all equivalent to `%%script <name>`"
   ]
  },
  {
   "cell_type": "code",
   "execution_count": 40,
   "metadata": {
    "collapsed": false
   },
   "outputs": [
    {
     "name": "stdout",
     "output_type": "stream",
     "text": [
      "Hello from Ruby 2.0.0\n"
     ]
    }
   ],
   "source": [
    "%%ruby\n",
    "puts \"Hello from Ruby #{RUBY_VERSION}\""
   ]
  },
  {
   "cell_type": "code",
   "execution_count": 41,
   "metadata": {
    "collapsed": false
   },
   "outputs": [
    {
     "name": "stdout",
     "output_type": "stream",
     "text": [
      "hello from /bin/bash\n"
     ]
    }
   ],
   "source": [
    "%%bash\n",
    "echo \"hello from $BASH\""
   ]
  },
  {
   "cell_type": "markdown",
   "metadata": {},
   "source": [
    "IPython has an `rmagic` extension that contains a some magic functions for working with R via rpy2. This extension can be loaded using the `%load_ext` magic as follows:"
   ]
  },
  {
   "cell_type": "code",
   "execution_count": 43,
   "metadata": {
    "collapsed": false
   },
   "outputs": [],
   "source": [
    "%load_ext rpy2.ipython"
   ]
  },
  {
   "cell_type": "markdown",
   "metadata": {},
   "source": [
    "If the above generates an error, it is likely that you do not have the `rpy2` module installed. You can install this now via:"
   ]
  },
  {
   "cell_type": "code",
   "execution_count": 31,
   "metadata": {
    "collapsed": false
   },
   "outputs": [
    {
     "name": "stdout",
     "output_type": "stream",
     "text": [
      "Requirement already satisfied (use --upgrade to upgrade): rpy2 in /usr/local/lib/python3.4/site-packages\r\n",
      "Requirement already satisfied (use --upgrade to upgrade): six in /usr/local/lib/python3.4/site-packages (from rpy2)\r\n"
     ]
    }
   ],
   "source": [
    "!pip install rpy2"
   ]
  },
  {
   "cell_type": "markdown",
   "metadata": {},
   "source": [
    "or, if you are running Anaconda, via `conda`:"
   ]
  },
  {
   "cell_type": "code",
   "execution_count": 32,
   "metadata": {
    "collapsed": false
   },
   "outputs": [
    {
     "name": "stdout",
     "output_type": "stream",
     "text": [
      "/bin/sh: conda: command not found\r\n"
     ]
    }
   ],
   "source": [
    "!conda install rpy2"
   ]
  },
  {
   "cell_type": "code",
   "execution_count": 44,
   "metadata": {
    "collapsed": false
   },
   "outputs": [
    {
     "data": {
      "text/plain": [
       "\n",
       "Call:\n",
       "lm(formula = rnorm(10) ~ rnorm(10))\n",
       "\n",
       "Coefficients:\n",
       "(Intercept)  \n",
       "   -0.05843  \n",
       "\n"
      ]
     },
     "metadata": {},
     "output_type": "display_data"
    }
   ],
   "source": [
    "x,y = np.arange(10), np.random.normal(size=10)\n",
    "%R print(lm(rnorm(10)~rnorm(10)))"
   ]
  },
  {
   "cell_type": "code",
   "execution_count": 45,
   "metadata": {
    "collapsed": false
   },
   "outputs": [
    {
     "data": {
      "text/plain": [
       "\n",
       "Call:\n",
       "lm(formula = y ~ x)\n",
       "\n",
       "Residuals:\n",
       "     Min       1Q   Median       3Q      Max \n",
       "-1.40383 -0.67658  0.07021  0.59325  1.40326 \n",
       "\n",
       "Coefficients:\n",
       "            Estimate Std. Error t value Pr(>|t|)\n",
       "(Intercept)  0.24489    0.58704   0.417    0.688\n",
       "x           -0.08171    0.10996  -0.743    0.479\n",
       "\n",
       "Residual standard error: 0.9988 on 8 degrees of freedom\n",
       "Multiple R-squared:  0.06456,\tAdjusted R-squared:  -0.05237 \n",
       "F-statistic: 0.5522 on 1 and 8 DF,  p-value: 0.4787\n",
       "\n"
      ]
     },
     "metadata": {},
     "output_type": "display_data"
    },
    {
     "data": {
      "image/png": "[encoded data removed]"
     },
     "metadata": {},
     "output_type": "display_data"
    }
   ],
   "source": [
    "%%R -i x,y -o XYcoef\n",
    "lm.fit <- lm(y~x)\n",
    "par(mfrow=c(2,2))\n",
    "print(summary(lm.fit))\n",
    "plot(lm.fit)\n",
    "XYcoef <- coef(lm.fit)"
   ]
  },
  {
   "cell_type": "code",
   "execution_count": 46,
   "metadata": {
    "collapsed": false
   },
   "outputs": [
    {
     "data": {
      "text/plain": [
       "array([ 0.24488782, -0.08171063])"
      ]
     },
     "execution_count": 46,
     "metadata": {},
     "output_type": "execute_result"
    }
   ],
   "source": [
    "XYcoef"
   ]
  },
  {
   "cell_type": "markdown",
   "metadata": {},
   "source": [
    "## Debugging\n",
    "\n",
    "The `%debug` magic can be used to trigger the IPython debugger (`ipd`) for a cell that raises an exception. The debugger allows you to step through code line-by-line and inspect variables and execute code."
   ]
  },
  {
   "cell_type": "code",
   "execution_count": 11,
   "metadata": {
    "collapsed": false
   },
   "outputs": [
    {
     "ename": "ZeroDivisionError",
     "evalue": "division by zero",
     "output_type": "error",
     "traceback": [
      "\u001b[0;31m---------------------------------------------------------------------------\u001b[0m",
      "\u001b[0;31mZeroDivisionError\u001b[0m                         Traceback (most recent call last)",
      "\u001b[0;32m<ipython-input-11-a5097cc0c0c5>\u001b[0m in \u001b[0;36m<module>\u001b[0;34m()\u001b[0m\n\u001b[1;32m      2\u001b[0m     \u001b[0;32mreturn\u001b[0m \u001b[0mx\u001b[0m\u001b[0;34m/\u001b[0m\u001b[0my\u001b[0m\u001b[0;34m\u001b[0m\u001b[0m\n\u001b[1;32m      3\u001b[0m \u001b[0;34m\u001b[0m\u001b[0m\n\u001b[0;32m----> 4\u001b[0;31m \u001b[0mdiv\u001b[0m\u001b[0;34m(\u001b[0m\u001b[0;36m1\u001b[0m\u001b[0;34m,\u001b[0m\u001b[0;36m0\u001b[0m\u001b[0;34m)\u001b[0m\u001b[0;34m\u001b[0m\u001b[0m\n\u001b[0m",
      "\u001b[0;32m<ipython-input-11-a5097cc0c0c5>\u001b[0m in \u001b[0;36mdiv\u001b[0;34m(x, y)\u001b[0m\n\u001b[1;32m      1\u001b[0m \u001b[0;32mdef\u001b[0m \u001b[0mdiv\u001b[0m\u001b[0;34m(\u001b[0m\u001b[0mx\u001b[0m\u001b[0;34m,\u001b[0m \u001b[0my\u001b[0m\u001b[0;34m)\u001b[0m\u001b[0;34m:\u001b[0m\u001b[0;34m\u001b[0m\u001b[0m\n\u001b[0;32m----> 2\u001b[0;31m     \u001b[0;32mreturn\u001b[0m \u001b[0mx\u001b[0m\u001b[0;34m/\u001b[0m\u001b[0my\u001b[0m\u001b[0;34m\u001b[0m\u001b[0m\n\u001b[0m\u001b[1;32m      3\u001b[0m \u001b[0;34m\u001b[0m\u001b[0m\n\u001b[1;32m      4\u001b[0m \u001b[0mdiv\u001b[0m\u001b[0;34m(\u001b[0m\u001b[0;36m1\u001b[0m\u001b[0;34m,\u001b[0m\u001b[0;36m0\u001b[0m\u001b[0;34m)\u001b[0m\u001b[0;34m\u001b[0m\u001b[0m\n",
      "\u001b[0;31mZeroDivisionError\u001b[0m: division by zero"
     ]
    }
   ],
   "source": [
    "def div(x, y):\n",
    "    return x/y\n",
    "\n",
    "div(1,0)"
   ]
  },
  {
   "cell_type": "code",
   "execution_count": 12,
   "metadata": {
    "collapsed": false
   },
   "outputs": [
    {
     "name": "stdout",
     "output_type": "stream",
     "text": [
      "> \u001b[0;32m<ipython-input-11-a5097cc0c0c5>\u001b[0m(2)\u001b[0;36mdiv\u001b[0;34m()\u001b[0m\n",
      "\u001b[0;32m      1 \u001b[0;31m\u001b[0;32mdef\u001b[0m \u001b[0mdiv\u001b[0m\u001b[0;34m(\u001b[0m\u001b[0mx\u001b[0m\u001b[0;34m,\u001b[0m \u001b[0my\u001b[0m\u001b[0;34m)\u001b[0m\u001b[0;34m:\u001b[0m\u001b[0;34m\u001b[0m\u001b[0m\n",
      "\u001b[0m\u001b[0;32m----> 2 \u001b[0;31m    \u001b[0;32mreturn\u001b[0m \u001b[0mx\u001b[0m\u001b[0;34m/\u001b[0m\u001b[0my\u001b[0m\u001b[0;34m\u001b[0m\u001b[0m\n",
      "\u001b[0m\u001b[0;32m      3 \u001b[0;31m\u001b[0;34m\u001b[0m\u001b[0m\n",
      "\u001b[0m\u001b[0;32m      4 \u001b[0;31m\u001b[0mdiv\u001b[0m\u001b[0;34m(\u001b[0m\u001b[0;36m1\u001b[0m\u001b[0;34m,\u001b[0m\u001b[0;36m0\u001b[0m\u001b[0;34m)\u001b[0m\u001b[0;34m\u001b[0m\u001b[0m\n",
      "\u001b[0m\n",
      "ipdb> p x\n",
      "1\n",
      "ipdb> p y\n",
      "0\n",
      "ipdb> q\n"
     ]
    }
   ],
   "source": [
    "%debug"
   ]
  },
  {
   "cell_type": "markdown",
   "metadata": {},
   "source": [
    "## Exporting and Converting Notebooks\n",
    "\n",
    "In Jupyter, one can convert an `.ipynb` notebook document file into various static formats via the `nbconvert` tool. Currently, nbconvert is a command line tool, run as a script using Jupyter."
   ]
  },
  {
   "cell_type": "code",
   "execution_count": 47,
   "metadata": {
    "collapsed": false
   },
   "outputs": [
    {
     "name": "stdout",
     "output_type": "stream",
     "text": [
      "[NbConvertApp] Converting notebook IPython and Jupyter.ipynb to html\n",
      "[NbConvertApp] Writing 430536 bytes to IPython and Jupyter.html\n"
     ]
    }
   ],
   "source": [
    "!jupyter nbconvert --to html \"IPython and Jupyter.ipynb\""
   ]
  },
  {
   "cell_type": "markdown",
   "metadata": {},
   "source": [
    "Currently, `nbconvert` supports HTML (default), LaTeX, Markdown, reStructuredText, Python and HTML5 slides for presentations. Some types can be post-processed, such as LaTeX to PDF (this requires [Pandoc](http://johnmacfarlane.net/pandoc/) to be installed, however)."
   ]
  },
  {
   "cell_type": "code",
   "execution_count": 50,
   "metadata": {
    "collapsed": false
   },
   "outputs": [
    {
     "name": "stdout",
     "output_type": "stream",
     "text": [
      "[NbConvertApp] Converting notebook Introduction to pandas.ipynb to pdf\n",
      "[NbConvertApp] Writing 248781 bytes to notebook.tex\n",
      "[NbConvertApp] Building PDF\n",
      "[NbConvertApp] Running pdflatex 3 times: ['pdflatex', 'notebook.tex']\n",
      "[NbConvertApp] CRITICAL | pdflatex failed: ['pdflatex', 'notebook.tex']\n",
      "This is pdfTeX, Version 3.14159265-2.6-1.40.16 (TeX Live 2015) (preloaded format=pdflatex)\n",
      " restricted \\write18 enabled.\n",
      "entering extended mode\n",
      "(./notebook.tex\n",
      "LaTeX2e <2015/01/01>\n",
      "Babel <3.9l> and hyphenation patterns for 79 languages loaded.\n",
      "(/usr/local/texlive/2015/texmf-dist/tex/latex/base/article.cls\n",
      "Document Class: article 2014/09/29 v1.4h Standard LaTeX document class\n",
      "(/usr/local/texlive/2015/texmf-dist/tex/latex/base/size10.clo))\n",
      "(/usr/local/texlive/2015/texmf-dist/tex/latex/graphics/graphicx.sty\n",
      "(/usr/local/texlive/2015/texmf-dist/tex/latex/graphics/keyval.sty)\n",
      "(/usr/local/texlive/2015/texmf-dist/tex/latex/graphics/graphics.sty\n",
      "(/usr/local/texlive/2015/texmf-dist/tex/latex/graphics/trig.sty)\n",
      "(/usr/local/texlive/2015/texmf-dist/tex/latex/latexconfig/graphics.cfg)\n",
      "(/usr/local/texlive/2015/texmf-dist/tex/latex/pdftex-def/pdftex.def\n",
      "(/usr/local/texlive/2015/texmf-dist/tex/generic/oberdiek/infwarerr.sty)\n",
      "(/usr/local/texlive/2015/texmf-dist/tex/generic/oberdiek/ltxcmds.sty))))\n",
      "(/usr/local/texlive/2015/texmf-dist/tex/latex/adjustbox/adjustbox.sty\n",
      "(/usr/local/texlive/2015/texmf-dist/tex/latex/xkeyval/xkeyval.sty\n",
      "(/usr/local/texlive/2015/texmf-dist/tex/generic/xkeyval/xkeyval.tex\n",
      "(/usr/local/texlive/2015/texmf-dist/tex/generic/xkeyval/xkvutils.tex)))\n",
      "(/usr/local/texlive/2015/texmf-dist/tex/latex/adjustbox/adjcalc.sty)\n",
      "(/usr/local/texlive/2015/texmf-dist/tex/latex/adjustbox/trimclip.sty\n",
      "(/usr/local/texlive/2015/texmf-dist/tex/latex/collectbox/collectbox.sty)\n",
      "(/usr/local/texlive/2015/texmf-dist/tex/latex/adjustbox/tc-pdftex.def))\n",
      "(/usr/local/texlive/2015/texmf-dist/tex/latex/ifoddpage/ifoddpage.sty)\n",
      "(/usr/local/texlive/2015/texmf-dist/tex/latex/varwidth/varwidth.sty))\n",
      "(/usr/local/texlive/2015/texmf-dist/tex/latex/graphics/color.sty\n",
      "(/usr/local/texlive/2015/texmf-dist/tex/latex/latexconfig/color.cfg))\n",
      "(/usr/local/texlive/2015/texmf-dist/tex/latex/tools/enumerate.sty)\n",
      "(/usr/local/texlive/2015/texmf-dist/tex/latex/geometry/geometry.sty\n",
      "(/usr/local/texlive/2015/texmf-dist/tex/generic/oberdiek/ifpdf.sty)\n",
      "(/usr/local/texlive/2015/texmf-dist/tex/generic/oberdiek/ifvtex.sty)\n",
      "(/usr/local/texlive/2015/texmf-dist/tex/generic/ifxetex/ifxetex.sty))\n",
      "(/usr/local/texlive/2015/texmf-dist/tex/latex/amsmath/amsmath.sty\n",
      "For additional information on amsmath, use the `?' option.\n",
      "(/usr/local/texlive/2015/texmf-dist/tex/latex/amsmath/amstext.sty\n",
      "(/usr/local/texlive/2015/texmf-dist/tex/latex/amsmath/amsgen.sty))\n",
      "(/usr/local/texlive/2015/texmf-dist/tex/latex/amsmath/amsbsy.sty)\n",
      "(/usr/local/texlive/2015/texmf-dist/tex/latex/amsmath/amsopn.sty))\n",
      "(/usr/local/texlive/2015/texmf-dist/tex/latex/amsfonts/amssymb.sty\n",
      "(/usr/local/texlive/2015/texmf-dist/tex/latex/amsfonts/amsfonts.sty))\n",
      "(/usr/local/texlive/2015/texmf-dist/tex/latex/eurosym/eurosym.sty)\n",
      "(/usr/local/texlive/2015/texmf-dist/tex/latex/ucs/ucs.sty\n",
      "(/usr/local/texlive/2015/texmf-dist/tex/latex/ucs/data/uni-global.def))\n",
      "(/usr/local/texlive/2015/texmf-dist/tex/latex/base/inputenc.sty\n",
      "(/usr/local/texlive/2015/texmf-dist/tex/latex/ucs/utf8x.def))\n",
      "(/usr/local/texlive/2015/texmf-dist/tex/latex/fancyvrb/fancyvrb.sty\n",
      "Style option: `fancyvrb' v2.7a, with DG/SPQR fixes, and firstline=lastline fix \n",
      "<2008/02/07> (tvz))\n",
      "(/usr/local/texlive/2015/texmf-dist/tex/latex/oberdiek/grffile.sty\n",
      "(/usr/local/texlive/2015/texmf-dist/tex/latex/oberdiek/kvoptions.sty\n",
      "(/usr/local/texlive/2015/texmf-dist/tex/generic/oberdiek/kvsetkeys.sty\n",
      "(/usr/local/texlive/2015/texmf-dist/tex/generic/oberdiek/etexcmds.sty\n",
      "(/usr/local/texlive/2015/texmf-dist/tex/generic/oberdiek/ifluatex.sty))))\n",
      "(/usr/local/texlive/2015/texmf-dist/tex/generic/oberdiek/pdftexcmds.sty))\n",
      "(/usr/local/texlive/2015/texmf-dist/tex/latex/hyperref/hyperref.sty\n",
      "(/usr/local/texlive/2015/texmf-dist/tex/generic/oberdiek/hobsub-hyperref.sty\n",
      "(/usr/local/texlive/2015/texmf-dist/tex/generic/oberdiek/hobsub-generic.sty))\n",
      "(/usr/local/texlive/2015/texmf-dist/tex/latex/oberdiek/auxhook.sty)\n",
      "(/usr/local/texlive/2015/texmf-dist/tex/latex/hyperref/pd1enc.def)\n",
      "(/usr/local/texlive/2015/texmf-dist/tex/latex/latexconfig/hyperref.cfg)\n",
      "(/usr/local/texlive/2015/texmf-dist/tex/latex/url/url.sty))\n",
      "\n",
      "Package hyperref Message: Driver (autodetected): hpdftex.\n",
      "\n",
      "(/usr/local/texlive/2015/texmf-dist/tex/latex/hyperref/hpdftex.def\n",
      "(/usr/local/texlive/2015/texmf-dist/tex/latex/oberdiek/rerunfilecheck.sty))\n",
      "(/usr/local/texlive/2015/texmf-dist/tex/latex/tools/longtable.sty)\n",
      "(/usr/local/texlive/2015/texmf-dist/tex/latex/booktabs/booktabs.sty)\n",
      "(/usr/local/texlive/2015/texmf-dist/tex/generic/ulem/ulem.sty)\n",
      "No file notebook.aux.\n",
      "(/usr/local/texlive/2015/texmf-dist/tex/context/base/supp-pdf.mkii\n",
      "[Loading MPS to PDF converter (version 2006.09.02).]\n",
      ") (/usr/local/texlive/2015/texmf-dist/tex/latex/oberdiek/epstopdf-base.sty\n",
      "(/usr/local/texlive/2015/texmf-dist/tex/latex/oberdiek/grfext.sty)\n",
      "(/usr/local/texlive/2015/texmf-dist/tex/latex/latexconfig/epstopdf-sys.cfg))\n",
      "*geometry* driver: auto-detecting\n",
      "*geometry* detected driver: pdftex\n",
      "\n",
      "Package geometry Warning: The marginal notes overrun the paper.\n",
      "     Add 3.73001pt and more to the right margin.\n",
      "\n",
      "*geometry* verbose mode - [ preamble ] result:\n",
      "* driver: pdftex\n",
      "* paper: <default>\n",
      "* layout: <same size as paper>\n",
      "* layoutoffset:(h,v)=(0.0pt,0.0pt)\n",
      "* modes: \n",
      "* h-part:(L,W,R)=(72.26999pt, 469.75502pt, 72.26999pt)\n",
      "* v-part:(T,H,B)=(72.26999pt, 650.43001pt, 72.26999pt)\n",
      "* \\paperwidth=614.295pt\n",
      "* \\paperheight=794.96999pt\n",
      "* \\textwidth=469.75502pt\n",
      "* \\textheight=650.43001pt\n",
      "* \\oddsidemargin=0.0pt\n",
      "* \\evensidemargin=0.0pt\n",
      "* \\topmargin=-37.0pt\n",
      "* \\headheight=12.0pt\n",
      "* \\headsep=25.0pt\n",
      "* \\topskip=10.0pt\n",
      "* \\footskip=30.0pt\n",
      "* \\marginparwidth=65.0pt\n",
      "* \\marginparsep=11.0pt\n",
      "* \\columnsep=10.0pt\n",
      "* \\skip\\footins=9.0pt plus 4.0pt minus 2.0pt\n",
      "* \\hoffset=0.0pt\n",
      "* \\voffset=0.0pt\n",
      "* \\mag=1000\n",
      "* \\@twocolumnfalse\n",
      "* \\@twosidefalse\n",
      "* \\@mparswitchfalse\n",
      "* \\@reversemarginfalse\n",
      "* (1in=72.27pt=25.4mm, 1cm=28.453pt)\n",
      "\n",
      "(/usr/local/texlive/2015/texmf-dist/tex/latex/ucs/ucsencs.def)\n",
      "(/usr/local/texlive/2015/texmf-dist/tex/latex/hyperref/nameref.sty\n",
      "(/usr/local/texlive/2015/texmf-dist/tex/generic/oberdiek/gettitlestring.sty))\n",
      "(/usr/local/texlive/2015/texmf-dist/tex/latex/amsfonts/umsa.fd)\n",
      "(/usr/local/texlive/2015/texmf-dist/tex/latex/amsfonts/umsb.fd)\n",
      "\n",
      "LaTeX Warning: No \\author given.\n",
      "\n",
      "(/usr/local/texlive/2015/texmf-dist/tex/latex/base/omscmr.fd)\n",
      "\n",
      "Package hyperref Warning: Difference (2) between bookmark levels is greater \n",
      "(hyperref)                than one, level fixed on input line 277.\n",
      "\n",
      "[1{/usr/local/texlive/2015/texmf-var/fonts/map/pdftex/updmap/pdftex.map}]\n",
      "[2] [3] [4] [5]\n",
      "\n",
      "LaTeX Font Warning: Font shape `OMS/cmtt/m/n' undefined\n",
      "(Font)              using `OMS/cmsy/m/n' instead\n",
      "(Font)              for symbol `textbackslash' on input line 693.\n",
      "\n",
      "[6] [7] [8] [9] [10]\n",
      "Overfull \\hbox (2.74086pt too wide) in paragraph at lines 1085--1085\n",
      "[]\\OT1/cmtt/m/n/10 genes = np.loadtxt(\"genes.csv\", delimiter=\",\", dtype=[('gene\n",
      "', '|S10'), ('value', '<f4')])[] \n",
      "[11] [12] [13] [14] [15] [16] [17] [18] [19] [20] [21] [22] [23]\n",
      "\n",
      "Package hyperref Warning: Difference (2) between bookmark levels is greater \n",
      "(hyperref)                than one, level fixed on input line 1997.\n",
      "\n",
      "[24] [25] [26] [27] [28] [29] [30] [31] [32] [33] [34] [35] [36] [37] [38]\n",
      "[39] [40] [41] [42] [43] [44] [45] [46] [47]\n",
      "Underfull \\hbox (badness 1342) in paragraph at lines 3462--3465\n",
      "[]\\OT1/cmr/m/n/10 To get back to the orig-i-nal Se-ries or NumPy ar-ray, use \\O\n",
      "T1/cmtt/m/n/10 Series.astype(original[]dtype) \\OT1/cmr/m/n/10 or\n",
      "[48] [49] [50] [51] [52] [53] [54] [55] [56] [57] [58] [59]\n",
      "! Undefined control sequence.\n",
      "<argument> how=\\textquotesingle \n",
      "                                {}all\\textquotesingle {}\n",
      "l.4323 ...\\textquotesingle{}all\\textquotesingle{}}\n",
      "                                                   argument, which\n",
      "? \n",
      "! Emergency stop.\n",
      "<argument> how=\\textquotesingle \n",
      "                                {}all\\textquotesingle {}\n",
      "l.4323 ...\\textquotesingle{}all\\textquotesingle{}}\n",
      "                                                   argument, which\n",
      "!  ==> Fatal error occurred, no output PDF file produced!\n",
      "Transcript written on notebook.log.\n",
      "\n",
      "[NbConvertApp] Running bibtex 1 time: ['bibtex', 'notebook']\n"
     ]
    },
    {
     "name": "stdout",
     "output_type": "stream",
     "text": [
      "[NbConvertApp] WARNING | bibtex had problems, most likely because there were no citations\n",
      "[NbConvertApp] Running pdflatex 3 times: ['pdflatex', 'notebook.tex']\n",
      "[NbConvertApp] CRITICAL | pdflatex failed: ['pdflatex', 'notebook.tex']\n",
      "This is pdfTeX, Version 3.14159265-2.6-1.40.16 (TeX Live 2015) (preloaded format=pdflatex)\n",
      " restricted \\write18 enabled.\n",
      "entering extended mode\n",
      "(./notebook.tex\n",
      "LaTeX2e <2015/01/01>\n",
      "Babel <3.9l> and hyphenation patterns for 79 languages loaded.\n",
      "(/usr/local/texlive/2015/texmf-dist/tex/latex/base/article.cls\n",
      "Document Class: article 2014/09/29 v1.4h Standard LaTeX document class\n",
      "(/usr/local/texlive/2015/texmf-dist/tex/latex/base/size10.clo))\n",
      "(/usr/local/texlive/2015/texmf-dist/tex/latex/graphics/graphicx.sty\n",
      "(/usr/local/texlive/2015/texmf-dist/tex/latex/graphics/keyval.sty)\n",
      "(/usr/local/texlive/2015/texmf-dist/tex/latex/graphics/graphics.sty\n",
      "(/usr/local/texlive/2015/texmf-dist/tex/latex/graphics/trig.sty)\n",
      "(/usr/local/texlive/2015/texmf-dist/tex/latex/latexconfig/graphics.cfg)\n",
      "(/usr/local/texlive/2015/texmf-dist/tex/latex/pdftex-def/pdftex.def\n",
      "(/usr/local/texlive/2015/texmf-dist/tex/generic/oberdiek/infwarerr.sty)\n",
      "(/usr/local/texlive/2015/texmf-dist/tex/generic/oberdiek/ltxcmds.sty))))\n",
      "(/usr/local/texlive/2015/texmf-dist/tex/latex/adjustbox/adjustbox.sty\n",
      "(/usr/local/texlive/2015/texmf-dist/tex/latex/xkeyval/xkeyval.sty\n",
      "(/usr/local/texlive/2015/texmf-dist/tex/generic/xkeyval/xkeyval.tex\n",
      "(/usr/local/texlive/2015/texmf-dist/tex/generic/xkeyval/xkvutils.tex)))\n",
      "(/usr/local/texlive/2015/texmf-dist/tex/latex/adjustbox/adjcalc.sty)\n",
      "(/usr/local/texlive/2015/texmf-dist/tex/latex/adjustbox/trimclip.sty\n",
      "(/usr/local/texlive/2015/texmf-dist/tex/latex/collectbox/collectbox.sty)\n",
      "(/usr/local/texlive/2015/texmf-dist/tex/latex/adjustbox/tc-pdftex.def))\n",
      "(/usr/local/texlive/2015/texmf-dist/tex/latex/ifoddpage/ifoddpage.sty)\n",
      "(/usr/local/texlive/2015/texmf-dist/tex/latex/varwidth/varwidth.sty))\n",
      "(/usr/local/texlive/2015/texmf-dist/tex/latex/graphics/color.sty\n",
      "(/usr/local/texlive/2015/texmf-dist/tex/latex/latexconfig/color.cfg))\n",
      "(/usr/local/texlive/2015/texmf-dist/tex/latex/tools/enumerate.sty)\n",
      "(/usr/local/texlive/2015/texmf-dist/tex/latex/geometry/geometry.sty\n",
      "(/usr/local/texlive/2015/texmf-dist/tex/generic/oberdiek/ifpdf.sty)\n",
      "(/usr/local/texlive/2015/texmf-dist/tex/generic/oberdiek/ifvtex.sty)\n",
      "(/usr/local/texlive/2015/texmf-dist/tex/generic/ifxetex/ifxetex.sty))\n",
      "(/usr/local/texlive/2015/texmf-dist/tex/latex/amsmath/amsmath.sty\n",
      "For additional information on amsmath, use the `?' option.\n",
      "(/usr/local/texlive/2015/texmf-dist/tex/latex/amsmath/amstext.sty\n",
      "(/usr/local/texlive/2015/texmf-dist/tex/latex/amsmath/amsgen.sty))\n",
      "(/usr/local/texlive/2015/texmf-dist/tex/latex/amsmath/amsbsy.sty)\n",
      "(/usr/local/texlive/2015/texmf-dist/tex/latex/amsmath/amsopn.sty))\n",
      "(/usr/local/texlive/2015/texmf-dist/tex/latex/amsfonts/amssymb.sty\n",
      "(/usr/local/texlive/2015/texmf-dist/tex/latex/amsfonts/amsfonts.sty))\n",
      "(/usr/local/texlive/2015/texmf-dist/tex/latex/eurosym/eurosym.sty)\n",
      "(/usr/local/texlive/2015/texmf-dist/tex/latex/ucs/ucs.sty\n",
      "(/usr/local/texlive/2015/texmf-dist/tex/latex/ucs/data/uni-global.def))\n",
      "(/usr/local/texlive/2015/texmf-dist/tex/latex/base/inputenc.sty\n",
      "(/usr/local/texlive/2015/texmf-dist/tex/latex/ucs/utf8x.def))\n",
      "(/usr/local/texlive/2015/texmf-dist/tex/latex/fancyvrb/fancyvrb.sty\n",
      "Style option: `fancyvrb' v2.7a, with DG/SPQR fixes, and firstline=lastline fix \n",
      "<2008/02/07> (tvz))\n",
      "(/usr/local/texlive/2015/texmf-dist/tex/latex/oberdiek/grffile.sty\n",
      "(/usr/local/texlive/2015/texmf-dist/tex/latex/oberdiek/kvoptions.sty\n",
      "(/usr/local/texlive/2015/texmf-dist/tex/generic/oberdiek/kvsetkeys.sty\n",
      "(/usr/local/texlive/2015/texmf-dist/tex/generic/oberdiek/etexcmds.sty\n",
      "(/usr/local/texlive/2015/texmf-dist/tex/generic/oberdiek/ifluatex.sty))))\n",
      "(/usr/local/texlive/2015/texmf-dist/tex/generic/oberdiek/pdftexcmds.sty))\n",
      "(/usr/local/texlive/2015/texmf-dist/tex/latex/hyperref/hyperref.sty\n",
      "(/usr/local/texlive/2015/texmf-dist/tex/generic/oberdiek/hobsub-hyperref.sty\n",
      "(/usr/local/texlive/2015/texmf-dist/tex/generic/oberdiek/hobsub-generic.sty))\n",
      "(/usr/local/texlive/2015/texmf-dist/tex/latex/oberdiek/auxhook.sty)\n",
      "(/usr/local/texlive/2015/texmf-dist/tex/latex/hyperref/pd1enc.def)\n",
      "(/usr/local/texlive/2015/texmf-dist/tex/latex/latexconfig/hyperref.cfg)\n",
      "(/usr/local/texlive/2015/texmf-dist/tex/latex/url/url.sty))\n",
      "\n",
      "Package hyperref Message: Driver (autodetected): hpdftex.\n",
      "\n",
      "(/usr/local/texlive/2015/texmf-dist/tex/latex/hyperref/hpdftex.def\n",
      "(/usr/local/texlive/2015/texmf-dist/tex/latex/oberdiek/rerunfilecheck.sty))\n",
      "(/usr/local/texlive/2015/texmf-dist/tex/latex/tools/longtable.sty)\n",
      "(/usr/local/texlive/2015/texmf-dist/tex/latex/booktabs/booktabs.sty)\n",
      "(/usr/local/texlive/2015/texmf-dist/tex/generic/ulem/ulem.sty) (./notebook.aux)\n",
      "(/usr/local/texlive/2015/texmf-dist/tex/context/base/supp-pdf.mkii\n",
      "[Loading MPS to PDF converter (version 2006.09.02).]\n",
      ") (/usr/local/texlive/2015/texmf-dist/tex/latex/oberdiek/epstopdf-base.sty\n",
      "(/usr/local/texlive/2015/texmf-dist/tex/latex/oberdiek/grfext.sty)\n",
      "(/usr/local/texlive/2015/texmf-dist/tex/latex/latexconfig/epstopdf-sys.cfg))\n",
      "*geometry* driver: auto-detecting\n",
      "*geometry* detected driver: pdftex\n",
      "\n",
      "Package geometry Warning: The marginal notes overrun the paper.\n",
      "     Add 3.73001pt and more to the right margin.\n",
      "\n",
      "*geometry* verbose mode - [ preamble ] result:\n",
      "* driver: pdftex\n",
      "* paper: <default>\n",
      "* layout: <same size as paper>\n",
      "* layoutoffset:(h,v)=(0.0pt,0.0pt)\n",
      "* modes: \n",
      "* h-part:(L,W,R)=(72.26999pt, 469.75502pt, 72.26999pt)\n",
      "* v-part:(T,H,B)=(72.26999pt, 650.43001pt, 72.26999pt)\n",
      "* \\paperwidth=614.295pt\n",
      "* \\paperheight=794.96999pt\n",
      "* \\textwidth=469.75502pt\n",
      "* \\textheight=650.43001pt\n",
      "* \\oddsidemargin=0.0pt\n",
      "* \\evensidemargin=0.0pt\n",
      "* \\topmargin=-37.0pt\n",
      "* \\headheight=12.0pt\n",
      "* \\headsep=25.0pt\n",
      "* \\topskip=10.0pt\n",
      "* \\footskip=30.0pt\n",
      "* \\marginparwidth=65.0pt\n",
      "* \\marginparsep=11.0pt\n",
      "* \\columnsep=10.0pt\n",
      "* \\skip\\footins=9.0pt plus 4.0pt minus 2.0pt\n",
      "* \\hoffset=0.0pt\n",
      "* \\voffset=0.0pt\n",
      "* \\mag=1000\n",
      "* \\@twocolumnfalse\n",
      "* \\@twosidefalse\n",
      "* \\@mparswitchfalse\n",
      "* \\@reversemarginfalse\n",
      "* (1in=72.27pt=25.4mm, 1cm=28.453pt)\n",
      "\n",
      "(/usr/local/texlive/2015/texmf-dist/tex/latex/ucs/ucsencs.def)\n",
      "(/usr/local/texlive/2015/texmf-dist/tex/latex/hyperref/nameref.sty\n",
      "(/usr/local/texlive/2015/texmf-dist/tex/generic/oberdiek/gettitlestring.sty))\n",
      "(./notebook.out) (./notebook.out)\n",
      "(/usr/local/texlive/2015/texmf-dist/tex/latex/amsfonts/umsa.fd)\n",
      "(/usr/local/texlive/2015/texmf-dist/tex/latex/amsfonts/umsb.fd)\n",
      "\n",
      "LaTeX Warning: No \\author given.\n",
      "\n",
      "(/usr/local/texlive/2015/texmf-dist/tex/latex/base/omscmr.fd)\n",
      "\n",
      "Package hyperref Warning: Difference (2) between bookmark levels is greater \n",
      "(hyperref)                than one, level fixed on input line 277.\n",
      "\n",
      "[1{/usr/local/texlive/2015/texmf-var/fonts/map/pdftex/updmap/pdftex.map}]\n",
      "[2] [3] [4] [5]\n",
      "\n",
      "LaTeX Font Warning: Font shape `OMS/cmtt/m/n' undefined\n",
      "(Font)              using `OMS/cmsy/m/n' instead\n",
      "(Font)              for symbol `textbackslash' on input line 693.\n",
      "\n",
      "[6] [7] [8] [9] [10]\n",
      "Overfull \\hbox (2.74086pt too wide) in paragraph at lines 1085--1085\n",
      "[]\\OT1/cmtt/m/n/10 genes = np.loadtxt(\"genes.csv\", delimiter=\",\", dtype=[('gene\n",
      "', '|S10'), ('value', '<f4')])[] \n",
      "[11] [12] [13] [14] [15] [16] [17] [18] [19] [20] [21] [22] [23]\n",
      "\n",
      "Package hyperref Warning: Difference (2) between bookmark levels is greater \n",
      "(hyperref)                than one, level fixed on input line 1997.\n",
      "\n",
      "[24] [25] [26] [27] [28] [29] [30] [31] [32] [33] [34] [35] [36] [37] [38]\n",
      "[39] [40] [41] [42] [43] [44] [45] [46] [47]\n",
      "Underfull \\hbox (badness 1342) in paragraph at lines 3462--3465\n",
      "[]\\OT1/cmr/m/n/10 To get back to the orig-i-nal Se-ries or NumPy ar-ray, use \\O\n",
      "T1/cmtt/m/n/10 Series.astype(original[]dtype) \\OT1/cmr/m/n/10 or\n",
      "[48] [49] [50] [51] [52] [53] [54] [55] [56] [57] [58] [59]\n",
      "! Undefined control sequence.\n",
      "<argument> how=\\textquotesingle \n",
      "                                {}all\\textquotesingle {}\n",
      "l.4323 ...\\textquotesingle{}all\\textquotesingle{}}\n",
      "                                                   argument, which\n",
      "? \n",
      "! Emergency stop.\n",
      "<argument> how=\\textquotesingle \n",
      "                                {}all\\textquotesingle {}\n",
      "l.4323 ...\\textquotesingle{}all\\textquotesingle{}}\n",
      "                                                   argument, which\n",
      "!  ==> Fatal error occurred, no output PDF file produced!\n",
      "Transcript written on notebook.log.\n",
      "\n",
      "Traceback (most recent call last):\n",
      "  File \"/Users/fonnescj/anaconda3/bin/jupyter-nbconvert\", line 11, in <module>\n",
      "    sys.exit(main())\n",
      "  File \"/Users/fonnescj/anaconda3/lib/python3.5/site-packages/jupyter_core/application.py\", line 267, in launch_instance\n",
      "    return super(JupyterApp, cls).launch_instance(argv=argv, **kwargs)\n",
      "  File \"/Users/fonnescj/anaconda3/lib/python3.5/site-packages/traitlets/config/application.py\", line 596, in launch_instance\n",
      "    app.start()\n",
      "  File \"/Users/fonnescj/anaconda3/lib/python3.5/site-packages/nbconvert/nbconvertapp.py\", line 289, in start\n",
      "    self.convert_notebooks()\n",
      "  File \"/Users/fonnescj/anaconda3/lib/python3.5/site-packages/nbconvert/nbconvertapp.py\", line 412, in convert_notebooks\n",
      "    self.convert_single_notebook(notebook_filename)\n",
      "  File \"/Users/fonnescj/anaconda3/lib/python3.5/site-packages/nbconvert/nbconvertapp.py\", line 383, in convert_single_notebook\n",
      "    output, resources = self.export_single_notebook(notebook_filename, resources)\n",
      "  File \"/Users/fonnescj/anaconda3/lib/python3.5/site-packages/nbconvert/nbconvertapp.py\", line 335, in export_single_notebook\n",
      "    output, resources = self.exporter.from_filename(notebook_filename, resources=resources)\n",
      "  File \"/Users/fonnescj/anaconda3/lib/python3.5/site-packages/nbconvert/exporters/exporter.py\", line 165, in from_filename\n",
      "    return self.from_notebook_node(nbformat.read(f, as_version=4), resources=resources, **kw)\n",
      "  File \"/Users/fonnescj/anaconda3/lib/python3.5/site-packages/nbconvert/exporters/pdf.py\", line 152, in from_notebook_node\n",
      "    raise IOError(\"PDF creating failed\")\n",
      "OSError: PDF creating failed\n"
     ]
    }
   ],
   "source": [
    "!jupyter nbconvert --to pdf \"Introduction to pandas.ipynb\""
   ]
  },
  {
   "cell_type": "markdown",
   "metadata": {},
   "source": [
    "A very useful online service is the [IPython Notebook Viewer](http://nbviewer.ipython.org) which allows you to display your notebook as a static HTML page, which is useful for sharing with others:"
   ]
  },
  {
   "cell_type": "code",
   "execution_count": 52,
   "metadata": {
    "collapsed": false
   },
   "outputs": [
    {
     "data": {
      "text/html": [
       "\n",
       "        <iframe\n",
       "            width=\"100%\"\n",
       "            height=\"350\"\n",
       "            src=\"http://nbviewer.ipython.org/2352771\"\n",
       "            frameborder=\"0\"\n",
       "            allowfullscreen\n",
       "        ></iframe>\n",
       "        "
      ],
      "text/plain": [
       "<IPython.lib.display.IFrame at 0x10d26da58>"
      ]
     },
     "execution_count": 52,
     "metadata": {},
     "output_type": "execute_result"
    }
   ],
   "source": [
    "IFrame(\"http://nbviewer.ipython.org/2352771\", width='100%', height=350)"
   ]
  },
  {
   "cell_type": "markdown",
   "metadata": {},
   "source": [
    "As of this year, GitHub supports the [rendering of Jupyter Notebooks](https://github.com/fonnesbeck/Bios8366/blob/master/notebooks/Section1_2-Programming-with-Python.ipynb) stored on its repositories."
   ]
  },
  {
   "cell_type": "markdown",
   "metadata": {},
   "source": [
    "## Reproducible Research\n",
    "\n",
    "> reproducing conclusions from a single experiment based on the measurements from that experiment\n",
    "\n",
    "The most basic form of reproducibility is a complete description of the data and associated analyses (including code!) so the results can be *exactly* reproduced by others.\n",
    "\n",
    "Reproducing calculations can be onerous, even with one's own work!\n",
    "\n",
    "Scientific data are becoming larger and more complex, making simple descriptions inadequate for reproducibility. As a result, most modern research is irreproducible without tremendous effort.\n",
    "\n",
    "*** Reproducible research is not yet part of the culture of science in general, or scientific computing in particular. ***"
   ]
  },
  {
   "cell_type": "markdown",
   "metadata": {},
   "source": [
    "## Scientific Computing Workflow\n",
    "\n",
    "There are a number of steps to scientific endeavors that involve computing:\n",
    "\n",
    "![workflow](http://f.cl.ly/items/3B0l063n2T0H1p041U3L/workflow.png)\n",
    "\n",
    "\n",
    "Many of the standard tools impose barriers between one or more of these steps. This can make it difficult to iterate, reproduce work.\n",
    "\n",
    "The Jupyter notebook eliminates or reduces these barriers to reproducibility."
   ]
  },
  {
   "cell_type": "markdown",
   "metadata": {},
   "source": [
    "## Parallel IPython\n",
    "\n",
    "The IPython architecture consists of four components, which reside in the `ipyparallel` package:\n",
    "\n",
    "1. **Engine** The IPython engine is a Python instance that accepts Python commands over a network connection.  When multiple engines are started, parallel and distributed computing becomes possible. An important property of an IPython engine is that it blocks while user code is being executed. \n",
    "\n",
    "2. **Hub** The hub keeps track of engine connections, schedulers, clients, as well as persist all task requests and results in a database for later use.\n",
    "\n",
    "3. **Schedulers** All actions that can be performed on the engine go through a Scheduler. While the engines themselves block when user code is run, the schedulers hide that from the user to provide a fully asynchronous interface to a set of engines.\n",
    "\n",
    "4. **Client** The primary object for connecting to a cluster.\n",
    "\n",
    "![IPython architecture](images/ipython_architecture.png)\n",
    "(courtesy Min Ragan-Kelley)\n",
    "\n",
    "This architecture is implemented using the ØMQ messaging library and the associated Python bindings in `pyzmq`.\n",
    "\n",
    "### Running parallel IPython\n",
    "\n",
    "To enable the IPython Clusters tab in Jupyter Notebook:\n",
    "\n",
    "    ipcluster nbextension enable\n",
    "    \n",
    "When you then start a Jupyter session, you should see the following in your **IPython Clusters** tab:    \n",
    "\n",
    "![parallel tab](images/parallel_tab.png)"
   ]
  },
  {
   "cell_type": "markdown",
   "metadata": {},
   "source": [
    "Before running the next cell, make sure you have first started your cluster, you can use the [clusters tab in the dashboard](/#tab2) to do so.  \n",
    "\n",
    "Select the number if IPython engines (nodes) that you want to use, then click **Start**."
   ]
  },
  {
   "cell_type": "code",
   "execution_count": 5,
   "metadata": {
    "collapsed": false
   },
   "outputs": [],
   "source": [
    "from ipyparallel import Client\n",
    "client = Client()\n",
    "dv = client.direct_view()"
   ]
  },
  {
   "cell_type": "code",
   "execution_count": 17,
   "metadata": {
    "collapsed": false
   },
   "outputs": [
    {
     "data": {
      "text/plain": [
       "2"
      ]
     },
     "execution_count": 17,
     "metadata": {},
     "output_type": "execute_result"
    }
   ],
   "source": [
    "len(dv)"
   ]
  },
  {
   "cell_type": "code",
   "execution_count": 7,
   "metadata": {
    "collapsed": false
   },
   "outputs": [],
   "source": [
    "def where_am_i():\n",
    "    import os\n",
    "    import socket\n",
    "    \n",
    "    return \"In process with pid {0} on host: '{1}'\".format(\n",
    "        os.getpid(), socket.gethostname())"
   ]
  },
  {
   "cell_type": "code",
   "execution_count": 8,
   "metadata": {
    "collapsed": false
   },
   "outputs": [
    {
     "data": {
      "text/plain": [
       "[\"In process with pid 3925 on host: 'Christy.local'\",\n",
       " \"In process with pid 3926 on host: 'Christy.local'\"]"
      ]
     },
     "execution_count": 8,
     "metadata": {},
     "output_type": "execute_result"
    }
   ],
   "source": [
    "where_am_i_direct_results = dv.apply(where_am_i)\n",
    "where_am_i_direct_results.get()"
   ]
  },
  {
   "cell_type": "markdown",
   "metadata": {},
   "source": [
    "Let's now consider a useful function that we might want to run in parallel. Here is a version of the approximate Bayesian computing (ABC) algorithm."
   ]
  },
  {
   "cell_type": "code",
   "execution_count": 13,
   "metadata": {
    "collapsed": true
   },
   "outputs": [],
   "source": [
    "import numpy\n",
    "\n",
    "def abc(y, N, epsilon=[0.2, 0.8]):\n",
    "    \n",
    "    trace = []\n",
    "\n",
    "    while len(trace) < N:\n",
    "\n",
    "        # Simulate from priors\n",
    "        mu = numpy.random.normal(0, 10)\n",
    "        sigma = numpy.random.uniform(0, 20)\n",
    "\n",
    "        x = numpy.random.normal(mu, sigma, 50)\n",
    "\n",
    "        #if (np.linalg.norm(y - x) < epsilon):\n",
    "        if ((abs(x.mean() - y.mean()) < epsilon[0]) &\n",
    "            (abs(x.std() - y.std()) < epsilon[1])):\n",
    "            trace.append([mu, sigma])\n",
    "\n",
    "    return trace"
   ]
  },
  {
   "cell_type": "code",
   "execution_count": 14,
   "metadata": {
    "collapsed": true
   },
   "outputs": [],
   "source": [
    "y = numpy.random.normal(4, 2, 50)"
   ]
  },
  {
   "cell_type": "markdown",
   "metadata": {},
   "source": [
    "Let's try running this on one of the cluster engines:"
   ]
  },
  {
   "cell_type": "code",
   "execution_count": 19,
   "metadata": {
    "collapsed": false
   },
   "outputs": [
    {
     "ename": "RemoteError",
     "evalue": "NameError(name 'numpy' is not defined)",
     "output_type": "error",
     "traceback": [
      "\u001b[0;31m---------------------------------------------------------------------------\u001b[0m\u001b[0;31mNameError\u001b[0m                                 Traceback (most recent call last)\u001b[0;32m<string>\u001b[0m in \u001b[0;36m<module>\u001b[0;34m()\u001b[0m",
      "\u001b[0;32m<ipython-input-13-02c6cbe59268>\u001b[0m in \u001b[0;36mabc\u001b[0;34m(y, N, epsilon)\u001b[0m",
      "\u001b[0;31mNameError\u001b[0m: name 'numpy' is not defined"
     ]
    }
   ],
   "source": [
    "dv0 = client[0]\n",
    "dv0.block = True\n",
    "dv0.apply(abc, y, 10)"
   ]
  },
  {
   "cell_type": "markdown",
   "metadata": {},
   "source": [
    "This fails with a NameError because NumPy has not been imported on the engine to which we sent the task. Each engine has its own namespace, so we need to import whatever modules we will need prior to running our code:"
   ]
  },
  {
   "cell_type": "code",
   "execution_count": 20,
   "metadata": {
    "collapsed": false
   },
   "outputs": [
    {
     "data": {
      "text/plain": [
       "<AsyncResult: finished>"
      ]
     },
     "execution_count": 20,
     "metadata": {},
     "output_type": "execute_result"
    }
   ],
   "source": [
    "dv0.execute(\"import numpy\")"
   ]
  },
  {
   "cell_type": "code",
   "execution_count": 21,
   "metadata": {
    "collapsed": false
   },
   "outputs": [
    {
     "data": {
      "text/plain": [
       "[[3.0152846568653553, 2.422755759125257],\n",
       " [3.292838310564479, 2.010287192046485],\n",
       " [3.320122113427388, 1.1651657191737907],\n",
       " [3.340629034008419, 1.3062424612698886],\n",
       " [3.224530975634342, 1.1448315799681308],\n",
       " [3.2626138889201246, 1.827252438883482],\n",
       " [3.6575625278505726, 2.110230362826364],\n",
       " [3.3533991490934763, 1.3654654478007866],\n",
       " [3.6219769707188867, 2.614583098797727],\n",
       " [2.999545358840633, 1.7356029090221714]]"
      ]
     },
     "execution_count": 21,
     "metadata": {},
     "output_type": "execute_result"
    }
   ],
   "source": [
    "dv0.apply(abc, y, 10)"
   ]
  },
  {
   "cell_type": "markdown",
   "metadata": {},
   "source": [
    "An easier approach is to use the parallel cell magic to import everywhere:"
   ]
  },
  {
   "cell_type": "code",
   "execution_count": 22,
   "metadata": {
    "collapsed": true
   },
   "outputs": [],
   "source": [
    "%%px\n",
    "import numpy"
   ]
  },
  {
   "cell_type": "markdown",
   "metadata": {},
   "source": [
    "This magic can be used to execute the same code on all nodes."
   ]
  },
  {
   "cell_type": "code",
   "execution_count": 23,
   "metadata": {
    "collapsed": false
   },
   "outputs": [
    {
     "name": "stdout",
     "output_type": "stream",
     "text": [
      "[stdout:0] 3925\n",
      "[stdout:1] 3926\n"
     ]
    }
   ],
   "source": [
    "%%px \n",
    "import os\n",
    "print(os.getpid())"
   ]
  },
  {
   "cell_type": "code",
   "execution_count": 29,
   "metadata": {
    "collapsed": false
   },
   "outputs": [
    {
     "data": {
      "text/plain": [
       "[output:0]"
      ]
     },
     "metadata": {},
     "output_type": "display_data"
    },
    {
     "data": {
      "image/png": "[encoded data removed]",
      "text/plain": [
       "<matplotlib.figure.Figure at 0x108c262e8>"
      ]
     },
     "metadata": {
      "engine": 0
     },
     "output_type": "display_data"
    },
    {
     "data": {
      "text/plain": [
       "[output:1]"
      ]
     },
     "metadata": {},
     "output_type": "display_data"
    },
    {
     "data": {
      "image/png": "[encoded data removed]",
      "text/plain": [
       "<matplotlib.figure.Figure at 0x108827f98>"
      ]
     },
     "metadata": {
      "engine": 1
     },
     "output_type": "display_data"
    }
   ],
   "source": [
    "%%px \n",
    "%matplotlib inline\n",
    "import matplotlib.pyplot as plt\n",
    "import os\n",
    "tsamples = numpy.random.randn(100)\n",
    "plt.hist(tsamples)\n",
    "_ = plt.title('PID %i' % os.getpid())"
   ]
  },
  {
   "cell_type": "markdown",
   "metadata": {},
   "source": [
    "## Links and References"
   ]
  },
  {
   "cell_type": "markdown",
   "metadata": {},
   "source": [
    "* [IPython Notebook Viewer](http://nbviewer.ipython.org) Displays static HTML versions of notebooks, and includes a gallery of notebook examples.\n",
    "\n",
    "* [A Reference-Free Algorithm for Computational Normalization of Shotgun Sequencing Data](http://ged.msu.edu/papers/2012-diginorm/) A landmark example of reproducible research in genomics: Git repo, iPython notebook, data and scripts.\n",
    "\n",
    "* Jacques Ravel and K Eric Wommack. 2014. [All Hail Reproducibility in Microbiome Research](http://www.microbiomejournal.com/content/pdf/2049-2618-2-8.pdf). Microbiome, 2:8.\n",
    "\n",
    "* Benjamin Ragan-Kelley et al.. 2013. [Collaborative cloud-enabled tools allow rapid, reproducible biological insights](http://www.nature.com/ismej/journal/v7/n3/full/ismej2012123a.html). The ISME Journal, 7, 461–464; doi:10.1038/ismej.2012.123;"
   ]
  }
 ],
 "metadata": {
  "kernelspec": {
   "display_name": "Python 3",
   "language": "python",
   "name": "python3"
  },
  "language_info": {
   "codemirror_mode": {
    "name": "ipython",
    "version": 3
   },
   "file_extension": ".py",
   "mimetype": "text/x-python",
   "name": "python",
   "nbconvert_exporter": "python",
   "pygments_lexer": "ipython3",
   "version": "3.5.1"
  }
 },
 "nbformat": 4,
 "nbformat_minor": 1
}
